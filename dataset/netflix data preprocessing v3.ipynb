{
 "cells": [
  {
   "cell_type": "markdown",
   "id": "8fe81508-17fd-4ea8-b141-052a2b915652",
   "metadata": {
    "jp-MarkdownHeadingCollapsed": true
   },
   "source": [
    "## Tasks:"
   ]
  },
  {
   "cell_type": "markdown",
   "id": "4a728a5d-2bd5-49b5-aeca-89be11d91a34",
   "metadata": {},
   "source": [
    "- handle missing data\n",
    "- ensure data format standardization\n",
    "- database normalization\n",
    "    - design relational database model\n",
    "    - unpack attributes with multiple values into a different table: director, cast, country, listed_in\n",
    "        - create parent table and mapping table\n",
    "        - rename listed_in to category\n",
    "    - create parent table of rating\n",
    "    - create separate parent table of duration for movie and tv show\n",
    "- load into database"
   ]
  },
  {
   "cell_type": "markdown",
   "id": "e07f5e86-7aee-4b80-aae5-006bc03ceba2",
   "metadata": {
    "jp-MarkdownHeadingCollapsed": true
   },
   "source": [
    "## Data Extraction"
   ]
  },
  {
   "cell_type": "code",
   "execution_count": 2,
   "id": "3580e9a3-123b-4df7-9975-dcc77d365e94",
   "metadata": {},
   "outputs": [],
   "source": [
    "import pandas as pd\n",
    "import numpy as np\n",
    "import mysql.connector\n",
    "from dateutil import parser"
   ]
  },
  {
   "cell_type": "code",
   "execution_count": 2,
   "id": "6bde9b9e-0816-4a10-961e-68586598ff62",
   "metadata": {
    "scrolled": true
   },
   "outputs": [
    {
     "data": {
      "text/html": [
       "<div>\n",
       "<style scoped>\n",
       "    .dataframe tbody tr th:only-of-type {\n",
       "        vertical-align: middle;\n",
       "    }\n",
       "\n",
       "    .dataframe tbody tr th {\n",
       "        vertical-align: top;\n",
       "    }\n",
       "\n",
       "    .dataframe thead th {\n",
       "        text-align: right;\n",
       "    }\n",
       "</style>\n",
       "<table border=\"1\" class=\"dataframe\">\n",
       "  <thead>\n",
       "    <tr style=\"text-align: right;\">\n",
       "      <th></th>\n",
       "      <th>show_id</th>\n",
       "      <th>type</th>\n",
       "      <th>title</th>\n",
       "      <th>director</th>\n",
       "      <th>cast</th>\n",
       "      <th>country</th>\n",
       "      <th>date_added</th>\n",
       "      <th>release_year</th>\n",
       "      <th>rating</th>\n",
       "      <th>duration</th>\n",
       "      <th>listed_in</th>\n",
       "      <th>description</th>\n",
       "    </tr>\n",
       "  </thead>\n",
       "  <tbody>\n",
       "    <tr>\n",
       "      <th>0</th>\n",
       "      <td>s1</td>\n",
       "      <td>Movie</td>\n",
       "      <td>Dick Johnson Is Dead</td>\n",
       "      <td>Kirsten Johnson</td>\n",
       "      <td>NaN</td>\n",
       "      <td>United States</td>\n",
       "      <td>September 25, 2021</td>\n",
       "      <td>2020</td>\n",
       "      <td>PG-13</td>\n",
       "      <td>90 min</td>\n",
       "      <td>Documentaries</td>\n",
       "      <td>As her father nears the end of his life, filmm...</td>\n",
       "    </tr>\n",
       "    <tr>\n",
       "      <th>1</th>\n",
       "      <td>s2</td>\n",
       "      <td>TV Show</td>\n",
       "      <td>Blood &amp; Water</td>\n",
       "      <td>NaN</td>\n",
       "      <td>Ama Qamata, Khosi Ngema, Gail Mabalane, Thaban...</td>\n",
       "      <td>South Africa</td>\n",
       "      <td>September 24, 2021</td>\n",
       "      <td>2021</td>\n",
       "      <td>TV-MA</td>\n",
       "      <td>2 Seasons</td>\n",
       "      <td>International TV Shows, TV Dramas, TV Mysteries</td>\n",
       "      <td>After crossing paths at a party, a Cape Town t...</td>\n",
       "    </tr>\n",
       "    <tr>\n",
       "      <th>2</th>\n",
       "      <td>s3</td>\n",
       "      <td>TV Show</td>\n",
       "      <td>Ganglands</td>\n",
       "      <td>Julien Leclercq</td>\n",
       "      <td>Sami Bouajila, Tracy Gotoas, Samuel Jouy, Nabi...</td>\n",
       "      <td>NaN</td>\n",
       "      <td>September 24, 2021</td>\n",
       "      <td>2021</td>\n",
       "      <td>TV-MA</td>\n",
       "      <td>1 Season</td>\n",
       "      <td>Crime TV Shows, International TV Shows, TV Act...</td>\n",
       "      <td>To protect his family from a powerful drug lor...</td>\n",
       "    </tr>\n",
       "    <tr>\n",
       "      <th>3</th>\n",
       "      <td>s4</td>\n",
       "      <td>TV Show</td>\n",
       "      <td>Jailbirds New Orleans</td>\n",
       "      <td>NaN</td>\n",
       "      <td>NaN</td>\n",
       "      <td>NaN</td>\n",
       "      <td>September 24, 2021</td>\n",
       "      <td>2021</td>\n",
       "      <td>TV-MA</td>\n",
       "      <td>1 Season</td>\n",
       "      <td>Docuseries, Reality TV</td>\n",
       "      <td>Feuds, flirtations and toilet talk go down amo...</td>\n",
       "    </tr>\n",
       "    <tr>\n",
       "      <th>4</th>\n",
       "      <td>s5</td>\n",
       "      <td>TV Show</td>\n",
       "      <td>Kota Factory</td>\n",
       "      <td>NaN</td>\n",
       "      <td>Mayur More, Jitendra Kumar, Ranjan Raj, Alam K...</td>\n",
       "      <td>India</td>\n",
       "      <td>September 24, 2021</td>\n",
       "      <td>2021</td>\n",
       "      <td>TV-MA</td>\n",
       "      <td>2 Seasons</td>\n",
       "      <td>International TV Shows, Romantic TV Shows, TV ...</td>\n",
       "      <td>In a city of coaching centers known to train I...</td>\n",
       "    </tr>\n",
       "  </tbody>\n",
       "</table>\n",
       "</div>"
      ],
      "text/plain": [
       "  show_id     type                  title         director  \\\n",
       "0      s1    Movie   Dick Johnson Is Dead  Kirsten Johnson   \n",
       "1      s2  TV Show          Blood & Water              NaN   \n",
       "2      s3  TV Show              Ganglands  Julien Leclercq   \n",
       "3      s4  TV Show  Jailbirds New Orleans              NaN   \n",
       "4      s5  TV Show           Kota Factory              NaN   \n",
       "\n",
       "                                                cast        country  \\\n",
       "0                                                NaN  United States   \n",
       "1  Ama Qamata, Khosi Ngema, Gail Mabalane, Thaban...   South Africa   \n",
       "2  Sami Bouajila, Tracy Gotoas, Samuel Jouy, Nabi...            NaN   \n",
       "3                                                NaN            NaN   \n",
       "4  Mayur More, Jitendra Kumar, Ranjan Raj, Alam K...          India   \n",
       "\n",
       "           date_added  release_year rating   duration  \\\n",
       "0  September 25, 2021          2020  PG-13     90 min   \n",
       "1  September 24, 2021          2021  TV-MA  2 Seasons   \n",
       "2  September 24, 2021          2021  TV-MA   1 Season   \n",
       "3  September 24, 2021          2021  TV-MA   1 Season   \n",
       "4  September 24, 2021          2021  TV-MA  2 Seasons   \n",
       "\n",
       "                                           listed_in  \\\n",
       "0                                      Documentaries   \n",
       "1    International TV Shows, TV Dramas, TV Mysteries   \n",
       "2  Crime TV Shows, International TV Shows, TV Act...   \n",
       "3                             Docuseries, Reality TV   \n",
       "4  International TV Shows, Romantic TV Shows, TV ...   \n",
       "\n",
       "                                         description  \n",
       "0  As her father nears the end of his life, filmm...  \n",
       "1  After crossing paths at a party, a Cape Town t...  \n",
       "2  To protect his family from a powerful drug lor...  \n",
       "3  Feuds, flirtations and toilet talk go down amo...  \n",
       "4  In a city of coaching centers known to train I...  "
      ]
     },
     "execution_count": 2,
     "metadata": {},
     "output_type": "execute_result"
    }
   ],
   "source": [
    "df = pd.read_csv(\"netflix_titles.csv\")\n",
    "df.head()"
   ]
  },
  {
   "cell_type": "markdown",
   "id": "6d82a7c7-8296-44cd-8180-ce2086a47566",
   "metadata": {
    "jp-MarkdownHeadingCollapsed": true
   },
   "source": [
    "## RDB model design"
   ]
  },
  {
   "attachments": {
    "34f5d398-532f-4818-934e-d6ae2917185a.png": {
     "image/png": "[encoded data removed]"
    },
    "67b004bb-8a62-408d-bc18-14d61a5a1031.png": {
     "image/png": "[encoded data removed]"
    }
   },
   "cell_type": "markdown",
   "id": "97381c93-503b-40f7-8fd4-d820ebb1103e",
   "metadata": {},
   "source": [
    "original table  \n",
    "![image.png](attachment:67b004bb-8a62-408d-bc18-14d61a5a1031.png)  \n",
    "normalized table (listed_in renamed to categories) (design in draw.io)  \n",
    "![image.png](attachment:34f5d398-532f-4818-934e-d6ae2917185a.png)  "
   ]
  },
  {
   "cell_type": "markdown",
   "id": "54598751-6c33-4790-ac2c-6c0d9b39056b",
   "metadata": {
    "jp-MarkdownHeadingCollapsed": true
   },
   "source": [
    "## handle missing data"
   ]
  },
  {
   "cell_type": "markdown",
   "id": "a1dc227d-7679-4b96-bcaa-db184f3a2779",
   "metadata": {},
   "source": [
    "- replace missing data with \"unknown\""
   ]
  },
  {
   "cell_type": "code",
   "execution_count": 3,
   "id": "95236cc2-29d6-4e10-a2d8-74bfcda7e7dc",
   "metadata": {},
   "outputs": [
    {
     "data": {
      "text/plain": [
       "Index(['show_id', 'type', 'title', 'director', 'cast', 'country', 'date_added',\n",
       "       'release_year', 'rating', 'duration', 'listed_in', 'description'],\n",
       "      dtype='object')"
      ]
     },
     "execution_count": 3,
     "metadata": {},
     "output_type": "execute_result"
    }
   ],
   "source": [
    "df.columns"
   ]
  },
  {
   "cell_type": "code",
   "execution_count": 4,
   "id": "b96a7f95-ba0a-4098-82fe-3bffa0d4735b",
   "metadata": {},
   "outputs": [
    {
     "name": "stdout",
     "output_type": "stream",
     "text": [
      "<class 'pandas.core.frame.DataFrame'>\n",
      "RangeIndex: 8807 entries, 0 to 8806\n",
      "Data columns (total 12 columns):\n",
      " #   Column        Non-Null Count  Dtype \n",
      "---  ------        --------------  ----- \n",
      " 0   show_id       8807 non-null   object\n",
      " 1   type          8807 non-null   object\n",
      " 2   title         8807 non-null   object\n",
      " 3   director      6173 non-null   object\n",
      " 4   cast          7982 non-null   object\n",
      " 5   country       7976 non-null   object\n",
      " 6   date_added    8797 non-null   object\n",
      " 7   release_year  8807 non-null   int64 \n",
      " 8   rating        8803 non-null   object\n",
      " 9   duration      8804 non-null   object\n",
      " 10  listed_in     8807 non-null   object\n",
      " 11  description   8807 non-null   object\n",
      "dtypes: int64(1), object(11)\n",
      "memory usage: 825.8+ KB\n"
     ]
    }
   ],
   "source": [
    "df.info()"
   ]
  },
  {
   "cell_type": "markdown",
   "id": "7fcd619c-db6f-45b4-ba06-ce8d3e86ab9a",
   "metadata": {},
   "source": [
    "- director, cast, and country are missing a lot of data. replace with unknown instead\n",
    "- but date_added, rating, and duration are only missing a few records. research online and replace with correct value"
   ]
  },
  {
   "cell_type": "code",
   "execution_count": 5,
   "id": "d0bff8c3-d99b-49d9-9e5e-ba00a98fc173",
   "metadata": {},
   "outputs": [],
   "source": [
    "df[\"director\"] = df[\"director\"].str.strip()"
   ]
  },
  {
   "cell_type": "code",
   "execution_count": 6,
   "id": "50a8bfd6-e998-4b0d-89c6-8818b2b2d5a5",
   "metadata": {},
   "outputs": [],
   "source": [
    "df[\"director\"] = df[\"director\"].fillna(\"unknown\")"
   ]
  },
  {
   "cell_type": "code",
   "execution_count": 7,
   "id": "11a91e9c-6a44-4bce-bb99-d0e32c14ba75",
   "metadata": {},
   "outputs": [],
   "source": [
    "df[\"cast\"] = df[\"cast\"].str.strip()"
   ]
  },
  {
   "cell_type": "code",
   "execution_count": 8,
   "id": "7cacf113-756b-4772-bae4-2eec0514659f",
   "metadata": {},
   "outputs": [],
   "source": [
    "df[\"cast\"] = df[\"cast\"].fillna(\"unknown\")"
   ]
  },
  {
   "cell_type": "code",
   "execution_count": 9,
   "id": "d78aab74-9bb2-4df6-824d-8bc9ddffe593",
   "metadata": {},
   "outputs": [],
   "source": [
    "df[\"country\"] = df[\"country\"].str.strip()"
   ]
  },
  {
   "cell_type": "code",
   "execution_count": 10,
   "id": "47910dbd-31de-42d0-8929-76b6510bb5de",
   "metadata": {},
   "outputs": [],
   "source": [
    "df[\"country\"] = df[\"country\"].fillna(\"unknown\")"
   ]
  },
  {
   "cell_type": "code",
   "execution_count": 11,
   "id": "01d98a37-c14b-42d8-a6a8-4385028bba77",
   "metadata": {},
   "outputs": [
    {
     "data": {
      "text/html": [
       "<div>\n",
       "<style scoped>\n",
       "    .dataframe tbody tr th:only-of-type {\n",
       "        vertical-align: middle;\n",
       "    }\n",
       "\n",
       "    .dataframe tbody tr th {\n",
       "        vertical-align: top;\n",
       "    }\n",
       "\n",
       "    .dataframe thead th {\n",
       "        text-align: right;\n",
       "    }\n",
       "</style>\n",
       "<table border=\"1\" class=\"dataframe\">\n",
       "  <thead>\n",
       "    <tr style=\"text-align: right;\">\n",
       "      <th></th>\n",
       "      <th>show_id</th>\n",
       "      <th>type</th>\n",
       "      <th>title</th>\n",
       "      <th>director</th>\n",
       "      <th>cast</th>\n",
       "      <th>country</th>\n",
       "      <th>date_added</th>\n",
       "      <th>release_year</th>\n",
       "      <th>rating</th>\n",
       "      <th>duration</th>\n",
       "      <th>listed_in</th>\n",
       "      <th>description</th>\n",
       "    </tr>\n",
       "  </thead>\n",
       "  <tbody>\n",
       "    <tr>\n",
       "      <th>6066</th>\n",
       "      <td>s6067</td>\n",
       "      <td>TV Show</td>\n",
       "      <td>A Young Doctor's Notebook and Other Stories</td>\n",
       "      <td>unknown</td>\n",
       "      <td>Daniel Radcliffe, Jon Hamm, Adam Godley, Chris...</td>\n",
       "      <td>United Kingdom</td>\n",
       "      <td>NaN</td>\n",
       "      <td>2013</td>\n",
       "      <td>TV-MA</td>\n",
       "      <td>2 Seasons</td>\n",
       "      <td>British TV Shows, TV Comedies, TV Dramas</td>\n",
       "      <td>Set during the Russian Revolution, this comic ...</td>\n",
       "    </tr>\n",
       "    <tr>\n",
       "      <th>6174</th>\n",
       "      <td>s6175</td>\n",
       "      <td>TV Show</td>\n",
       "      <td>Anthony Bourdain: Parts Unknown</td>\n",
       "      <td>unknown</td>\n",
       "      <td>Anthony Bourdain</td>\n",
       "      <td>United States</td>\n",
       "      <td>NaN</td>\n",
       "      <td>2018</td>\n",
       "      <td>TV-PG</td>\n",
       "      <td>5 Seasons</td>\n",
       "      <td>Docuseries</td>\n",
       "      <td>This CNN original series has chef Anthony Bour...</td>\n",
       "    </tr>\n",
       "    <tr>\n",
       "      <th>6795</th>\n",
       "      <td>s6796</td>\n",
       "      <td>TV Show</td>\n",
       "      <td>Frasier</td>\n",
       "      <td>unknown</td>\n",
       "      <td>Kelsey Grammer, Jane Leeves, David Hyde Pierce...</td>\n",
       "      <td>United States</td>\n",
       "      <td>NaN</td>\n",
       "      <td>2003</td>\n",
       "      <td>TV-PG</td>\n",
       "      <td>11 Seasons</td>\n",
       "      <td>Classic &amp; Cult TV, TV Comedies</td>\n",
       "      <td>Frasier Crane is a snooty but lovable Seattle ...</td>\n",
       "    </tr>\n",
       "    <tr>\n",
       "      <th>6806</th>\n",
       "      <td>s6807</td>\n",
       "      <td>TV Show</td>\n",
       "      <td>Friends</td>\n",
       "      <td>unknown</td>\n",
       "      <td>Jennifer Aniston, Courteney Cox, Lisa Kudrow, ...</td>\n",
       "      <td>United States</td>\n",
       "      <td>NaN</td>\n",
       "      <td>2003</td>\n",
       "      <td>TV-14</td>\n",
       "      <td>10 Seasons</td>\n",
       "      <td>Classic &amp; Cult TV, TV Comedies</td>\n",
       "      <td>This hit sitcom follows the merry misadventure...</td>\n",
       "    </tr>\n",
       "    <tr>\n",
       "      <th>6901</th>\n",
       "      <td>s6902</td>\n",
       "      <td>TV Show</td>\n",
       "      <td>Gunslinger Girl</td>\n",
       "      <td>unknown</td>\n",
       "      <td>Yuuka Nanri, Kanako Mitsuhashi, Eri Sendai, Am...</td>\n",
       "      <td>Japan</td>\n",
       "      <td>NaN</td>\n",
       "      <td>2008</td>\n",
       "      <td>TV-14</td>\n",
       "      <td>2 Seasons</td>\n",
       "      <td>Anime Series, Crime TV Shows</td>\n",
       "      <td>On the surface, the Social Welfare Agency appe...</td>\n",
       "    </tr>\n",
       "    <tr>\n",
       "      <th>7196</th>\n",
       "      <td>s7197</td>\n",
       "      <td>TV Show</td>\n",
       "      <td>Kikoriki</td>\n",
       "      <td>unknown</td>\n",
       "      <td>Igor Dmitriev</td>\n",
       "      <td>unknown</td>\n",
       "      <td>NaN</td>\n",
       "      <td>2010</td>\n",
       "      <td>TV-Y</td>\n",
       "      <td>2 Seasons</td>\n",
       "      <td>Kids' TV</td>\n",
       "      <td>A wacky rabbit and his gang of animal pals hav...</td>\n",
       "    </tr>\n",
       "    <tr>\n",
       "      <th>7254</th>\n",
       "      <td>s7255</td>\n",
       "      <td>TV Show</td>\n",
       "      <td>La Familia P. Luche</td>\n",
       "      <td>unknown</td>\n",
       "      <td>Eugenio Derbez, Consuelo Duval, Luis Manuel Áv...</td>\n",
       "      <td>United States</td>\n",
       "      <td>NaN</td>\n",
       "      <td>2012</td>\n",
       "      <td>TV-14</td>\n",
       "      <td>3 Seasons</td>\n",
       "      <td>International TV Shows, Spanish-Language TV Sh...</td>\n",
       "      <td>This irreverent sitcom featues Ludovico, Feder...</td>\n",
       "    </tr>\n",
       "    <tr>\n",
       "      <th>7406</th>\n",
       "      <td>s7407</td>\n",
       "      <td>TV Show</td>\n",
       "      <td>Maron</td>\n",
       "      <td>unknown</td>\n",
       "      <td>Marc Maron, Judd Hirsch, Josh Brener, Nora Zeh...</td>\n",
       "      <td>United States</td>\n",
       "      <td>NaN</td>\n",
       "      <td>2016</td>\n",
       "      <td>TV-MA</td>\n",
       "      <td>4 Seasons</td>\n",
       "      <td>TV Comedies</td>\n",
       "      <td>Marc Maron stars as Marc Maron, who interviews...</td>\n",
       "    </tr>\n",
       "    <tr>\n",
       "      <th>7847</th>\n",
       "      <td>s7848</td>\n",
       "      <td>TV Show</td>\n",
       "      <td>Red vs. Blue</td>\n",
       "      <td>unknown</td>\n",
       "      <td>Burnie Burns, Jason Saldaña, Gustavo Sorola, G...</td>\n",
       "      <td>United States</td>\n",
       "      <td>NaN</td>\n",
       "      <td>2015</td>\n",
       "      <td>NR</td>\n",
       "      <td>13 Seasons</td>\n",
       "      <td>TV Action &amp; Adventure, TV Comedies, TV Sci-Fi ...</td>\n",
       "      <td>This parody of first-person shooter games, mil...</td>\n",
       "    </tr>\n",
       "    <tr>\n",
       "      <th>8182</th>\n",
       "      <td>s8183</td>\n",
       "      <td>TV Show</td>\n",
       "      <td>The Adventures of Figaro Pho</td>\n",
       "      <td>unknown</td>\n",
       "      <td>Luke Jurevicius, Craig Behenna, Charlotte Haml...</td>\n",
       "      <td>Australia</td>\n",
       "      <td>NaN</td>\n",
       "      <td>2015</td>\n",
       "      <td>TV-Y7</td>\n",
       "      <td>2 Seasons</td>\n",
       "      <td>Kids' TV, TV Comedies</td>\n",
       "      <td>Imagine your worst fears, then multiply them: ...</td>\n",
       "    </tr>\n",
       "  </tbody>\n",
       "</table>\n",
       "</div>"
      ],
      "text/plain": [
       "     show_id     type                                        title director  \\\n",
       "6066   s6067  TV Show  A Young Doctor's Notebook and Other Stories  unknown   \n",
       "6174   s6175  TV Show              Anthony Bourdain: Parts Unknown  unknown   \n",
       "6795   s6796  TV Show                                      Frasier  unknown   \n",
       "6806   s6807  TV Show                                      Friends  unknown   \n",
       "6901   s6902  TV Show                              Gunslinger Girl  unknown   \n",
       "7196   s7197  TV Show                                     Kikoriki  unknown   \n",
       "7254   s7255  TV Show                          La Familia P. Luche  unknown   \n",
       "7406   s7407  TV Show                                        Maron  unknown   \n",
       "7847   s7848  TV Show                                 Red vs. Blue  unknown   \n",
       "8182   s8183  TV Show                 The Adventures of Figaro Pho  unknown   \n",
       "\n",
       "                                                   cast         country  \\\n",
       "6066  Daniel Radcliffe, Jon Hamm, Adam Godley, Chris...  United Kingdom   \n",
       "6174                                   Anthony Bourdain   United States   \n",
       "6795  Kelsey Grammer, Jane Leeves, David Hyde Pierce...   United States   \n",
       "6806  Jennifer Aniston, Courteney Cox, Lisa Kudrow, ...   United States   \n",
       "6901  Yuuka Nanri, Kanako Mitsuhashi, Eri Sendai, Am...           Japan   \n",
       "7196                                      Igor Dmitriev         unknown   \n",
       "7254  Eugenio Derbez, Consuelo Duval, Luis Manuel Áv...   United States   \n",
       "7406  Marc Maron, Judd Hirsch, Josh Brener, Nora Zeh...   United States   \n",
       "7847  Burnie Burns, Jason Saldaña, Gustavo Sorola, G...   United States   \n",
       "8182  Luke Jurevicius, Craig Behenna, Charlotte Haml...       Australia   \n",
       "\n",
       "     date_added  release_year rating    duration  \\\n",
       "6066        NaN          2013  TV-MA   2 Seasons   \n",
       "6174        NaN          2018  TV-PG   5 Seasons   \n",
       "6795        NaN          2003  TV-PG  11 Seasons   \n",
       "6806        NaN          2003  TV-14  10 Seasons   \n",
       "6901        NaN          2008  TV-14   2 Seasons   \n",
       "7196        NaN          2010   TV-Y   2 Seasons   \n",
       "7254        NaN          2012  TV-14   3 Seasons   \n",
       "7406        NaN          2016  TV-MA   4 Seasons   \n",
       "7847        NaN          2015     NR  13 Seasons   \n",
       "8182        NaN          2015  TV-Y7   2 Seasons   \n",
       "\n",
       "                                              listed_in  \\\n",
       "6066           British TV Shows, TV Comedies, TV Dramas   \n",
       "6174                                         Docuseries   \n",
       "6795                     Classic & Cult TV, TV Comedies   \n",
       "6806                     Classic & Cult TV, TV Comedies   \n",
       "6901                       Anime Series, Crime TV Shows   \n",
       "7196                                           Kids' TV   \n",
       "7254  International TV Shows, Spanish-Language TV Sh...   \n",
       "7406                                        TV Comedies   \n",
       "7847  TV Action & Adventure, TV Comedies, TV Sci-Fi ...   \n",
       "8182                              Kids' TV, TV Comedies   \n",
       "\n",
       "                                            description  \n",
       "6066  Set during the Russian Revolution, this comic ...  \n",
       "6174  This CNN original series has chef Anthony Bour...  \n",
       "6795  Frasier Crane is a snooty but lovable Seattle ...  \n",
       "6806  This hit sitcom follows the merry misadventure...  \n",
       "6901  On the surface, the Social Welfare Agency appe...  \n",
       "7196  A wacky rabbit and his gang of animal pals hav...  \n",
       "7254  This irreverent sitcom featues Ludovico, Feder...  \n",
       "7406  Marc Maron stars as Marc Maron, who interviews...  \n",
       "7847  This parody of first-person shooter games, mil...  \n",
       "8182  Imagine your worst fears, then multiply them: ...  "
      ]
     },
     "execution_count": 11,
     "metadata": {},
     "output_type": "execute_result"
    }
   ],
   "source": [
    "df.query(\"date_added.isna()\")"
   ]
  },
  {
   "cell_type": "code",
   "execution_count": 12,
   "id": "b17638b4-71d6-4b50-9a16-fc23507b1ef1",
   "metadata": {},
   "outputs": [],
   "source": [
    "df.loc[6066, \"date_added\"] = \"2014-09-15\"\n",
    "df.loc[6174, \"date_added\"] = \"2013-06-01\"\n",
    "df.loc[6795, \"date_added\"] = \"2016-04-06\"\n",
    "df.loc[6806, \"date_added\"] = \"2015-01-01\"\n",
    "df.loc[6901, \"date_added\"] = \"2016-01-04\"\n",
    "df.loc[7196, \"date_added\"] = \"2017-07-06\"\n",
    "df.loc[7254, \"date_added\"] = \"2015-06-01\"\n",
    "df.loc[7406, \"date_added\"] = \"2017-01-13\"\n",
    "df.loc[7847, \"date_added\"] = \"2014-09-15\"\n",
    "df.loc[8182, \"date_added\"] = \"2014-09-15\""
   ]
  },
  {
   "cell_type": "code",
   "execution_count": 13,
   "id": "849676b6-49c2-44d2-bc45-02539f4edcf3",
   "metadata": {},
   "outputs": [
    {
     "data": {
      "text/html": [
       "<div>\n",
       "<style scoped>\n",
       "    .dataframe tbody tr th:only-of-type {\n",
       "        vertical-align: middle;\n",
       "    }\n",
       "\n",
       "    .dataframe tbody tr th {\n",
       "        vertical-align: top;\n",
       "    }\n",
       "\n",
       "    .dataframe thead th {\n",
       "        text-align: right;\n",
       "    }\n",
       "</style>\n",
       "<table border=\"1\" class=\"dataframe\">\n",
       "  <thead>\n",
       "    <tr style=\"text-align: right;\">\n",
       "      <th></th>\n",
       "      <th>show_id</th>\n",
       "      <th>type</th>\n",
       "      <th>title</th>\n",
       "      <th>director</th>\n",
       "      <th>cast</th>\n",
       "      <th>country</th>\n",
       "      <th>date_added</th>\n",
       "      <th>release_year</th>\n",
       "      <th>rating</th>\n",
       "      <th>duration</th>\n",
       "      <th>listed_in</th>\n",
       "      <th>description</th>\n",
       "    </tr>\n",
       "  </thead>\n",
       "  <tbody>\n",
       "    <tr>\n",
       "      <th>5989</th>\n",
       "      <td>s5990</td>\n",
       "      <td>Movie</td>\n",
       "      <td>13TH: A Conversation with Oprah Winfrey &amp; Ava ...</td>\n",
       "      <td>unknown</td>\n",
       "      <td>Oprah Winfrey, Ava DuVernay</td>\n",
       "      <td>unknown</td>\n",
       "      <td>January 26, 2017</td>\n",
       "      <td>2017</td>\n",
       "      <td>NaN</td>\n",
       "      <td>37 min</td>\n",
       "      <td>Movies</td>\n",
       "      <td>Oprah Winfrey sits down with director Ava DuVe...</td>\n",
       "    </tr>\n",
       "    <tr>\n",
       "      <th>6827</th>\n",
       "      <td>s6828</td>\n",
       "      <td>TV Show</td>\n",
       "      <td>Gargantia on the Verdurous Planet</td>\n",
       "      <td>unknown</td>\n",
       "      <td>Kaito Ishikawa, Hisako Kanemoto, Ai Kayano, Ka...</td>\n",
       "      <td>Japan</td>\n",
       "      <td>December 1, 2016</td>\n",
       "      <td>2013</td>\n",
       "      <td>NaN</td>\n",
       "      <td>1 Season</td>\n",
       "      <td>Anime Series, International TV Shows</td>\n",
       "      <td>After falling through a wormhole, a space-dwel...</td>\n",
       "    </tr>\n",
       "    <tr>\n",
       "      <th>7312</th>\n",
       "      <td>s7313</td>\n",
       "      <td>TV Show</td>\n",
       "      <td>Little Lunch</td>\n",
       "      <td>unknown</td>\n",
       "      <td>Flynn Curry, Olivia Deeble, Madison Lu, Oisín ...</td>\n",
       "      <td>Australia</td>\n",
       "      <td>February 1, 2018</td>\n",
       "      <td>2015</td>\n",
       "      <td>NaN</td>\n",
       "      <td>1 Season</td>\n",
       "      <td>Kids' TV, TV Comedies</td>\n",
       "      <td>Adopting a child's perspective, this show take...</td>\n",
       "    </tr>\n",
       "    <tr>\n",
       "      <th>7537</th>\n",
       "      <td>s7538</td>\n",
       "      <td>Movie</td>\n",
       "      <td>My Honor Was Loyalty</td>\n",
       "      <td>Alessandro Pepe</td>\n",
       "      <td>Leone Frisa, Paolo Vaccarino, Francesco Miglio...</td>\n",
       "      <td>Italy</td>\n",
       "      <td>March 1, 2017</td>\n",
       "      <td>2015</td>\n",
       "      <td>NaN</td>\n",
       "      <td>115 min</td>\n",
       "      <td>Dramas</td>\n",
       "      <td>Amid the chaos and horror of World War II, a c...</td>\n",
       "    </tr>\n",
       "  </tbody>\n",
       "</table>\n",
       "</div>"
      ],
      "text/plain": [
       "     show_id     type                                              title  \\\n",
       "5989   s5990    Movie  13TH: A Conversation with Oprah Winfrey & Ava ...   \n",
       "6827   s6828  TV Show                  Gargantia on the Verdurous Planet   \n",
       "7312   s7313  TV Show                                       Little Lunch   \n",
       "7537   s7538    Movie                               My Honor Was Loyalty   \n",
       "\n",
       "             director                                               cast  \\\n",
       "5989          unknown                        Oprah Winfrey, Ava DuVernay   \n",
       "6827          unknown  Kaito Ishikawa, Hisako Kanemoto, Ai Kayano, Ka...   \n",
       "7312          unknown  Flynn Curry, Olivia Deeble, Madison Lu, Oisín ...   \n",
       "7537  Alessandro Pepe  Leone Frisa, Paolo Vaccarino, Francesco Miglio...   \n",
       "\n",
       "        country        date_added  release_year rating  duration  \\\n",
       "5989    unknown  January 26, 2017          2017    NaN    37 min   \n",
       "6827      Japan  December 1, 2016          2013    NaN  1 Season   \n",
       "7312  Australia  February 1, 2018          2015    NaN  1 Season   \n",
       "7537      Italy     March 1, 2017          2015    NaN   115 min   \n",
       "\n",
       "                                 listed_in  \\\n",
       "5989                                Movies   \n",
       "6827  Anime Series, International TV Shows   \n",
       "7312                 Kids' TV, TV Comedies   \n",
       "7537                                Dramas   \n",
       "\n",
       "                                            description  \n",
       "5989  Oprah Winfrey sits down with director Ava DuVe...  \n",
       "6827  After falling through a wormhole, a space-dwel...  \n",
       "7312  Adopting a child's perspective, this show take...  \n",
       "7537  Amid the chaos and horror of World War II, a c...  "
      ]
     },
     "execution_count": 13,
     "metadata": {},
     "output_type": "execute_result"
    }
   ],
   "source": [
    "df[\"rating\"] = df[\"rating\"].str.strip()\n",
    "df.query(\"rating.isna()\")"
   ]
  },
  {
   "cell_type": "code",
   "execution_count": 14,
   "id": "85698c1a-3aa0-4f30-9c70-f32aeeec0dc6",
   "metadata": {},
   "outputs": [],
   "source": [
    "df.loc[5989, \"rating\"] = \"PG-13\"\n",
    "df.loc[6827, \"rating\"] = \"PG-13\"\n",
    "df.loc[7312, \"rating\"] = \"TV-G\"\n",
    "df.loc[7537, \"rating\"] = \"PG-13\""
   ]
  },
  {
   "cell_type": "code",
   "execution_count": 15,
   "id": "1efbd674-da82-4431-8f6c-5fca0416fa4d",
   "metadata": {},
   "outputs": [
    {
     "data": {
      "text/html": [
       "<div>\n",
       "<style scoped>\n",
       "    .dataframe tbody tr th:only-of-type {\n",
       "        vertical-align: middle;\n",
       "    }\n",
       "\n",
       "    .dataframe tbody tr th {\n",
       "        vertical-align: top;\n",
       "    }\n",
       "\n",
       "    .dataframe thead th {\n",
       "        text-align: right;\n",
       "    }\n",
       "</style>\n",
       "<table border=\"1\" class=\"dataframe\">\n",
       "  <thead>\n",
       "    <tr style=\"text-align: right;\">\n",
       "      <th></th>\n",
       "      <th>show_id</th>\n",
       "      <th>type</th>\n",
       "      <th>title</th>\n",
       "      <th>director</th>\n",
       "      <th>cast</th>\n",
       "      <th>country</th>\n",
       "      <th>date_added</th>\n",
       "      <th>release_year</th>\n",
       "      <th>rating</th>\n",
       "      <th>duration</th>\n",
       "      <th>listed_in</th>\n",
       "      <th>description</th>\n",
       "    </tr>\n",
       "  </thead>\n",
       "  <tbody>\n",
       "    <tr>\n",
       "      <th>5541</th>\n",
       "      <td>s5542</td>\n",
       "      <td>Movie</td>\n",
       "      <td>Louis C.K. 2017</td>\n",
       "      <td>Louis C.K.</td>\n",
       "      <td>Louis C.K.</td>\n",
       "      <td>United States</td>\n",
       "      <td>April 4, 2017</td>\n",
       "      <td>2017</td>\n",
       "      <td>74 min</td>\n",
       "      <td>NaN</td>\n",
       "      <td>Movies</td>\n",
       "      <td>Louis C.K. muses on religion, eternal love, gi...</td>\n",
       "    </tr>\n",
       "    <tr>\n",
       "      <th>5794</th>\n",
       "      <td>s5795</td>\n",
       "      <td>Movie</td>\n",
       "      <td>Louis C.K.: Hilarious</td>\n",
       "      <td>Louis C.K.</td>\n",
       "      <td>Louis C.K.</td>\n",
       "      <td>United States</td>\n",
       "      <td>September 16, 2016</td>\n",
       "      <td>2010</td>\n",
       "      <td>84 min</td>\n",
       "      <td>NaN</td>\n",
       "      <td>Movies</td>\n",
       "      <td>Emmy-winning comedy writer Louis C.K. brings h...</td>\n",
       "    </tr>\n",
       "    <tr>\n",
       "      <th>5813</th>\n",
       "      <td>s5814</td>\n",
       "      <td>Movie</td>\n",
       "      <td>Louis C.K.: Live at the Comedy Store</td>\n",
       "      <td>Louis C.K.</td>\n",
       "      <td>Louis C.K.</td>\n",
       "      <td>United States</td>\n",
       "      <td>August 15, 2016</td>\n",
       "      <td>2015</td>\n",
       "      <td>66 min</td>\n",
       "      <td>NaN</td>\n",
       "      <td>Movies</td>\n",
       "      <td>The comic puts his trademark hilarious/thought...</td>\n",
       "    </tr>\n",
       "  </tbody>\n",
       "</table>\n",
       "</div>"
      ],
      "text/plain": [
       "     show_id   type                                 title    director  \\\n",
       "5541   s5542  Movie                       Louis C.K. 2017  Louis C.K.   \n",
       "5794   s5795  Movie                 Louis C.K.: Hilarious  Louis C.K.   \n",
       "5813   s5814  Movie  Louis C.K.: Live at the Comedy Store  Louis C.K.   \n",
       "\n",
       "            cast        country          date_added  release_year  rating  \\\n",
       "5541  Louis C.K.  United States       April 4, 2017          2017  74 min   \n",
       "5794  Louis C.K.  United States  September 16, 2016          2010  84 min   \n",
       "5813  Louis C.K.  United States     August 15, 2016          2015  66 min   \n",
       "\n",
       "     duration listed_in                                        description  \n",
       "5541      NaN    Movies  Louis C.K. muses on religion, eternal love, gi...  \n",
       "5794      NaN    Movies  Emmy-winning comedy writer Louis C.K. brings h...  \n",
       "5813      NaN    Movies  The comic puts his trademark hilarious/thought...  "
      ]
     },
     "execution_count": 15,
     "metadata": {},
     "output_type": "execute_result"
    }
   ],
   "source": [
    "df.query(\"duration.isna()\")"
   ]
  },
  {
   "cell_type": "markdown",
   "id": "06308b8d-ffea-445f-92fa-4de5e9f044ce",
   "metadata": {},
   "source": [
    "- these 3 records seem to have data entry errors. duration are replaced in rating column.\n",
    "- fix duration and replace rating with proper rating value"
   ]
  },
  {
   "cell_type": "code",
   "execution_count": 16,
   "id": "01e7ca81-2671-4985-9735-7300d6a047be",
   "metadata": {},
   "outputs": [],
   "source": [
    "df.loc[5541, \"duration\"] = \"74 min\"\n",
    "df.loc[5794, \"duration\"] = \"84 min\"\n",
    "df.loc[5813, \"duration\"] = \"66 min\""
   ]
  },
  {
   "cell_type": "code",
   "execution_count": 17,
   "id": "ca46200f-7f17-479c-bd20-cf224ec25d6c",
   "metadata": {},
   "outputs": [],
   "source": [
    "df.loc[5541, \"rating\"] = \"TV-MA\" # Louis C.K. 2017\n",
    "df.loc[5794, \"rating\"] = \"TV-MA\" # Louis C.K.: Hilarious (no info available online, might be unrated but is 16+ in netflix)\n",
    "df.loc[5813, \"rating\"] = \"TV-MA\" # Louis C.K.: Live at the Comedy Store (no info available online, might be unrated but is 16+ in netflix)\n",
    "# \"16+\" rated shows do not exist in the categories, but since those 3 are from the same actor and director and by checking the show online,\n",
    "# i will deduce both as listed in TV-MA rating as well"
   ]
  },
  {
   "cell_type": "code",
   "execution_count": 18,
   "id": "30a77dca-cc0a-4445-a978-eb1a918582da",
   "metadata": {},
   "outputs": [
    {
     "name": "stdout",
     "output_type": "stream",
     "text": [
      "<class 'pandas.core.frame.DataFrame'>\n",
      "RangeIndex: 8807 entries, 0 to 8806\n",
      "Data columns (total 12 columns):\n",
      " #   Column        Non-Null Count  Dtype \n",
      "---  ------        --------------  ----- \n",
      " 0   show_id       8807 non-null   object\n",
      " 1   type          8807 non-null   object\n",
      " 2   title         8807 non-null   object\n",
      " 3   director      8807 non-null   object\n",
      " 4   cast          8807 non-null   object\n",
      " 5   country       8807 non-null   object\n",
      " 6   date_added    8807 non-null   object\n",
      " 7   release_year  8807 non-null   int64 \n",
      " 8   rating        8807 non-null   object\n",
      " 9   duration      8807 non-null   object\n",
      " 10  listed_in     8807 non-null   object\n",
      " 11  description   8807 non-null   object\n",
      "dtypes: int64(1), object(11)\n",
      "memory usage: 825.8+ KB\n"
     ]
    }
   ],
   "source": [
    "df.info()"
   ]
  },
  {
   "cell_type": "markdown",
   "id": "875a2fa4-df19-4b15-9ad8-2f209749dd5c",
   "metadata": {
    "jp-MarkdownHeadingCollapsed": true
   },
   "source": [
    "## data format standardization"
   ]
  },
  {
   "cell_type": "code",
   "execution_count": 19,
   "id": "963c652a-d5f6-424a-a630-2a794aedb349",
   "metadata": {},
   "outputs": [
    {
     "data": {
      "text/html": [
       "<div>\n",
       "<style scoped>\n",
       "    .dataframe tbody tr th:only-of-type {\n",
       "        vertical-align: middle;\n",
       "    }\n",
       "\n",
       "    .dataframe tbody tr th {\n",
       "        vertical-align: top;\n",
       "    }\n",
       "\n",
       "    .dataframe thead th {\n",
       "        text-align: right;\n",
       "    }\n",
       "</style>\n",
       "<table border=\"1\" class=\"dataframe\">\n",
       "  <thead>\n",
       "    <tr style=\"text-align: right;\">\n",
       "      <th></th>\n",
       "      <th>show_id</th>\n",
       "      <th>type</th>\n",
       "      <th>title</th>\n",
       "      <th>director</th>\n",
       "      <th>cast</th>\n",
       "      <th>country</th>\n",
       "      <th>date_added</th>\n",
       "      <th>release_year</th>\n",
       "      <th>rating</th>\n",
       "      <th>duration</th>\n",
       "      <th>listed_in</th>\n",
       "      <th>description</th>\n",
       "    </tr>\n",
       "  </thead>\n",
       "  <tbody>\n",
       "    <tr>\n",
       "      <th>0</th>\n",
       "      <td>s1</td>\n",
       "      <td>Movie</td>\n",
       "      <td>Dick Johnson Is Dead</td>\n",
       "      <td>Kirsten Johnson</td>\n",
       "      <td>unknown</td>\n",
       "      <td>United States</td>\n",
       "      <td>September 25, 2021</td>\n",
       "      <td>2020</td>\n",
       "      <td>PG-13</td>\n",
       "      <td>90 min</td>\n",
       "      <td>Documentaries</td>\n",
       "      <td>As her father nears the end of his life, filmm...</td>\n",
       "    </tr>\n",
       "    <tr>\n",
       "      <th>1</th>\n",
       "      <td>s2</td>\n",
       "      <td>TV Show</td>\n",
       "      <td>Blood &amp; Water</td>\n",
       "      <td>unknown</td>\n",
       "      <td>Ama Qamata, Khosi Ngema, Gail Mabalane, Thaban...</td>\n",
       "      <td>South Africa</td>\n",
       "      <td>September 24, 2021</td>\n",
       "      <td>2021</td>\n",
       "      <td>TV-MA</td>\n",
       "      <td>2 Seasons</td>\n",
       "      <td>International TV Shows, TV Dramas, TV Mysteries</td>\n",
       "      <td>After crossing paths at a party, a Cape Town t...</td>\n",
       "    </tr>\n",
       "    <tr>\n",
       "      <th>2</th>\n",
       "      <td>s3</td>\n",
       "      <td>TV Show</td>\n",
       "      <td>Ganglands</td>\n",
       "      <td>Julien Leclercq</td>\n",
       "      <td>Sami Bouajila, Tracy Gotoas, Samuel Jouy, Nabi...</td>\n",
       "      <td>unknown</td>\n",
       "      <td>September 24, 2021</td>\n",
       "      <td>2021</td>\n",
       "      <td>TV-MA</td>\n",
       "      <td>1 Season</td>\n",
       "      <td>Crime TV Shows, International TV Shows, TV Act...</td>\n",
       "      <td>To protect his family from a powerful drug lor...</td>\n",
       "    </tr>\n",
       "    <tr>\n",
       "      <th>3</th>\n",
       "      <td>s4</td>\n",
       "      <td>TV Show</td>\n",
       "      <td>Jailbirds New Orleans</td>\n",
       "      <td>unknown</td>\n",
       "      <td>unknown</td>\n",
       "      <td>unknown</td>\n",
       "      <td>September 24, 2021</td>\n",
       "      <td>2021</td>\n",
       "      <td>TV-MA</td>\n",
       "      <td>1 Season</td>\n",
       "      <td>Docuseries, Reality TV</td>\n",
       "      <td>Feuds, flirtations and toilet talk go down amo...</td>\n",
       "    </tr>\n",
       "    <tr>\n",
       "      <th>4</th>\n",
       "      <td>s5</td>\n",
       "      <td>TV Show</td>\n",
       "      <td>Kota Factory</td>\n",
       "      <td>unknown</td>\n",
       "      <td>Mayur More, Jitendra Kumar, Ranjan Raj, Alam K...</td>\n",
       "      <td>India</td>\n",
       "      <td>September 24, 2021</td>\n",
       "      <td>2021</td>\n",
       "      <td>TV-MA</td>\n",
       "      <td>2 Seasons</td>\n",
       "      <td>International TV Shows, Romantic TV Shows, TV ...</td>\n",
       "      <td>In a city of coaching centers known to train I...</td>\n",
       "    </tr>\n",
       "  </tbody>\n",
       "</table>\n",
       "</div>"
      ],
      "text/plain": [
       "  show_id     type                  title         director  \\\n",
       "0      s1    Movie   Dick Johnson Is Dead  Kirsten Johnson   \n",
       "1      s2  TV Show          Blood & Water          unknown   \n",
       "2      s3  TV Show              Ganglands  Julien Leclercq   \n",
       "3      s4  TV Show  Jailbirds New Orleans          unknown   \n",
       "4      s5  TV Show           Kota Factory          unknown   \n",
       "\n",
       "                                                cast        country  \\\n",
       "0                                            unknown  United States   \n",
       "1  Ama Qamata, Khosi Ngema, Gail Mabalane, Thaban...   South Africa   \n",
       "2  Sami Bouajila, Tracy Gotoas, Samuel Jouy, Nabi...        unknown   \n",
       "3                                            unknown        unknown   \n",
       "4  Mayur More, Jitendra Kumar, Ranjan Raj, Alam K...          India   \n",
       "\n",
       "           date_added  release_year rating   duration  \\\n",
       "0  September 25, 2021          2020  PG-13     90 min   \n",
       "1  September 24, 2021          2021  TV-MA  2 Seasons   \n",
       "2  September 24, 2021          2021  TV-MA   1 Season   \n",
       "3  September 24, 2021          2021  TV-MA   1 Season   \n",
       "4  September 24, 2021          2021  TV-MA  2 Seasons   \n",
       "\n",
       "                                           listed_in  \\\n",
       "0                                      Documentaries   \n",
       "1    International TV Shows, TV Dramas, TV Mysteries   \n",
       "2  Crime TV Shows, International TV Shows, TV Act...   \n",
       "3                             Docuseries, Reality TV   \n",
       "4  International TV Shows, Romantic TV Shows, TV ...   \n",
       "\n",
       "                                         description  \n",
       "0  As her father nears the end of his life, filmm...  \n",
       "1  After crossing paths at a party, a Cape Town t...  \n",
       "2  To protect his family from a powerful drug lor...  \n",
       "3  Feuds, flirtations and toilet talk go down amo...  \n",
       "4  In a city of coaching centers known to train I...  "
      ]
     },
     "execution_count": 19,
     "metadata": {},
     "output_type": "execute_result"
    }
   ],
   "source": [
    "df.head()"
   ]
  },
  {
   "cell_type": "markdown",
   "id": "ebf29560-14a8-4179-9179-4ddd4d9545c6",
   "metadata": {},
   "source": [
    "tasks:\n",
    "- remove 's' from show_id\n",
    "- remove \"min\" and \"seasons\" from duration\n",
    "- rename listed_in to category\n",
    "- check unique values and ensure standardization: type, rating, show_id\n",
    "- unpack director, cast, country, category\n",
    "- parse date_added\n",
    "- strip director, cast, country, category and check for long "
   ]
  },
  {
   "cell_type": "code",
   "execution_count": 20,
   "id": "3f250b60-a502-4185-a1fd-e2690de98800",
   "metadata": {},
   "outputs": [],
   "source": [
    "df[\"show_id\"] = df[\"show_id\"].str.strip('s')"
   ]
  },
  {
   "cell_type": "code",
   "execution_count": 21,
   "id": "e5a7e55c-ea28-4971-8394-7c22c8bec07b",
   "metadata": {},
   "outputs": [],
   "source": [
    "df = df.astype({\"show_id\":\"int64\"})"
   ]
  },
  {
   "cell_type": "code",
   "execution_count": 22,
   "id": "55305c57-c97a-40de-9954-e61dd36b9641",
   "metadata": {},
   "outputs": [
    {
     "name": "stdout",
     "output_type": "stream",
     "text": [
      "1\n",
      "8807\n"
     ]
    }
   ],
   "source": [
    "print(df[\"show_id\"].min())\n",
    "print(df[\"show_id\"].max())"
   ]
  },
  {
   "cell_type": "code",
   "execution_count": 23,
   "id": "f9b662fa-09cb-405a-a64c-e82f8ab8a7b0",
   "metadata": {},
   "outputs": [],
   "source": [
    "df = df.rename(columns={\"listed_in\":\"category\"})"
   ]
  },
  {
   "cell_type": "code",
   "execution_count": 24,
   "id": "7b2dbe69-5442-4a10-bcf7-5072dc776ce5",
   "metadata": {},
   "outputs": [
    {
     "data": {
      "text/plain": [
       "array(['Movie', 'TV Show'], dtype=object)"
      ]
     },
     "execution_count": 24,
     "metadata": {},
     "output_type": "execute_result"
    }
   ],
   "source": [
    "df[\"type\"].unique()"
   ]
  },
  {
   "cell_type": "code",
   "execution_count": 25,
   "id": "f0134e8a-2613-4e06-885f-f8c8012b7860",
   "metadata": {},
   "outputs": [
    {
     "data": {
      "text/plain": [
       "array(['PG-13', 'TV-MA', 'PG', 'TV-14', 'TV-PG', 'TV-Y', 'TV-Y7', 'R',\n",
       "       'TV-G', 'G', 'NC-17', 'NR', 'TV-Y7-FV', 'UR'], dtype=object)"
      ]
     },
     "execution_count": 25,
     "metadata": {},
     "output_type": "execute_result"
    }
   ],
   "source": [
    "df[\"rating\"].unique()"
   ]
  },
  {
   "cell_type": "code",
   "execution_count": 26,
   "id": "09790cb6-3f03-4c44-a9c4-2d4b07eb9978",
   "metadata": {},
   "outputs": [],
   "source": [
    "df[\"director\"] = df[\"director\"].str.split(\",\")"
   ]
  },
  {
   "cell_type": "code",
   "execution_count": 27,
   "id": "59cd9fcf-2cf9-4bf2-a453-01b6f6302949",
   "metadata": {},
   "outputs": [],
   "source": [
    "df[\"cast\"] = df[\"cast\"].str.split(\",\")"
   ]
  },
  {
   "cell_type": "code",
   "execution_count": 28,
   "id": "4b2040d5-8c67-42dd-a447-bed806a94de4",
   "metadata": {},
   "outputs": [],
   "source": [
    "df[\"category\"] = df[\"category\"].str.split(\",\")"
   ]
  },
  {
   "cell_type": "code",
   "execution_count": 29,
   "id": "a304c8ef-58be-4f90-8b85-bb78aa5e65ff",
   "metadata": {},
   "outputs": [],
   "source": [
    "df[\"country\"] = df[\"country\"].str.split(\",\")"
   ]
  },
  {
   "cell_type": "code",
   "execution_count": 30,
   "id": "1b1a400a-d2cd-4582-ae2e-99bfc6aa44c9",
   "metadata": {},
   "outputs": [
    {
     "name": "stdout",
     "output_type": "stream",
     "text": [
      "1925\n",
      "2021\n"
     ]
    }
   ],
   "source": [
    "print(df[\"release_year\"].min())\n",
    "print(df[\"release_year\"].max())"
   ]
  },
  {
   "cell_type": "code",
   "execution_count": 31,
   "id": "b5f131b7-5c8e-451c-bfc8-5b60928933cd",
   "metadata": {},
   "outputs": [],
   "source": [
    "df[\"duration\"] = df[\"duration\"].replace(\"[^0-9]\", \"\", regex=True)"
   ]
  },
  {
   "cell_type": "code",
   "execution_count": 32,
   "id": "c4d8250b-3e4f-4448-af01-0691f7a34eed",
   "metadata": {},
   "outputs": [],
   "source": [
    "df[\"date_added\"] = df[\"date_added\"].apply(lambda x: parser.parse(x).strftime(\"%Y-%m-%d\"))"
   ]
  },
  {
   "cell_type": "markdown",
   "id": "12ef46d4-ca7d-4beb-86fb-b6198f8e4f59",
   "metadata": {
    "jp-MarkdownHeadingCollapsed": true
   },
   "source": [
    "## RDB normalization"
   ]
  },
  {
   "cell_type": "markdown",
   "id": "e6dca9b8-933d-4786-9172-fc44c08d562d",
   "metadata": {},
   "source": [
    "- create tables in pd dataframe type\n",
    "- create parent tables first that has no dependency / foreign key : directors, cast, ratings, categories, countries"
   ]
  },
  {
   "cell_type": "code",
   "execution_count": 33,
   "id": "01b565d1-3475-42b3-abc6-d1466e368bd4",
   "metadata": {},
   "outputs": [
    {
     "data": {
      "text/html": [
       "<div>\n",
       "<style scoped>\n",
       "    .dataframe tbody tr th:only-of-type {\n",
       "        vertical-align: middle;\n",
       "    }\n",
       "\n",
       "    .dataframe tbody tr th {\n",
       "        vertical-align: top;\n",
       "    }\n",
       "\n",
       "    .dataframe thead th {\n",
       "        text-align: right;\n",
       "    }\n",
       "</style>\n",
       "<table border=\"1\" class=\"dataframe\">\n",
       "  <thead>\n",
       "    <tr style=\"text-align: right;\">\n",
       "      <th></th>\n",
       "      <th>rating_id</th>\n",
       "      <th>rating_name</th>\n",
       "    </tr>\n",
       "  </thead>\n",
       "  <tbody>\n",
       "    <tr>\n",
       "      <th>0</th>\n",
       "      <td>0</td>\n",
       "      <td>PG-13</td>\n",
       "    </tr>\n",
       "    <tr>\n",
       "      <th>1</th>\n",
       "      <td>1</td>\n",
       "      <td>TV-MA</td>\n",
       "    </tr>\n",
       "    <tr>\n",
       "      <th>2</th>\n",
       "      <td>2</td>\n",
       "      <td>PG</td>\n",
       "    </tr>\n",
       "    <tr>\n",
       "      <th>3</th>\n",
       "      <td>3</td>\n",
       "      <td>TV-14</td>\n",
       "    </tr>\n",
       "    <tr>\n",
       "      <th>4</th>\n",
       "      <td>4</td>\n",
       "      <td>TV-PG</td>\n",
       "    </tr>\n",
       "    <tr>\n",
       "      <th>5</th>\n",
       "      <td>5</td>\n",
       "      <td>TV-Y</td>\n",
       "    </tr>\n",
       "    <tr>\n",
       "      <th>6</th>\n",
       "      <td>6</td>\n",
       "      <td>TV-Y7</td>\n",
       "    </tr>\n",
       "    <tr>\n",
       "      <th>7</th>\n",
       "      <td>7</td>\n",
       "      <td>R</td>\n",
       "    </tr>\n",
       "    <tr>\n",
       "      <th>8</th>\n",
       "      <td>8</td>\n",
       "      <td>TV-G</td>\n",
       "    </tr>\n",
       "    <tr>\n",
       "      <th>9</th>\n",
       "      <td>9</td>\n",
       "      <td>G</td>\n",
       "    </tr>\n",
       "    <tr>\n",
       "      <th>10</th>\n",
       "      <td>10</td>\n",
       "      <td>NC-17</td>\n",
       "    </tr>\n",
       "    <tr>\n",
       "      <th>11</th>\n",
       "      <td>11</td>\n",
       "      <td>NR</td>\n",
       "    </tr>\n",
       "    <tr>\n",
       "      <th>12</th>\n",
       "      <td>12</td>\n",
       "      <td>TV-Y7-FV</td>\n",
       "    </tr>\n",
       "    <tr>\n",
       "      <th>13</th>\n",
       "      <td>13</td>\n",
       "      <td>UR</td>\n",
       "    </tr>\n",
       "  </tbody>\n",
       "</table>\n",
       "</div>"
      ],
      "text/plain": [
       "    rating_id rating_name\n",
       "0           0       PG-13\n",
       "1           1       TV-MA\n",
       "2           2          PG\n",
       "3           3       TV-14\n",
       "4           4       TV-PG\n",
       "5           5        TV-Y\n",
       "6           6       TV-Y7\n",
       "7           7           R\n",
       "8           8        TV-G\n",
       "9           9           G\n",
       "10         10       NC-17\n",
       "11         11          NR\n",
       "12         12    TV-Y7-FV\n",
       "13         13          UR"
      ]
     },
     "execution_count": 33,
     "metadata": {},
     "output_type": "execute_result"
    }
   ],
   "source": [
    "ratings = pd.Series(df[\"rating\"].unique())\n",
    "ratings = pd.DataFrame({\n",
    "    \"rating_id\" : range(len(ratings)) , \n",
    "    \"rating_name\" : ratings\n",
    "})\n",
    "ratings"
   ]
  },
  {
   "cell_type": "code",
   "execution_count": 34,
   "id": "b637ecc1-b25d-4299-97a8-0ea06d54d97d",
   "metadata": {},
   "outputs": [
    {
     "data": {
      "text/html": [
       "<div>\n",
       "<style scoped>\n",
       "    .dataframe tbody tr th:only-of-type {\n",
       "        vertical-align: middle;\n",
       "    }\n",
       "\n",
       "    .dataframe tbody tr th {\n",
       "        vertical-align: top;\n",
       "    }\n",
       "\n",
       "    .dataframe thead th {\n",
       "        text-align: right;\n",
       "    }\n",
       "</style>\n",
       "<table border=\"1\" class=\"dataframe\">\n",
       "  <thead>\n",
       "    <tr style=\"text-align: right;\">\n",
       "      <th></th>\n",
       "      <th>director_id</th>\n",
       "      <th>director_name</th>\n",
       "    </tr>\n",
       "  </thead>\n",
       "  <tbody>\n",
       "    <tr>\n",
       "      <th>0</th>\n",
       "      <td>0</td>\n",
       "      <td>Kirsten Johnson</td>\n",
       "    </tr>\n",
       "    <tr>\n",
       "      <th>1</th>\n",
       "      <td>1</td>\n",
       "      <td>unknown</td>\n",
       "    </tr>\n",
       "    <tr>\n",
       "      <th>2</th>\n",
       "      <td>2</td>\n",
       "      <td>Julien Leclercq</td>\n",
       "    </tr>\n",
       "    <tr>\n",
       "      <th>3</th>\n",
       "      <td>3</td>\n",
       "      <td>Mike Flanagan</td>\n",
       "    </tr>\n",
       "    <tr>\n",
       "      <th>4</th>\n",
       "      <td>4</td>\n",
       "      <td>Robert Cullen</td>\n",
       "    </tr>\n",
       "    <tr>\n",
       "      <th>...</th>\n",
       "      <td>...</td>\n",
       "      <td>...</td>\n",
       "    </tr>\n",
       "    <tr>\n",
       "      <th>4989</th>\n",
       "      <td>4989</td>\n",
       "      <td>Mu Chu</td>\n",
       "    </tr>\n",
       "    <tr>\n",
       "      <th>4990</th>\n",
       "      <td>4990</td>\n",
       "      <td>Chandra Prakash Dwivedi</td>\n",
       "    </tr>\n",
       "    <tr>\n",
       "      <th>4991</th>\n",
       "      <td>4991</td>\n",
       "      <td>Majid Al Ansari</td>\n",
       "    </tr>\n",
       "    <tr>\n",
       "      <th>4992</th>\n",
       "      <td>4992</td>\n",
       "      <td>Peter Hewitt</td>\n",
       "    </tr>\n",
       "    <tr>\n",
       "      <th>4993</th>\n",
       "      <td>4993</td>\n",
       "      <td>Mozez Singh</td>\n",
       "    </tr>\n",
       "  </tbody>\n",
       "</table>\n",
       "<p>4994 rows × 2 columns</p>\n",
       "</div>"
      ],
      "text/plain": [
       "      director_id            director_name\n",
       "0               0          Kirsten Johnson\n",
       "1               1                  unknown\n",
       "2               2          Julien Leclercq\n",
       "3               3            Mike Flanagan\n",
       "4               4            Robert Cullen\n",
       "...           ...                      ...\n",
       "4989         4989                   Mu Chu\n",
       "4990         4990  Chandra Prakash Dwivedi\n",
       "4991         4991          Majid Al Ansari\n",
       "4992         4992             Peter Hewitt\n",
       "4993         4993              Mozez Singh\n",
       "\n",
       "[4994 rows x 2 columns]"
      ]
     },
     "execution_count": 34,
     "metadata": {},
     "output_type": "execute_result"
    }
   ],
   "source": [
    "directors = [director.strip() for record in df[\"director\"] for director in record] # flatten list of directors in df with list comprehension\n",
    "directors = pd.Series(directors) # turn into series type\n",
    "directors = directors.unique() # get only the unique values\n",
    "\n",
    "directors = pd.DataFrame({ # create directors table. (reused the variable name for better readability)\n",
    "    \"director_id\" : range(len(directors)) ,\n",
    "    \"director_name\" : directors\n",
    "})\n",
    "directors"
   ]
  },
  {
   "cell_type": "code",
   "execution_count": 35,
   "id": "e5f912be-e5da-4742-8f8d-89d2db8198b1",
   "metadata": {},
   "outputs": [
    {
     "data": {
      "text/html": [
       "<div>\n",
       "<style scoped>\n",
       "    .dataframe tbody tr th:only-of-type {\n",
       "        vertical-align: middle;\n",
       "    }\n",
       "\n",
       "    .dataframe tbody tr th {\n",
       "        vertical-align: top;\n",
       "    }\n",
       "\n",
       "    .dataframe thead th {\n",
       "        text-align: right;\n",
       "    }\n",
       "</style>\n",
       "<table border=\"1\" class=\"dataframe\">\n",
       "  <thead>\n",
       "    <tr style=\"text-align: right;\">\n",
       "      <th></th>\n",
       "      <th>cast_id</th>\n",
       "      <th>cast_name</th>\n",
       "    </tr>\n",
       "  </thead>\n",
       "  <tbody>\n",
       "    <tr>\n",
       "      <th>0</th>\n",
       "      <td>0</td>\n",
       "      <td>unknown</td>\n",
       "    </tr>\n",
       "    <tr>\n",
       "      <th>1</th>\n",
       "      <td>1</td>\n",
       "      <td>Ama Qamata</td>\n",
       "    </tr>\n",
       "    <tr>\n",
       "      <th>2</th>\n",
       "      <td>2</td>\n",
       "      <td>Khosi Ngema</td>\n",
       "    </tr>\n",
       "    <tr>\n",
       "      <th>3</th>\n",
       "      <td>3</td>\n",
       "      <td>Gail Mabalane</td>\n",
       "    </tr>\n",
       "    <tr>\n",
       "      <th>4</th>\n",
       "      <td>4</td>\n",
       "      <td>Thabang Molaba</td>\n",
       "    </tr>\n",
       "    <tr>\n",
       "      <th>...</th>\n",
       "      <td>...</td>\n",
       "      <td>...</td>\n",
       "    </tr>\n",
       "    <tr>\n",
       "      <th>36435</th>\n",
       "      <td>36435</td>\n",
       "      <td>Ryan Newman</td>\n",
       "    </tr>\n",
       "    <tr>\n",
       "      <th>36436</th>\n",
       "      <td>36436</td>\n",
       "      <td>Raaghav Chanana</td>\n",
       "    </tr>\n",
       "    <tr>\n",
       "      <th>36437</th>\n",
       "      <td>36437</td>\n",
       "      <td>Malkeet Rauni</td>\n",
       "    </tr>\n",
       "    <tr>\n",
       "      <th>36438</th>\n",
       "      <td>36438</td>\n",
       "      <td>Anita Shabdish</td>\n",
       "    </tr>\n",
       "    <tr>\n",
       "      <th>36439</th>\n",
       "      <td>36439</td>\n",
       "      <td>Chittaranjan Tripathy</td>\n",
       "    </tr>\n",
       "  </tbody>\n",
       "</table>\n",
       "<p>36440 rows × 2 columns</p>\n",
       "</div>"
      ],
      "text/plain": [
       "       cast_id              cast_name\n",
       "0            0                unknown\n",
       "1            1             Ama Qamata\n",
       "2            2            Khosi Ngema\n",
       "3            3          Gail Mabalane\n",
       "4            4         Thabang Molaba\n",
       "...        ...                    ...\n",
       "36435    36435            Ryan Newman\n",
       "36436    36436        Raaghav Chanana\n",
       "36437    36437          Malkeet Rauni\n",
       "36438    36438         Anita Shabdish\n",
       "36439    36439  Chittaranjan Tripathy\n",
       "\n",
       "[36440 rows x 2 columns]"
      ]
     },
     "execution_count": 35,
     "metadata": {},
     "output_type": "execute_result"
    }
   ],
   "source": [
    "casts = [cast.strip() for record in df[\"cast\"] for cast in record] # flatten list of cast in df with list comprehension\n",
    "casts = pd.Series(casts) # turn into series type\n",
    "casts = casts.unique() # get only the unique values\n",
    "\n",
    "casts = pd.DataFrame({ # create cast table. (reused the variable name for better readability)\n",
    "    \"cast_id\" : range(len(casts)) ,\n",
    "    \"cast_name\" : casts\n",
    "})\n",
    "casts"
   ]
  },
  {
   "cell_type": "code",
   "execution_count": 36,
   "id": "b3bed749-5df3-4ece-96d1-d5f8e3af48d3",
   "metadata": {},
   "outputs": [
    {
     "data": {
      "text/html": [
       "<div>\n",
       "<style scoped>\n",
       "    .dataframe tbody tr th:only-of-type {\n",
       "        vertical-align: middle;\n",
       "    }\n",
       "\n",
       "    .dataframe tbody tr th {\n",
       "        vertical-align: top;\n",
       "    }\n",
       "\n",
       "    .dataframe thead th {\n",
       "        text-align: right;\n",
       "    }\n",
       "</style>\n",
       "<table border=\"1\" class=\"dataframe\">\n",
       "  <thead>\n",
       "    <tr style=\"text-align: right;\">\n",
       "      <th></th>\n",
       "      <th>country_id</th>\n",
       "      <th>country_name</th>\n",
       "    </tr>\n",
       "  </thead>\n",
       "  <tbody>\n",
       "    <tr>\n",
       "      <th>0</th>\n",
       "      <td>0</td>\n",
       "      <td>United States</td>\n",
       "    </tr>\n",
       "    <tr>\n",
       "      <th>1</th>\n",
       "      <td>1</td>\n",
       "      <td>South Africa</td>\n",
       "    </tr>\n",
       "    <tr>\n",
       "      <th>2</th>\n",
       "      <td>2</td>\n",
       "      <td>unknown</td>\n",
       "    </tr>\n",
       "    <tr>\n",
       "      <th>3</th>\n",
       "      <td>3</td>\n",
       "      <td>India</td>\n",
       "    </tr>\n",
       "    <tr>\n",
       "      <th>4</th>\n",
       "      <td>4</td>\n",
       "      <td>Ghana</td>\n",
       "    </tr>\n",
       "    <tr>\n",
       "      <th>...</th>\n",
       "      <td>...</td>\n",
       "      <td>...</td>\n",
       "    </tr>\n",
       "    <tr>\n",
       "      <th>119</th>\n",
       "      <td>119</td>\n",
       "      <td>Sudan</td>\n",
       "    </tr>\n",
       "    <tr>\n",
       "      <th>120</th>\n",
       "      <td>120</td>\n",
       "      <td>Panama</td>\n",
       "    </tr>\n",
       "    <tr>\n",
       "      <th>121</th>\n",
       "      <td>121</td>\n",
       "      <td>Uganda</td>\n",
       "    </tr>\n",
       "    <tr>\n",
       "      <th>122</th>\n",
       "      <td>122</td>\n",
       "      <td>East Germany</td>\n",
       "    </tr>\n",
       "    <tr>\n",
       "      <th>123</th>\n",
       "      <td>123</td>\n",
       "      <td>Montenegro</td>\n",
       "    </tr>\n",
       "  </tbody>\n",
       "</table>\n",
       "<p>124 rows × 2 columns</p>\n",
       "</div>"
      ],
      "text/plain": [
       "     country_id   country_name\n",
       "0             0  United States\n",
       "1             1   South Africa\n",
       "2             2        unknown\n",
       "3             3          India\n",
       "4             4          Ghana\n",
       "..          ...            ...\n",
       "119         119          Sudan\n",
       "120         120         Panama\n",
       "121         121         Uganda\n",
       "122         122   East Germany\n",
       "123         123     Montenegro\n",
       "\n",
       "[124 rows x 2 columns]"
      ]
     },
     "execution_count": 36,
     "metadata": {},
     "output_type": "execute_result"
    }
   ],
   "source": [
    "countries = [country.strip() for record in df[\"country\"] for country in record] # flatten list of country in df with list comprehension\n",
    "countries = pd.Series(countries) # turn into series type\n",
    "countries = countries.unique() # get only the unique values\n",
    "\n",
    "countries = pd.DataFrame({ # create country table. (reused the variable name for better readability)\n",
    "    \"country_id\" : range(len(countries)) ,\n",
    "    \"country_name\" : countries\n",
    "})\n",
    "countries"
   ]
  },
  {
   "cell_type": "code",
   "execution_count": 37,
   "id": "f0e7cb14-e331-48c6-8d5b-cbacd5f4963b",
   "metadata": {},
   "outputs": [
    {
     "data": {
      "text/html": [
       "<div>\n",
       "<style scoped>\n",
       "    .dataframe tbody tr th:only-of-type {\n",
       "        vertical-align: middle;\n",
       "    }\n",
       "\n",
       "    .dataframe tbody tr th {\n",
       "        vertical-align: top;\n",
       "    }\n",
       "\n",
       "    .dataframe thead th {\n",
       "        text-align: right;\n",
       "    }\n",
       "</style>\n",
       "<table border=\"1\" class=\"dataframe\">\n",
       "  <thead>\n",
       "    <tr style=\"text-align: right;\">\n",
       "      <th></th>\n",
       "      <th>category_id</th>\n",
       "      <th>category_name</th>\n",
       "    </tr>\n",
       "  </thead>\n",
       "  <tbody>\n",
       "    <tr>\n",
       "      <th>0</th>\n",
       "      <td>0</td>\n",
       "      <td>Documentaries</td>\n",
       "    </tr>\n",
       "    <tr>\n",
       "      <th>1</th>\n",
       "      <td>1</td>\n",
       "      <td>International TV Shows</td>\n",
       "    </tr>\n",
       "    <tr>\n",
       "      <th>2</th>\n",
       "      <td>2</td>\n",
       "      <td>TV Dramas</td>\n",
       "    </tr>\n",
       "    <tr>\n",
       "      <th>3</th>\n",
       "      <td>3</td>\n",
       "      <td>TV Mysteries</td>\n",
       "    </tr>\n",
       "    <tr>\n",
       "      <th>4</th>\n",
       "      <td>4</td>\n",
       "      <td>Crime TV Shows</td>\n",
       "    </tr>\n",
       "    <tr>\n",
       "      <th>5</th>\n",
       "      <td>5</td>\n",
       "      <td>TV Action &amp; Adventure</td>\n",
       "    </tr>\n",
       "    <tr>\n",
       "      <th>6</th>\n",
       "      <td>6</td>\n",
       "      <td>Docuseries</td>\n",
       "    </tr>\n",
       "    <tr>\n",
       "      <th>7</th>\n",
       "      <td>7</td>\n",
       "      <td>Reality TV</td>\n",
       "    </tr>\n",
       "    <tr>\n",
       "      <th>8</th>\n",
       "      <td>8</td>\n",
       "      <td>Romantic TV Shows</td>\n",
       "    </tr>\n",
       "    <tr>\n",
       "      <th>9</th>\n",
       "      <td>9</td>\n",
       "      <td>TV Comedies</td>\n",
       "    </tr>\n",
       "    <tr>\n",
       "      <th>10</th>\n",
       "      <td>10</td>\n",
       "      <td>TV Horror</td>\n",
       "    </tr>\n",
       "    <tr>\n",
       "      <th>11</th>\n",
       "      <td>11</td>\n",
       "      <td>Children &amp; Family Movies</td>\n",
       "    </tr>\n",
       "    <tr>\n",
       "      <th>12</th>\n",
       "      <td>12</td>\n",
       "      <td>Dramas</td>\n",
       "    </tr>\n",
       "    <tr>\n",
       "      <th>13</th>\n",
       "      <td>13</td>\n",
       "      <td>Independent Movies</td>\n",
       "    </tr>\n",
       "    <tr>\n",
       "      <th>14</th>\n",
       "      <td>14</td>\n",
       "      <td>International Movies</td>\n",
       "    </tr>\n",
       "    <tr>\n",
       "      <th>15</th>\n",
       "      <td>15</td>\n",
       "      <td>British TV Shows</td>\n",
       "    </tr>\n",
       "    <tr>\n",
       "      <th>16</th>\n",
       "      <td>16</td>\n",
       "      <td>Comedies</td>\n",
       "    </tr>\n",
       "    <tr>\n",
       "      <th>17</th>\n",
       "      <td>17</td>\n",
       "      <td>Spanish-Language TV Shows</td>\n",
       "    </tr>\n",
       "    <tr>\n",
       "      <th>18</th>\n",
       "      <td>18</td>\n",
       "      <td>Thrillers</td>\n",
       "    </tr>\n",
       "    <tr>\n",
       "      <th>19</th>\n",
       "      <td>19</td>\n",
       "      <td>Romantic Movies</td>\n",
       "    </tr>\n",
       "    <tr>\n",
       "      <th>20</th>\n",
       "      <td>20</td>\n",
       "      <td>Music &amp; Musicals</td>\n",
       "    </tr>\n",
       "    <tr>\n",
       "      <th>21</th>\n",
       "      <td>21</td>\n",
       "      <td>Horror Movies</td>\n",
       "    </tr>\n",
       "    <tr>\n",
       "      <th>22</th>\n",
       "      <td>22</td>\n",
       "      <td>Sci-Fi &amp; Fantasy</td>\n",
       "    </tr>\n",
       "    <tr>\n",
       "      <th>23</th>\n",
       "      <td>23</td>\n",
       "      <td>TV Thrillers</td>\n",
       "    </tr>\n",
       "    <tr>\n",
       "      <th>24</th>\n",
       "      <td>24</td>\n",
       "      <td>Kids' TV</td>\n",
       "    </tr>\n",
       "    <tr>\n",
       "      <th>25</th>\n",
       "      <td>25</td>\n",
       "      <td>Action &amp; Adventure</td>\n",
       "    </tr>\n",
       "    <tr>\n",
       "      <th>26</th>\n",
       "      <td>26</td>\n",
       "      <td>TV Sci-Fi &amp; Fantasy</td>\n",
       "    </tr>\n",
       "    <tr>\n",
       "      <th>27</th>\n",
       "      <td>27</td>\n",
       "      <td>Classic Movies</td>\n",
       "    </tr>\n",
       "    <tr>\n",
       "      <th>28</th>\n",
       "      <td>28</td>\n",
       "      <td>Anime Features</td>\n",
       "    </tr>\n",
       "    <tr>\n",
       "      <th>29</th>\n",
       "      <td>29</td>\n",
       "      <td>Sports Movies</td>\n",
       "    </tr>\n",
       "    <tr>\n",
       "      <th>30</th>\n",
       "      <td>30</td>\n",
       "      <td>Anime Series</td>\n",
       "    </tr>\n",
       "    <tr>\n",
       "      <th>31</th>\n",
       "      <td>31</td>\n",
       "      <td>Korean TV Shows</td>\n",
       "    </tr>\n",
       "    <tr>\n",
       "      <th>32</th>\n",
       "      <td>32</td>\n",
       "      <td>Science &amp; Nature TV</td>\n",
       "    </tr>\n",
       "    <tr>\n",
       "      <th>33</th>\n",
       "      <td>33</td>\n",
       "      <td>Teen TV Shows</td>\n",
       "    </tr>\n",
       "    <tr>\n",
       "      <th>34</th>\n",
       "      <td>34</td>\n",
       "      <td>Cult Movies</td>\n",
       "    </tr>\n",
       "    <tr>\n",
       "      <th>35</th>\n",
       "      <td>35</td>\n",
       "      <td>TV Shows</td>\n",
       "    </tr>\n",
       "    <tr>\n",
       "      <th>36</th>\n",
       "      <td>36</td>\n",
       "      <td>Faith &amp; Spirituality</td>\n",
       "    </tr>\n",
       "    <tr>\n",
       "      <th>37</th>\n",
       "      <td>37</td>\n",
       "      <td>LGBTQ Movies</td>\n",
       "    </tr>\n",
       "    <tr>\n",
       "      <th>38</th>\n",
       "      <td>38</td>\n",
       "      <td>Stand-Up Comedy</td>\n",
       "    </tr>\n",
       "    <tr>\n",
       "      <th>39</th>\n",
       "      <td>39</td>\n",
       "      <td>Movies</td>\n",
       "    </tr>\n",
       "    <tr>\n",
       "      <th>40</th>\n",
       "      <td>40</td>\n",
       "      <td>Stand-Up Comedy &amp; Talk Shows</td>\n",
       "    </tr>\n",
       "    <tr>\n",
       "      <th>41</th>\n",
       "      <td>41</td>\n",
       "      <td>Classic &amp; Cult TV</td>\n",
       "    </tr>\n",
       "  </tbody>\n",
       "</table>\n",
       "</div>"
      ],
      "text/plain": [
       "    category_id                 category_name\n",
       "0             0                 Documentaries\n",
       "1             1        International TV Shows\n",
       "2             2                     TV Dramas\n",
       "3             3                  TV Mysteries\n",
       "4             4                Crime TV Shows\n",
       "5             5         TV Action & Adventure\n",
       "6             6                    Docuseries\n",
       "7             7                    Reality TV\n",
       "8             8             Romantic TV Shows\n",
       "9             9                   TV Comedies\n",
       "10           10                     TV Horror\n",
       "11           11      Children & Family Movies\n",
       "12           12                        Dramas\n",
       "13           13            Independent Movies\n",
       "14           14          International Movies\n",
       "15           15              British TV Shows\n",
       "16           16                      Comedies\n",
       "17           17     Spanish-Language TV Shows\n",
       "18           18                     Thrillers\n",
       "19           19               Romantic Movies\n",
       "20           20              Music & Musicals\n",
       "21           21                 Horror Movies\n",
       "22           22              Sci-Fi & Fantasy\n",
       "23           23                  TV Thrillers\n",
       "24           24                      Kids' TV\n",
       "25           25            Action & Adventure\n",
       "26           26           TV Sci-Fi & Fantasy\n",
       "27           27                Classic Movies\n",
       "28           28                Anime Features\n",
       "29           29                 Sports Movies\n",
       "30           30                  Anime Series\n",
       "31           31               Korean TV Shows\n",
       "32           32           Science & Nature TV\n",
       "33           33                 Teen TV Shows\n",
       "34           34                   Cult Movies\n",
       "35           35                      TV Shows\n",
       "36           36          Faith & Spirituality\n",
       "37           37                  LGBTQ Movies\n",
       "38           38               Stand-Up Comedy\n",
       "39           39                        Movies\n",
       "40           40  Stand-Up Comedy & Talk Shows\n",
       "41           41             Classic & Cult TV"
      ]
     },
     "execution_count": 37,
     "metadata": {},
     "output_type": "execute_result"
    }
   ],
   "source": [
    "categories = [category.strip() for record in df[\"category\"] for category in record] # flatten list of category in df with list comprehension\n",
    "categories = pd.Series(categories) # turn into series type\n",
    "categories = categories.unique() # get only the unique values\n",
    "\n",
    "categories = pd.DataFrame({ # create category table. (reused the variable name for better readability)\n",
    "    \"category_id\" : range(len(categories)) ,\n",
    "    \"category_name\" : categories\n",
    "})\n",
    "categories"
   ]
  },
  {
   "cell_type": "markdown",
   "id": "c583b521-529f-45be-ba87-f8dfc1b40c3b",
   "metadata": {},
   "source": [
    "- create parent tables that have only 1 foreign key dependency,\n",
    "- which are from tables that are already created (show_list, movie_duration, tv_show_duration)"
   ]
  },
  {
   "cell_type": "code",
   "execution_count": 38,
   "id": "fdacd648-bfe7-487f-aa24-89811d8a3b4b",
   "metadata": {},
   "outputs": [
    {
     "data": {
      "text/html": [
       "<div>\n",
       "<style scoped>\n",
       "    .dataframe tbody tr th:only-of-type {\n",
       "        vertical-align: middle;\n",
       "    }\n",
       "\n",
       "    .dataframe tbody tr th {\n",
       "        vertical-align: top;\n",
       "    }\n",
       "\n",
       "    .dataframe thead th {\n",
       "        text-align: right;\n",
       "    }\n",
       "</style>\n",
       "<table border=\"1\" class=\"dataframe\">\n",
       "  <thead>\n",
       "    <tr style=\"text-align: right;\">\n",
       "      <th></th>\n",
       "      <th>show_id</th>\n",
       "      <th>type</th>\n",
       "      <th>title</th>\n",
       "      <th>date_added</th>\n",
       "      <th>release_year</th>\n",
       "      <th>rating_id</th>\n",
       "      <th>description</th>\n",
       "    </tr>\n",
       "  </thead>\n",
       "  <tbody>\n",
       "    <tr>\n",
       "      <th>0</th>\n",
       "      <td>1</td>\n",
       "      <td>Movie</td>\n",
       "      <td>Dick Johnson Is Dead</td>\n",
       "      <td>2021-09-25</td>\n",
       "      <td>2020</td>\n",
       "      <td>PG-13</td>\n",
       "      <td>As her father nears the end of his life, filmm...</td>\n",
       "    </tr>\n",
       "    <tr>\n",
       "      <th>1</th>\n",
       "      <td>2</td>\n",
       "      <td>TV Show</td>\n",
       "      <td>Blood &amp; Water</td>\n",
       "      <td>2021-09-24</td>\n",
       "      <td>2021</td>\n",
       "      <td>TV-MA</td>\n",
       "      <td>After crossing paths at a party, a Cape Town t...</td>\n",
       "    </tr>\n",
       "    <tr>\n",
       "      <th>2</th>\n",
       "      <td>3</td>\n",
       "      <td>TV Show</td>\n",
       "      <td>Ganglands</td>\n",
       "      <td>2021-09-24</td>\n",
       "      <td>2021</td>\n",
       "      <td>TV-MA</td>\n",
       "      <td>To protect his family from a powerful drug lor...</td>\n",
       "    </tr>\n",
       "    <tr>\n",
       "      <th>3</th>\n",
       "      <td>4</td>\n",
       "      <td>TV Show</td>\n",
       "      <td>Jailbirds New Orleans</td>\n",
       "      <td>2021-09-24</td>\n",
       "      <td>2021</td>\n",
       "      <td>TV-MA</td>\n",
       "      <td>Feuds, flirtations and toilet talk go down amo...</td>\n",
       "    </tr>\n",
       "    <tr>\n",
       "      <th>4</th>\n",
       "      <td>5</td>\n",
       "      <td>TV Show</td>\n",
       "      <td>Kota Factory</td>\n",
       "      <td>2021-09-24</td>\n",
       "      <td>2021</td>\n",
       "      <td>TV-MA</td>\n",
       "      <td>In a city of coaching centers known to train I...</td>\n",
       "    </tr>\n",
       "    <tr>\n",
       "      <th>...</th>\n",
       "      <td>...</td>\n",
       "      <td>...</td>\n",
       "      <td>...</td>\n",
       "      <td>...</td>\n",
       "      <td>...</td>\n",
       "      <td>...</td>\n",
       "      <td>...</td>\n",
       "    </tr>\n",
       "    <tr>\n",
       "      <th>8802</th>\n",
       "      <td>8803</td>\n",
       "      <td>Movie</td>\n",
       "      <td>Zodiac</td>\n",
       "      <td>2019-11-20</td>\n",
       "      <td>2007</td>\n",
       "      <td>R</td>\n",
       "      <td>A political cartoonist, a crime reporter and a...</td>\n",
       "    </tr>\n",
       "    <tr>\n",
       "      <th>8803</th>\n",
       "      <td>8804</td>\n",
       "      <td>TV Show</td>\n",
       "      <td>Zombie Dumb</td>\n",
       "      <td>2019-07-01</td>\n",
       "      <td>2018</td>\n",
       "      <td>TV-Y7</td>\n",
       "      <td>While living alone in a spooky town, a young g...</td>\n",
       "    </tr>\n",
       "    <tr>\n",
       "      <th>8804</th>\n",
       "      <td>8805</td>\n",
       "      <td>Movie</td>\n",
       "      <td>Zombieland</td>\n",
       "      <td>2019-11-01</td>\n",
       "      <td>2009</td>\n",
       "      <td>R</td>\n",
       "      <td>Looking to survive in a world taken over by zo...</td>\n",
       "    </tr>\n",
       "    <tr>\n",
       "      <th>8805</th>\n",
       "      <td>8806</td>\n",
       "      <td>Movie</td>\n",
       "      <td>Zoom</td>\n",
       "      <td>2020-01-11</td>\n",
       "      <td>2006</td>\n",
       "      <td>PG</td>\n",
       "      <td>Dragged from civilian life, a former superhero...</td>\n",
       "    </tr>\n",
       "    <tr>\n",
       "      <th>8806</th>\n",
       "      <td>8807</td>\n",
       "      <td>Movie</td>\n",
       "      <td>Zubaan</td>\n",
       "      <td>2019-03-02</td>\n",
       "      <td>2015</td>\n",
       "      <td>TV-14</td>\n",
       "      <td>A scrappy but poor boy worms his way into a ty...</td>\n",
       "    </tr>\n",
       "  </tbody>\n",
       "</table>\n",
       "<p>8807 rows × 7 columns</p>\n",
       "</div>"
      ],
      "text/plain": [
       "      show_id     type                  title  date_added  release_year  \\\n",
       "0           1    Movie   Dick Johnson Is Dead  2021-09-25          2020   \n",
       "1           2  TV Show          Blood & Water  2021-09-24          2021   \n",
       "2           3  TV Show              Ganglands  2021-09-24          2021   \n",
       "3           4  TV Show  Jailbirds New Orleans  2021-09-24          2021   \n",
       "4           5  TV Show           Kota Factory  2021-09-24          2021   \n",
       "...       ...      ...                    ...         ...           ...   \n",
       "8802     8803    Movie                 Zodiac  2019-11-20          2007   \n",
       "8803     8804  TV Show            Zombie Dumb  2019-07-01          2018   \n",
       "8804     8805    Movie             Zombieland  2019-11-01          2009   \n",
       "8805     8806    Movie                   Zoom  2020-01-11          2006   \n",
       "8806     8807    Movie                 Zubaan  2019-03-02          2015   \n",
       "\n",
       "     rating_id                                        description  \n",
       "0        PG-13  As her father nears the end of his life, filmm...  \n",
       "1        TV-MA  After crossing paths at a party, a Cape Town t...  \n",
       "2        TV-MA  To protect his family from a powerful drug lor...  \n",
       "3        TV-MA  Feuds, flirtations and toilet talk go down amo...  \n",
       "4        TV-MA  In a city of coaching centers known to train I...  \n",
       "...        ...                                                ...  \n",
       "8802         R  A political cartoonist, a crime reporter and a...  \n",
       "8803     TV-Y7  While living alone in a spooky town, a young g...  \n",
       "8804         R  Looking to survive in a world taken over by zo...  \n",
       "8805        PG  Dragged from civilian life, a former superhero...  \n",
       "8806     TV-14  A scrappy but poor boy worms his way into a ty...  \n",
       "\n",
       "[8807 rows x 7 columns]"
      ]
     },
     "execution_count": 38,
     "metadata": {},
     "output_type": "execute_result"
    }
   ],
   "source": [
    "show_list = pd.DataFrame({\n",
    "    \"show_id\" : df[\"show_id\"] ,\n",
    "    \"type\" : df[\"type\"] , \n",
    "    \"title\" : df[\"title\"] , \n",
    "    \"date_added\" : df[\"date_added\"] , \n",
    "    \"release_year\" : df[\"release_year\"] , \n",
    "    \"rating_id\" : df[\"rating\"] , \n",
    "    \"description\" : df[\"description\"]\n",
    "})\n",
    "show_list"
   ]
  },
  {
   "cell_type": "markdown",
   "id": "3476f43f-c543-412d-a3bc-5edf0ef8abff",
   "metadata": {},
   "source": [
    "- then replace the values of rating_id with actual rating_id from the ratings table according to the matching value"
   ]
  },
  {
   "cell_type": "code",
   "execution_count": 39,
   "id": "e4839376-66d7-4628-917c-db08d9300885",
   "metadata": {},
   "outputs": [
    {
     "data": {
      "text/html": [
       "<div>\n",
       "<style scoped>\n",
       "    .dataframe tbody tr th:only-of-type {\n",
       "        vertical-align: middle;\n",
       "    }\n",
       "\n",
       "    .dataframe tbody tr th {\n",
       "        vertical-align: top;\n",
       "    }\n",
       "\n",
       "    .dataframe thead th {\n",
       "        text-align: right;\n",
       "    }\n",
       "</style>\n",
       "<table border=\"1\" class=\"dataframe\">\n",
       "  <thead>\n",
       "    <tr style=\"text-align: right;\">\n",
       "      <th></th>\n",
       "      <th>show_id</th>\n",
       "      <th>type</th>\n",
       "      <th>title</th>\n",
       "      <th>date_added</th>\n",
       "      <th>release_year</th>\n",
       "      <th>rating_id</th>\n",
       "      <th>description</th>\n",
       "    </tr>\n",
       "  </thead>\n",
       "  <tbody>\n",
       "    <tr>\n",
       "      <th>0</th>\n",
       "      <td>1</td>\n",
       "      <td>Movie</td>\n",
       "      <td>Dick Johnson Is Dead</td>\n",
       "      <td>2021-09-25</td>\n",
       "      <td>2020</td>\n",
       "      <td>0</td>\n",
       "      <td>As her father nears the end of his life, filmm...</td>\n",
       "    </tr>\n",
       "    <tr>\n",
       "      <th>1</th>\n",
       "      <td>2</td>\n",
       "      <td>TV Show</td>\n",
       "      <td>Blood &amp; Water</td>\n",
       "      <td>2021-09-24</td>\n",
       "      <td>2021</td>\n",
       "      <td>1</td>\n",
       "      <td>After crossing paths at a party, a Cape Town t...</td>\n",
       "    </tr>\n",
       "    <tr>\n",
       "      <th>2</th>\n",
       "      <td>3</td>\n",
       "      <td>TV Show</td>\n",
       "      <td>Ganglands</td>\n",
       "      <td>2021-09-24</td>\n",
       "      <td>2021</td>\n",
       "      <td>1</td>\n",
       "      <td>To protect his family from a powerful drug lor...</td>\n",
       "    </tr>\n",
       "    <tr>\n",
       "      <th>3</th>\n",
       "      <td>4</td>\n",
       "      <td>TV Show</td>\n",
       "      <td>Jailbirds New Orleans</td>\n",
       "      <td>2021-09-24</td>\n",
       "      <td>2021</td>\n",
       "      <td>1</td>\n",
       "      <td>Feuds, flirtations and toilet talk go down amo...</td>\n",
       "    </tr>\n",
       "    <tr>\n",
       "      <th>4</th>\n",
       "      <td>5</td>\n",
       "      <td>TV Show</td>\n",
       "      <td>Kota Factory</td>\n",
       "      <td>2021-09-24</td>\n",
       "      <td>2021</td>\n",
       "      <td>1</td>\n",
       "      <td>In a city of coaching centers known to train I...</td>\n",
       "    </tr>\n",
       "    <tr>\n",
       "      <th>...</th>\n",
       "      <td>...</td>\n",
       "      <td>...</td>\n",
       "      <td>...</td>\n",
       "      <td>...</td>\n",
       "      <td>...</td>\n",
       "      <td>...</td>\n",
       "      <td>...</td>\n",
       "    </tr>\n",
       "    <tr>\n",
       "      <th>8802</th>\n",
       "      <td>8803</td>\n",
       "      <td>Movie</td>\n",
       "      <td>Zodiac</td>\n",
       "      <td>2019-11-20</td>\n",
       "      <td>2007</td>\n",
       "      <td>7</td>\n",
       "      <td>A political cartoonist, a crime reporter and a...</td>\n",
       "    </tr>\n",
       "    <tr>\n",
       "      <th>8803</th>\n",
       "      <td>8804</td>\n",
       "      <td>TV Show</td>\n",
       "      <td>Zombie Dumb</td>\n",
       "      <td>2019-07-01</td>\n",
       "      <td>2018</td>\n",
       "      <td>6</td>\n",
       "      <td>While living alone in a spooky town, a young g...</td>\n",
       "    </tr>\n",
       "    <tr>\n",
       "      <th>8804</th>\n",
       "      <td>8805</td>\n",
       "      <td>Movie</td>\n",
       "      <td>Zombieland</td>\n",
       "      <td>2019-11-01</td>\n",
       "      <td>2009</td>\n",
       "      <td>7</td>\n",
       "      <td>Looking to survive in a world taken over by zo...</td>\n",
       "    </tr>\n",
       "    <tr>\n",
       "      <th>8805</th>\n",
       "      <td>8806</td>\n",
       "      <td>Movie</td>\n",
       "      <td>Zoom</td>\n",
       "      <td>2020-01-11</td>\n",
       "      <td>2006</td>\n",
       "      <td>2</td>\n",
       "      <td>Dragged from civilian life, a former superhero...</td>\n",
       "    </tr>\n",
       "    <tr>\n",
       "      <th>8806</th>\n",
       "      <td>8807</td>\n",
       "      <td>Movie</td>\n",
       "      <td>Zubaan</td>\n",
       "      <td>2019-03-02</td>\n",
       "      <td>2015</td>\n",
       "      <td>3</td>\n",
       "      <td>A scrappy but poor boy worms his way into a ty...</td>\n",
       "    </tr>\n",
       "  </tbody>\n",
       "</table>\n",
       "<p>8807 rows × 7 columns</p>\n",
       "</div>"
      ],
      "text/plain": [
       "      show_id     type                  title  date_added  release_year  \\\n",
       "0           1    Movie   Dick Johnson Is Dead  2021-09-25          2020   \n",
       "1           2  TV Show          Blood & Water  2021-09-24          2021   \n",
       "2           3  TV Show              Ganglands  2021-09-24          2021   \n",
       "3           4  TV Show  Jailbirds New Orleans  2021-09-24          2021   \n",
       "4           5  TV Show           Kota Factory  2021-09-24          2021   \n",
       "...       ...      ...                    ...         ...           ...   \n",
       "8802     8803    Movie                 Zodiac  2019-11-20          2007   \n",
       "8803     8804  TV Show            Zombie Dumb  2019-07-01          2018   \n",
       "8804     8805    Movie             Zombieland  2019-11-01          2009   \n",
       "8805     8806    Movie                   Zoom  2020-01-11          2006   \n",
       "8806     8807    Movie                 Zubaan  2019-03-02          2015   \n",
       "\n",
       "     rating_id                                        description  \n",
       "0            0  As her father nears the end of his life, filmm...  \n",
       "1            1  After crossing paths at a party, a Cape Town t...  \n",
       "2            1  To protect his family from a powerful drug lor...  \n",
       "3            1  Feuds, flirtations and toilet talk go down amo...  \n",
       "4            1  In a city of coaching centers known to train I...  \n",
       "...        ...                                                ...  \n",
       "8802         7  A political cartoonist, a crime reporter and a...  \n",
       "8803         6  While living alone in a spooky town, a young g...  \n",
       "8804         7  Looking to survive in a world taken over by zo...  \n",
       "8805         2  Dragged from civilian life, a former superhero...  \n",
       "8806         3  A scrappy but poor boy worms his way into a ty...  \n",
       "\n",
       "[8807 rows x 7 columns]"
      ]
     },
     "execution_count": 39,
     "metadata": {},
     "output_type": "execute_result"
    }
   ],
   "source": [
    "for record_index in show_list.index:\n",
    "    rating_name = show_list.loc[record_index, \"rating_id\"]\n",
    "    rating_id = ratings.query(\"rating_name == @rating_name\")[\"rating_id\"].iloc[0]\n",
    "    show_list.loc[record_index, \"rating_id\"] = rating_id\n",
    "show_list"
   ]
  },
  {
   "cell_type": "code",
   "execution_count": 40,
   "id": "4974c85b-ac00-4c6f-b70d-deb2a750b166",
   "metadata": {},
   "outputs": [
    {
     "data": {
      "text/html": [
       "<div>\n",
       "<style scoped>\n",
       "    .dataframe tbody tr th:only-of-type {\n",
       "        vertical-align: middle;\n",
       "    }\n",
       "\n",
       "    .dataframe tbody tr th {\n",
       "        vertical-align: top;\n",
       "    }\n",
       "\n",
       "    .dataframe thead th {\n",
       "        text-align: right;\n",
       "    }\n",
       "</style>\n",
       "<table border=\"1\" class=\"dataframe\">\n",
       "  <thead>\n",
       "    <tr style=\"text-align: right;\">\n",
       "      <th></th>\n",
       "      <th>movie_duration_id</th>\n",
       "      <th>show_id</th>\n",
       "      <th>minutes</th>\n",
       "    </tr>\n",
       "  </thead>\n",
       "  <tbody>\n",
       "    <tr>\n",
       "      <th>0</th>\n",
       "      <td>0</td>\n",
       "      <td>1</td>\n",
       "      <td>90</td>\n",
       "    </tr>\n",
       "    <tr>\n",
       "      <th>6</th>\n",
       "      <td>1</td>\n",
       "      <td>7</td>\n",
       "      <td>91</td>\n",
       "    </tr>\n",
       "    <tr>\n",
       "      <th>7</th>\n",
       "      <td>2</td>\n",
       "      <td>8</td>\n",
       "      <td>125</td>\n",
       "    </tr>\n",
       "    <tr>\n",
       "      <th>9</th>\n",
       "      <td>3</td>\n",
       "      <td>10</td>\n",
       "      <td>104</td>\n",
       "    </tr>\n",
       "    <tr>\n",
       "      <th>12</th>\n",
       "      <td>4</td>\n",
       "      <td>13</td>\n",
       "      <td>127</td>\n",
       "    </tr>\n",
       "    <tr>\n",
       "      <th>...</th>\n",
       "      <td>...</td>\n",
       "      <td>...</td>\n",
       "      <td>...</td>\n",
       "    </tr>\n",
       "    <tr>\n",
       "      <th>8801</th>\n",
       "      <td>6126</td>\n",
       "      <td>8802</td>\n",
       "      <td>96</td>\n",
       "    </tr>\n",
       "    <tr>\n",
       "      <th>8802</th>\n",
       "      <td>6127</td>\n",
       "      <td>8803</td>\n",
       "      <td>158</td>\n",
       "    </tr>\n",
       "    <tr>\n",
       "      <th>8804</th>\n",
       "      <td>6128</td>\n",
       "      <td>8805</td>\n",
       "      <td>88</td>\n",
       "    </tr>\n",
       "    <tr>\n",
       "      <th>8805</th>\n",
       "      <td>6129</td>\n",
       "      <td>8806</td>\n",
       "      <td>88</td>\n",
       "    </tr>\n",
       "    <tr>\n",
       "      <th>8806</th>\n",
       "      <td>6130</td>\n",
       "      <td>8807</td>\n",
       "      <td>111</td>\n",
       "    </tr>\n",
       "  </tbody>\n",
       "</table>\n",
       "<p>6131 rows × 3 columns</p>\n",
       "</div>"
      ],
      "text/plain": [
       "      movie_duration_id  show_id minutes\n",
       "0                     0        1      90\n",
       "6                     1        7      91\n",
       "7                     2        8     125\n",
       "9                     3       10     104\n",
       "12                    4       13     127\n",
       "...                 ...      ...     ...\n",
       "8801               6126     8802      96\n",
       "8802               6127     8803     158\n",
       "8804               6128     8805      88\n",
       "8805               6129     8806      88\n",
       "8806               6130     8807     111\n",
       "\n",
       "[6131 rows x 3 columns]"
      ]
     },
     "execution_count": 40,
     "metadata": {},
     "output_type": "execute_result"
    }
   ],
   "source": [
    "movie_duration = pd.DataFrame({\n",
    "    \"movie_duration_id\" : range(len(show_list.query(\"type == 'Movie'\"))) ,\n",
    "    \"show_id\" : df.query(\"type == 'Movie'\")[\"show_id\"],\n",
    "    \"minutes\" : df.query(\"type == 'Movie'\")[\"duration\"]\n",
    "})\n",
    "movie_duration"
   ]
  },
  {
   "cell_type": "code",
   "execution_count": 41,
   "id": "b583914d-10c0-4771-8e7d-c0b7709a8dce",
   "metadata": {},
   "outputs": [
    {
     "data": {
      "text/html": [
       "<div>\n",
       "<style scoped>\n",
       "    .dataframe tbody tr th:only-of-type {\n",
       "        vertical-align: middle;\n",
       "    }\n",
       "\n",
       "    .dataframe tbody tr th {\n",
       "        vertical-align: top;\n",
       "    }\n",
       "\n",
       "    .dataframe thead th {\n",
       "        text-align: right;\n",
       "    }\n",
       "</style>\n",
       "<table border=\"1\" class=\"dataframe\">\n",
       "  <thead>\n",
       "    <tr style=\"text-align: right;\">\n",
       "      <th></th>\n",
       "      <th>tv_show_duration_id</th>\n",
       "      <th>show_id</th>\n",
       "      <th>seasons</th>\n",
       "    </tr>\n",
       "  </thead>\n",
       "  <tbody>\n",
       "    <tr>\n",
       "      <th>1</th>\n",
       "      <td>0</td>\n",
       "      <td>2</td>\n",
       "      <td>2</td>\n",
       "    </tr>\n",
       "    <tr>\n",
       "      <th>2</th>\n",
       "      <td>1</td>\n",
       "      <td>3</td>\n",
       "      <td>1</td>\n",
       "    </tr>\n",
       "    <tr>\n",
       "      <th>3</th>\n",
       "      <td>2</td>\n",
       "      <td>4</td>\n",
       "      <td>1</td>\n",
       "    </tr>\n",
       "    <tr>\n",
       "      <th>4</th>\n",
       "      <td>3</td>\n",
       "      <td>5</td>\n",
       "      <td>2</td>\n",
       "    </tr>\n",
       "    <tr>\n",
       "      <th>5</th>\n",
       "      <td>4</td>\n",
       "      <td>6</td>\n",
       "      <td>1</td>\n",
       "    </tr>\n",
       "    <tr>\n",
       "      <th>...</th>\n",
       "      <td>...</td>\n",
       "      <td>...</td>\n",
       "      <td>...</td>\n",
       "    </tr>\n",
       "    <tr>\n",
       "      <th>8795</th>\n",
       "      <td>2671</td>\n",
       "      <td>8796</td>\n",
       "      <td>2</td>\n",
       "    </tr>\n",
       "    <tr>\n",
       "      <th>8796</th>\n",
       "      <td>2672</td>\n",
       "      <td>8797</td>\n",
       "      <td>2</td>\n",
       "    </tr>\n",
       "    <tr>\n",
       "      <th>8797</th>\n",
       "      <td>2673</td>\n",
       "      <td>8798</td>\n",
       "      <td>3</td>\n",
       "    </tr>\n",
       "    <tr>\n",
       "      <th>8800</th>\n",
       "      <td>2674</td>\n",
       "      <td>8801</td>\n",
       "      <td>1</td>\n",
       "    </tr>\n",
       "    <tr>\n",
       "      <th>8803</th>\n",
       "      <td>2675</td>\n",
       "      <td>8804</td>\n",
       "      <td>2</td>\n",
       "    </tr>\n",
       "  </tbody>\n",
       "</table>\n",
       "<p>2676 rows × 3 columns</p>\n",
       "</div>"
      ],
      "text/plain": [
       "      tv_show_duration_id  show_id seasons\n",
       "1                       0        2       2\n",
       "2                       1        3       1\n",
       "3                       2        4       1\n",
       "4                       3        5       2\n",
       "5                       4        6       1\n",
       "...                   ...      ...     ...\n",
       "8795                 2671     8796       2\n",
       "8796                 2672     8797       2\n",
       "8797                 2673     8798       3\n",
       "8800                 2674     8801       1\n",
       "8803                 2675     8804       2\n",
       "\n",
       "[2676 rows x 3 columns]"
      ]
     },
     "execution_count": 41,
     "metadata": {},
     "output_type": "execute_result"
    }
   ],
   "source": [
    "tv_show_duration = pd.DataFrame({\n",
    "    \"tv_show_duration_id\" : range(len(show_list.query(\"type == 'TV Show'\"))) ,\n",
    "    \"show_id\" : df.query(\"type == 'TV Show'\")[\"show_id\"],\n",
    "    \"seasons\" : df.query(\"type == 'TV Show'\")[\"duration\"]\n",
    "})\n",
    "tv_show_duration"
   ]
  },
  {
   "cell_type": "markdown",
   "id": "5050bc41-dc43-49e6-a870-79d1d154aae5",
   "metadata": {},
   "source": [
    "- create parent tables that have 2 foreign key dependencies,\n",
    "- which are from tables that are already created (show_directors, show_cast, show_countries, show_categories)\n",
    "- only tables left to create are the mapping tables"
   ]
  },
  {
   "cell_type": "code",
   "execution_count": 42,
   "id": "1fc97c53-f30f-4e93-b004-9f9c4dfd490c",
   "metadata": {},
   "outputs": [],
   "source": [
    "show_directors = pd.DataFrame({\n",
    "    \"show_id\" : [] ,\n",
    "    \"director_id\" : []\n",
    "})\n",
    "show_casts = pd.DataFrame({\n",
    "    \"show_id\" : [] ,\n",
    "    \"cast_id\" : []\n",
    "})\n",
    "show_categories = pd.DataFrame({\n",
    "    \"show_id\" : [] ,\n",
    "    \"category_id\" : []\n",
    "})\n",
    "show_countries = pd.DataFrame({\n",
    "    \"show_id\" : [] ,\n",
    "    \"country_id\" : []\n",
    "})"
   ]
  },
  {
   "cell_type": "code",
   "execution_count": 43,
   "id": "0ae22500-013d-46fc-a1ab-099e09877810",
   "metadata": {},
   "outputs": [],
   "source": [
    "for record_index in df.index:\n",
    "    show_id = df.loc[record_index, \"show_id\"]\n",
    "    for director in df.loc[record_index, \"director\"]:\n",
    "        last_index = len(show_directors)\n",
    "        director_id = directors.query(\"director_name == @director.strip()\")[\"director_id\"].iloc[0]\n",
    "        \n",
    "        show_directors.loc[last_index, \"show_id\"] = show_id\n",
    "        show_directors.loc[last_index, \"director_id\"] = director_id\n",
    "\n",
    "    for cast in df.loc[record_index, \"cast\"]:\n",
    "        last_index = len(show_casts)\n",
    "        cast_id = casts.query(\"cast_name == @cast.strip()\")[\"cast_id\"].iloc[0]\n",
    "        \n",
    "        show_casts.loc[last_index, \"show_id\"] = show_id\n",
    "        show_casts.loc[last_index, \"cast_id\"] = cast_id\n",
    "\n",
    "    for country in df.loc[record_index, \"country\"]:\n",
    "        last_index = len(show_countries)\n",
    "        country_id = countries.query(\"country_name == @country.strip()\")[\"country_id\"].iloc[0]\n",
    "        \n",
    "        show_countries.loc[last_index, \"show_id\"] = show_id\n",
    "        show_countries.loc[last_index, \"country_id\"] = country_id\n",
    "        \n",
    "    for category in df.loc[record_index, \"category\"]:\n",
    "        last_index = len(show_categories)\n",
    "        category_id = categories.query(\"category_name == @category.strip()\")[\"category_id\"].iloc[0]\n",
    "        \n",
    "        show_categories.loc[last_index, \"show_id\"] = show_id\n",
    "        show_categories.loc[last_index, \"category_id\"] = category_id"
   ]
  },
  {
   "cell_type": "code",
   "execution_count": 44,
   "id": "9303a50c-39da-41b8-8325-f5944652a3d1",
   "metadata": {},
   "outputs": [
    {
     "name": "stdout",
     "output_type": "stream",
     "text": [
      "      director_id            director_name\n",
      "0               0          Kirsten Johnson\n",
      "1               1                  unknown\n",
      "2               2          Julien Leclercq\n",
      "3               3            Mike Flanagan\n",
      "4               4            Robert Cullen\n",
      "...           ...                      ...\n",
      "4989         4989                   Mu Chu\n",
      "4990         4990  Chandra Prakash Dwivedi\n",
      "4991         4991          Majid Al Ansari\n",
      "4992         4992             Peter Hewitt\n",
      "4993         4993              Mozez Singh\n",
      "\n",
      "[4994 rows x 2 columns]        cast_id              cast_name\n",
      "0            0                unknown\n",
      "1            1             Ama Qamata\n",
      "2            2            Khosi Ngema\n",
      "3            3          Gail Mabalane\n",
      "4            4         Thabang Molaba\n",
      "...        ...                    ...\n",
      "36435    36435            Ryan Newman\n",
      "36436    36436        Raaghav Chanana\n",
      "36437    36437          Malkeet Rauni\n",
      "36438    36438         Anita Shabdish\n",
      "36439    36439  Chittaranjan Tripathy\n",
      "\n",
      "[36440 rows x 2 columns]     category_id                 category_name\n",
      "0             0                 Documentaries\n",
      "1             1        International TV Shows\n",
      "2             2                     TV Dramas\n",
      "3             3                  TV Mysteries\n",
      "4             4                Crime TV Shows\n",
      "5             5         TV Action & Adventure\n",
      "6             6                    Docuseries\n",
      "7             7                    Reality TV\n",
      "8             8             Romantic TV Shows\n",
      "9             9                   TV Comedies\n",
      "10           10                     TV Horror\n",
      "11           11      Children & Family Movies\n",
      "12           12                        Dramas\n",
      "13           13            Independent Movies\n",
      "14           14          International Movies\n",
      "15           15              British TV Shows\n",
      "16           16                      Comedies\n",
      "17           17     Spanish-Language TV Shows\n",
      "18           18                     Thrillers\n",
      "19           19               Romantic Movies\n",
      "20           20              Music & Musicals\n",
      "21           21                 Horror Movies\n",
      "22           22              Sci-Fi & Fantasy\n",
      "23           23                  TV Thrillers\n",
      "24           24                      Kids' TV\n",
      "25           25            Action & Adventure\n",
      "26           26           TV Sci-Fi & Fantasy\n",
      "27           27                Classic Movies\n",
      "28           28                Anime Features\n",
      "29           29                 Sports Movies\n",
      "30           30                  Anime Series\n",
      "31           31               Korean TV Shows\n",
      "32           32           Science & Nature TV\n",
      "33           33                 Teen TV Shows\n",
      "34           34                   Cult Movies\n",
      "35           35                      TV Shows\n",
      "36           36          Faith & Spirituality\n",
      "37           37                  LGBTQ Movies\n",
      "38           38               Stand-Up Comedy\n",
      "39           39                        Movies\n",
      "40           40  Stand-Up Comedy & Talk Shows\n",
      "41           41             Classic & Cult TV      country_id   country_name\n",
      "0             0  United States\n",
      "1             1   South Africa\n",
      "2             2        unknown\n",
      "3             3          India\n",
      "4             4          Ghana\n",
      "..          ...            ...\n",
      "119         119          Sudan\n",
      "120         120         Panama\n",
      "121         121         Uganda\n",
      "122         122   East Germany\n",
      "123         123     Montenegro\n",
      "\n",
      "[124 rows x 2 columns]     rating_id rating_name\n",
      "0           0       PG-13\n",
      "1           1       TV-MA\n",
      "2           2          PG\n",
      "3           3       TV-14\n",
      "4           4       TV-PG\n",
      "5           5        TV-Y\n",
      "6           6       TV-Y7\n",
      "7           7           R\n",
      "8           8        TV-G\n",
      "9           9           G\n",
      "10         10       NC-17\n",
      "11         11          NR\n",
      "12         12    TV-Y7-FV\n",
      "13         13          UR       show_id     type                  title  date_added  release_year  \\\n",
      "0           1    Movie   Dick Johnson Is Dead  2021-09-25          2020   \n",
      "1           2  TV Show          Blood & Water  2021-09-24          2021   \n",
      "2           3  TV Show              Ganglands  2021-09-24          2021   \n",
      "3           4  TV Show  Jailbirds New Orleans  2021-09-24          2021   \n",
      "4           5  TV Show           Kota Factory  2021-09-24          2021   \n",
      "...       ...      ...                    ...         ...           ...   \n",
      "8802     8803    Movie                 Zodiac  2019-11-20          2007   \n",
      "8803     8804  TV Show            Zombie Dumb  2019-07-01          2018   \n",
      "8804     8805    Movie             Zombieland  2019-11-01          2009   \n",
      "8805     8806    Movie                   Zoom  2020-01-11          2006   \n",
      "8806     8807    Movie                 Zubaan  2019-03-02          2015   \n",
      "\n",
      "     rating_id                                        description  \n",
      "0            0  As her father nears the end of his life, filmm...  \n",
      "1            1  After crossing paths at a party, a Cape Town t...  \n",
      "2            1  To protect his family from a powerful drug lor...  \n",
      "3            1  Feuds, flirtations and toilet talk go down amo...  \n",
      "4            1  In a city of coaching centers known to train I...  \n",
      "...        ...                                                ...  \n",
      "8802         7  A political cartoonist, a crime reporter and a...  \n",
      "8803         6  While living alone in a spooky town, a young g...  \n",
      "8804         7  Looking to survive in a world taken over by zo...  \n",
      "8805         2  Dragged from civilian life, a former superhero...  \n",
      "8806         3  A scrappy but poor boy worms his way into a ty...  \n",
      "\n",
      "[8807 rows x 7 columns]       movie_duration_id  show_id minutes\n",
      "0                     0        1      90\n",
      "6                     1        7      91\n",
      "7                     2        8     125\n",
      "9                     3       10     104\n",
      "12                    4       13     127\n",
      "...                 ...      ...     ...\n",
      "8801               6126     8802      96\n",
      "8802               6127     8803     158\n",
      "8804               6128     8805      88\n",
      "8805               6129     8806      88\n",
      "8806               6130     8807     111\n",
      "\n",
      "[6131 rows x 3 columns]       tv_show_duration_id  show_id seasons\n",
      "1                       0        2       2\n",
      "2                       1        3       1\n",
      "3                       2        4       1\n",
      "4                       3        5       2\n",
      "5                       4        6       1\n",
      "...                   ...      ...     ...\n",
      "8795                 2671     8796       2\n",
      "8796                 2672     8797       2\n",
      "8797                 2673     8798       3\n",
      "8800                 2674     8801       1\n",
      "8803                 2675     8804       2\n",
      "\n",
      "[2676 rows x 3 columns]       show_id  director_id\n",
      "0         1.0          0.0\n",
      "1         2.0          1.0\n",
      "2         3.0          2.0\n",
      "3         4.0          1.0\n",
      "4         5.0          1.0\n",
      "...       ...          ...\n",
      "9607   8803.0        409.0\n",
      "9608   8804.0          1.0\n",
      "9609   8805.0       3319.0\n",
      "9610   8806.0       4992.0\n",
      "9611   8807.0       4993.0\n",
      "\n",
      "[9612 rows x 2 columns]        show_id  cast_id\n",
      "0          1.0      0.0\n",
      "1          2.0      1.0\n",
      "2          2.0      2.0\n",
      "3          2.0      3.0\n",
      "4          2.0      4.0\n",
      "...        ...      ...\n",
      "64946   8807.0   8036.0\n",
      "64947   8807.0   7677.0\n",
      "64948   8807.0  36437.0\n",
      "64949   8807.0  36438.0\n",
      "64950   8807.0  36439.0\n",
      "\n",
      "[64951 rows x 2 columns]\n"
     ]
    }
   ],
   "source": [
    "print(\n",
    "    directors,\n",
    "    casts,\n",
    "    categories,\n",
    "    countries,\n",
    "    ratings,\n",
    "    show_list,\n",
    "    movie_duration,\n",
    "    tv_show_duration,\n",
    "    show_directors,\n",
    "    show_casts,\n",
    ")"
   ]
  },
  {
   "cell_type": "markdown",
   "id": "f379810a-4d16-44d7-a3e1-a98ee5149270",
   "metadata": {},
   "source": [
    "- final checking of each table"
   ]
  },
  {
   "cell_type": "code",
   "execution_count": 45,
   "id": "f856756a-476a-4cdd-808a-2ab0c9705c95",
   "metadata": {},
   "outputs": [
    {
     "name": "stdout",
     "output_type": "stream",
     "text": [
      "<class 'pandas.core.frame.DataFrame'>\n",
      "RangeIndex: 4994 entries, 0 to 4993\n",
      "Data columns (total 2 columns):\n",
      " #   Column         Non-Null Count  Dtype \n",
      "---  ------         --------------  ----- \n",
      " 0   director_id    4994 non-null   int64 \n",
      " 1   director_name  4994 non-null   object\n",
      "dtypes: int64(1), object(1)\n",
      "memory usage: 78.2+ KB\n",
      "None\n",
      "0\n",
      "4993\n",
      "A. L. Vijay\n",
      "Şenol Sönmez\n",
      "32\n"
     ]
    }
   ],
   "source": [
    "print(directors.info())\n",
    "print(directors[\"director_id\"].min())\n",
    "print(directors[\"director_id\"].max())\n",
    "print(directors[\"director_name\"].min())\n",
    "print(directors[\"director_name\"].max())\n",
    "print(directors[\"director_name\"].str.len().max())"
   ]
  },
  {
   "cell_type": "code",
   "execution_count": 46,
   "id": "aba7edae-3e9b-4ada-ac6e-b8302bd0cb47",
   "metadata": {},
   "outputs": [
    {
     "data": {
      "text/html": [
       "<div>\n",
       "<style scoped>\n",
       "    .dataframe tbody tr th:only-of-type {\n",
       "        vertical-align: middle;\n",
       "    }\n",
       "\n",
       "    .dataframe tbody tr th {\n",
       "        vertical-align: top;\n",
       "    }\n",
       "\n",
       "    .dataframe thead th {\n",
       "        text-align: right;\n",
       "    }\n",
       "</style>\n",
       "<table border=\"1\" class=\"dataframe\">\n",
       "  <thead>\n",
       "    <tr style=\"text-align: right;\">\n",
       "      <th></th>\n",
       "      <th>director_id</th>\n",
       "      <th>director_name</th>\n",
       "    </tr>\n",
       "  </thead>\n",
       "  <tbody>\n",
       "    <tr>\n",
       "      <th>416</th>\n",
       "      <td>416</td>\n",
       "      <td>Florian Henckel von Donnersmarck</td>\n",
       "    </tr>\n",
       "  </tbody>\n",
       "</table>\n",
       "</div>"
      ],
      "text/plain": [
       "     director_id                     director_name\n",
       "416          416  Florian Henckel von Donnersmarck"
      ]
     },
     "execution_count": 46,
     "metadata": {},
     "output_type": "execute_result"
    }
   ],
   "source": [
    "directors.query(\"director_name.str.len() == 32\")"
   ]
  },
  {
   "cell_type": "code",
   "execution_count": 47,
   "id": "9dcca328-597f-42b5-9159-65377cdb368d",
   "metadata": {},
   "outputs": [
    {
     "name": "stdout",
     "output_type": "stream",
     "text": [
      "<class 'pandas.core.frame.DataFrame'>\n",
      "RangeIndex: 36440 entries, 0 to 36439\n",
      "Data columns (total 2 columns):\n",
      " #   Column     Non-Null Count  Dtype \n",
      "---  ------     --------------  ----- \n",
      " 0   cast_id    36440 non-null  int64 \n",
      " 1   cast_name  36440 non-null  object\n",
      "dtypes: int64(1), object(1)\n",
      "memory usage: 569.5+ KB\n",
      "None\n",
      "0\n",
      "36439\n",
      "\"Riley\" Lakdhar Dridi\n",
      "Ṣọpẹ́ Dìrísù\n",
      "100\n"
     ]
    }
   ],
   "source": [
    "print(casts.info())\n",
    "print(casts[\"cast_id\"].min())\n",
    "print(casts[\"cast_id\"].max())\n",
    "print(casts[\"cast_name\"].min())\n",
    "print(casts[\"cast_name\"].max())\n",
    "print(casts[\"cast_name\"].str.len().max())"
   ]
  },
  {
   "cell_type": "code",
   "execution_count": 48,
   "id": "9343080a-469c-4857-8f9e-ac0941e34f27",
   "metadata": {},
   "outputs": [
    {
     "data": {
      "text/html": [
       "<div>\n",
       "<style scoped>\n",
       "    .dataframe tbody tr th:only-of-type {\n",
       "        vertical-align: middle;\n",
       "    }\n",
       "\n",
       "    .dataframe tbody tr th {\n",
       "        vertical-align: top;\n",
       "    }\n",
       "\n",
       "    .dataframe thead th {\n",
       "        text-align: right;\n",
       "    }\n",
       "</style>\n",
       "<table border=\"1\" class=\"dataframe\">\n",
       "  <thead>\n",
       "    <tr style=\"text-align: right;\">\n",
       "      <th></th>\n",
       "      <th>cast_id</th>\n",
       "      <th>cast_name</th>\n",
       "    </tr>\n",
       "  </thead>\n",
       "  <tbody>\n",
       "    <tr>\n",
       "      <th>5111</th>\n",
       "      <td>5111</td>\n",
       "      <td>Cast members of the \"To All the Boys\" films di...</td>\n",
       "    </tr>\n",
       "  </tbody>\n",
       "</table>\n",
       "</div>"
      ],
      "text/plain": [
       "      cast_id                                          cast_name\n",
       "5111     5111  Cast members of the \"To All the Boys\" films di..."
      ]
     },
     "execution_count": 48,
     "metadata": {},
     "output_type": "execute_result"
    }
   ],
   "source": [
    "casts.query(\"cast_name.str.len() == 100\")"
   ]
  },
  {
   "cell_type": "code",
   "execution_count": 49,
   "id": "af94c70c-edae-48b2-ba71-a55f0f19e8a9",
   "metadata": {},
   "outputs": [
    {
     "data": {
      "text/html": [
       "<div>\n",
       "<style scoped>\n",
       "    .dataframe tbody tr th:only-of-type {\n",
       "        vertical-align: middle;\n",
       "    }\n",
       "\n",
       "    .dataframe tbody tr th {\n",
       "        vertical-align: top;\n",
       "    }\n",
       "\n",
       "    .dataframe thead th {\n",
       "        text-align: right;\n",
       "    }\n",
       "</style>\n",
       "<table border=\"1\" class=\"dataframe\">\n",
       "  <thead>\n",
       "    <tr style=\"text-align: right;\">\n",
       "      <th></th>\n",
       "      <th>show_id</th>\n",
       "      <th>cast_id</th>\n",
       "    </tr>\n",
       "  </thead>\n",
       "  <tbody>\n",
       "    <tr>\n",
       "      <th>6174</th>\n",
       "      <td>733.0</td>\n",
       "      <td>5111.0</td>\n",
       "    </tr>\n",
       "  </tbody>\n",
       "</table>\n",
       "</div>"
      ],
      "text/plain": [
       "      show_id  cast_id\n",
       "6174    733.0   5111.0"
      ]
     },
     "execution_count": 49,
     "metadata": {},
     "output_type": "execute_result"
    }
   ],
   "source": [
    "show_casts.query(\"cast_id == 5111\")"
   ]
  },
  {
   "cell_type": "code",
   "execution_count": 50,
   "id": "b9310455-8eb1-4802-8fd6-4b0fe71e01c2",
   "metadata": {},
   "outputs": [
    {
     "data": {
      "text/html": [
       "<div>\n",
       "<style scoped>\n",
       "    .dataframe tbody tr th:only-of-type {\n",
       "        vertical-align: middle;\n",
       "    }\n",
       "\n",
       "    .dataframe tbody tr th {\n",
       "        vertical-align: top;\n",
       "    }\n",
       "\n",
       "    .dataframe thead th {\n",
       "        text-align: right;\n",
       "    }\n",
       "</style>\n",
       "<table border=\"1\" class=\"dataframe\">\n",
       "  <thead>\n",
       "    <tr style=\"text-align: right;\">\n",
       "      <th></th>\n",
       "      <th>show_id</th>\n",
       "      <th>type</th>\n",
       "      <th>title</th>\n",
       "      <th>date_added</th>\n",
       "      <th>release_year</th>\n",
       "      <th>rating_id</th>\n",
       "      <th>description</th>\n",
       "    </tr>\n",
       "  </thead>\n",
       "  <tbody>\n",
       "    <tr>\n",
       "      <th>732</th>\n",
       "      <td>733</td>\n",
       "      <td>Movie</td>\n",
       "      <td>To All the Boys: Always and Forever - The Afte...</td>\n",
       "      <td>2021-06-12</td>\n",
       "      <td>2021</td>\n",
       "      <td>1</td>\n",
       "      <td>Cast members of the \"To All the Boys\" films di...</td>\n",
       "    </tr>\n",
       "  </tbody>\n",
       "</table>\n",
       "</div>"
      ],
      "text/plain": [
       "     show_id   type                                              title  \\\n",
       "732      733  Movie  To All the Boys: Always and Forever - The Afte...   \n",
       "\n",
       "     date_added  release_year rating_id  \\\n",
       "732  2021-06-12          2021         1   \n",
       "\n",
       "                                           description  \n",
       "732  Cast members of the \"To All the Boys\" films di...  "
      ]
     },
     "execution_count": 50,
     "metadata": {},
     "output_type": "execute_result"
    }
   ],
   "source": [
    "show_list.query(\"show_id == 733\")"
   ]
  },
  {
   "cell_type": "code",
   "execution_count": 51,
   "id": "88b2f881-0029-41f5-8dc5-695a68414279",
   "metadata": {},
   "outputs": [
    {
     "data": {
      "text/html": [
       "<div>\n",
       "<style scoped>\n",
       "    .dataframe tbody tr th:only-of-type {\n",
       "        vertical-align: middle;\n",
       "    }\n",
       "\n",
       "    .dataframe tbody tr th {\n",
       "        vertical-align: top;\n",
       "    }\n",
       "\n",
       "    .dataframe thead th {\n",
       "        text-align: right;\n",
       "    }\n",
       "</style>\n",
       "<table border=\"1\" class=\"dataframe\">\n",
       "  <thead>\n",
       "    <tr style=\"text-align: right;\">\n",
       "      <th></th>\n",
       "      <th>show_id</th>\n",
       "      <th>cast_id</th>\n",
       "    </tr>\n",
       "  </thead>\n",
       "  <tbody>\n",
       "    <tr>\n",
       "      <th>6174</th>\n",
       "      <td>733.0</td>\n",
       "      <td>5111.0</td>\n",
       "    </tr>\n",
       "    <tr>\n",
       "      <th>6175</th>\n",
       "      <td>733.0</td>\n",
       "      <td>5112.0</td>\n",
       "    </tr>\n",
       "  </tbody>\n",
       "</table>\n",
       "</div>"
      ],
      "text/plain": [
       "      show_id  cast_id\n",
       "6174    733.0   5111.0\n",
       "6175    733.0   5112.0"
      ]
     },
     "execution_count": 51,
     "metadata": {},
     "output_type": "execute_result"
    }
   ],
   "source": [
    "show_casts.query(\"show_id == 733\")"
   ]
  },
  {
   "cell_type": "markdown",
   "id": "3b02b7e7-e39d-4583-ab98-79029ccfc36b",
   "metadata": {},
   "source": [
    "- like in previous version of preprocessing the dataset, there is also an error on the cast name as the dataset came with error.\n",
    "- the show is: To All the Boys: Always and Forever - The Afterparty\n",
    "- replace the cast like before"
   ]
  },
  {
   "cell_type": "code",
   "execution_count": 52,
   "id": "21946a68-6715-4527-a361-5d039dfb1965",
   "metadata": {},
   "outputs": [],
   "source": [
    "casts = casts.query(\"cast_id != 5111\") # remove error cast record\n",
    "casts = casts.query(\"cast_id != 5112\") # remove error cast record"
   ]
  },
  {
   "cell_type": "code",
   "execution_count": 53,
   "id": "0ec1791c-ea32-4935-bcf9-4e1ca466058b",
   "metadata": {},
   "outputs": [],
   "source": [
    "show_casts = show_casts.query(\"cast_id != 5111\") # remove error cast mapping record\n",
    "show_casts = show_casts.query(\"cast_id != 5112\") # remove error cast mapping record"
   ]
  },
  {
   "cell_type": "markdown",
   "id": "33e73a9a-86e4-4e6e-9741-2086d2b6163c",
   "metadata": {},
   "source": [
    "- from online information: \"To All the Boys: Always and Forever - The Afterparty\" the cast are:\n",
    "    - Anna Cathcart\n",
    "    - Lana Condor\n",
    "    - John Corbett\n",
    "    - Henry Thomas\n",
    "    - Noah Centineo\n",
    "    - Sarayu Blue\n",
    "    - Madeleine Arthur\n",
    "    - Ross Butler\n",
    "    - Emilija Baranac\n",
    "    - Trezzo Mahoro\n",
    "    - Kelcey Mawema\n",
    "    - Sofia Black-D'Elia\n",
    "    - Jeon Ho-Young\n",
    "    - Janel Parrish\n",
    "- check for existence of each in casts"
   ]
  },
  {
   "cell_type": "code",
   "execution_count": 54,
   "id": "7eec1f82-c1be-4011-aafd-baefd9d36e30",
   "metadata": {},
   "outputs": [
    {
     "name": "stdout",
     "output_type": "stream",
     "text": [
      "      cast_id      cast_name\n",
      "8572     8572  Anna Cathcart\n",
      "      cast_id    cast_name\n",
      "8570     8570  Lana Condor\n",
      "      cast_id     cast_name\n",
      "8578     8578  John Corbett\n",
      "    cast_id     cast_name\n",
      "40       40  Henry Thomas\n",
      "      cast_id      cast_name\n",
      "6483     6483  Noah Centineo\n",
      "      cast_id    cast_name\n",
      "8577     8577  Sarayu Blue\n",
      "      cast_id         cast_name\n",
      "8574     8574  Madeleine Arthur\n",
      "      cast_id    cast_name\n",
      "8573     8573  Ross Butler\n",
      "      cast_id        cast_name\n",
      "8575     8575  Emilija Baranac\n",
      "      cast_id      cast_name\n",
      "8576     8576  Trezzo Mahoro\n",
      "      cast_id      cast_name\n",
      "8579     8579  Kelcey Mawema\n",
      "      cast_id           cast_name\n",
      "8580     8580  Sofia Black-D'Elia\n",
      "Empty DataFrame\n",
      "Columns: [cast_id, cast_name]\n",
      "Index: []\n",
      "      cast_id      cast_name\n",
      "8571     8571  Janel Parrish\n"
     ]
    }
   ],
   "source": [
    "print(casts.query(\"cast_name == 'Anna Cathcart'\"))\n",
    "print(casts.query(\"cast_name == 'Lana Condor'\"))\n",
    "print(casts.query(\"cast_name == 'John Corbett'\"))\n",
    "print(casts.query(\"cast_name == 'Henry Thomas'\"))\n",
    "print(casts.query(\"cast_name == 'Noah Centineo'\"))\n",
    "print(casts.query(\"cast_name == 'Sarayu Blue'\"))\n",
    "print(casts.query(\"cast_name == 'Madeleine Arthur'\"))\n",
    "print(casts.query(\"cast_name == 'Ross Butler'\"))\n",
    "print(casts.query(\"cast_name == 'Emilija Baranac'\"))\n",
    "print(casts.query(\"cast_name == 'Trezzo Mahoro'\"))\n",
    "print(casts.query(\"cast_name == 'Kelcey Mawema'\"))\n",
    "print(casts.query(\"cast_name == 'Sofia Black-D\\\\'Elia'\"))\n",
    "print(casts.query(\"cast_name == 'Jeon Ho-Young'\"))\n",
    "print(casts.query(\"cast_name == 'Janel Parrish'\"))"
   ]
  },
  {
   "cell_type": "markdown",
   "id": "e4abf4ad-e5e1-4b0e-843f-3378bff56725",
   "metadata": {},
   "source": [
    "- Jeon Ho-Young is not in the list. add."
   ]
  },
  {
   "cell_type": "code",
   "execution_count": 55,
   "id": "ebe3d626-bfff-48b3-a4d3-844fbd379365",
   "metadata": {},
   "outputs": [
    {
     "data": {
      "text/html": [
       "<div>\n",
       "<style scoped>\n",
       "    .dataframe tbody tr th:only-of-type {\n",
       "        vertical-align: middle;\n",
       "    }\n",
       "\n",
       "    .dataframe tbody tr th {\n",
       "        vertical-align: top;\n",
       "    }\n",
       "\n",
       "    .dataframe thead th {\n",
       "        text-align: right;\n",
       "    }\n",
       "</style>\n",
       "<table border=\"1\" class=\"dataframe\">\n",
       "  <thead>\n",
       "    <tr style=\"text-align: right;\">\n",
       "      <th></th>\n",
       "      <th>cast_id</th>\n",
       "      <th>cast_name</th>\n",
       "    </tr>\n",
       "  </thead>\n",
       "  <tbody>\n",
       "    <tr>\n",
       "      <th>0</th>\n",
       "      <td>0.0</td>\n",
       "      <td>unknown</td>\n",
       "    </tr>\n",
       "    <tr>\n",
       "      <th>1</th>\n",
       "      <td>1.0</td>\n",
       "      <td>Ama Qamata</td>\n",
       "    </tr>\n",
       "    <tr>\n",
       "      <th>2</th>\n",
       "      <td>2.0</td>\n",
       "      <td>Khosi Ngema</td>\n",
       "    </tr>\n",
       "    <tr>\n",
       "      <th>3</th>\n",
       "      <td>3.0</td>\n",
       "      <td>Gail Mabalane</td>\n",
       "    </tr>\n",
       "    <tr>\n",
       "      <th>4</th>\n",
       "      <td>4.0</td>\n",
       "      <td>Thabang Molaba</td>\n",
       "    </tr>\n",
       "    <tr>\n",
       "      <th>...</th>\n",
       "      <td>...</td>\n",
       "      <td>...</td>\n",
       "    </tr>\n",
       "    <tr>\n",
       "      <th>36436</th>\n",
       "      <td>36436.0</td>\n",
       "      <td>Raaghav Chanana</td>\n",
       "    </tr>\n",
       "    <tr>\n",
       "      <th>36437</th>\n",
       "      <td>36437.0</td>\n",
       "      <td>Malkeet Rauni</td>\n",
       "    </tr>\n",
       "    <tr>\n",
       "      <th>36438</th>\n",
       "      <td>36438.0</td>\n",
       "      <td>Anita Shabdish</td>\n",
       "    </tr>\n",
       "    <tr>\n",
       "      <th>36439</th>\n",
       "      <td>36439.0</td>\n",
       "      <td>Chittaranjan Tripathy</td>\n",
       "    </tr>\n",
       "    <tr>\n",
       "      <th>36440</th>\n",
       "      <td>36440.0</td>\n",
       "      <td>Jeon Ho-Young</td>\n",
       "    </tr>\n",
       "  </tbody>\n",
       "</table>\n",
       "<p>36439 rows × 2 columns</p>\n",
       "</div>"
      ],
      "text/plain": [
       "       cast_id              cast_name\n",
       "0          0.0                unknown\n",
       "1          1.0             Ama Qamata\n",
       "2          2.0            Khosi Ngema\n",
       "3          3.0          Gail Mabalane\n",
       "4          4.0         Thabang Molaba\n",
       "...        ...                    ...\n",
       "36436  36436.0        Raaghav Chanana\n",
       "36437  36437.0          Malkeet Rauni\n",
       "36438  36438.0         Anita Shabdish\n",
       "36439  36439.0  Chittaranjan Tripathy\n",
       "36440  36440.0          Jeon Ho-Young\n",
       "\n",
       "[36439 rows x 2 columns]"
      ]
     },
     "execution_count": 55,
     "metadata": {},
     "output_type": "execute_result"
    }
   ],
   "source": [
    "new_record_index = casts.index.max() + 1\n",
    "new_record_id = casts[\"cast_id\"].max() + 1\n",
    "casts.loc[new_record_index, \"cast_id\"] = new_record_id\n",
    "casts.loc[new_record_index, \"cast_name\"] = \"Jeon Ho-Young\"\n",
    "casts"
   ]
  },
  {
   "cell_type": "code",
   "execution_count": 56,
   "id": "1b621e49-176c-414d-bca5-a07b09ae3ed4",
   "metadata": {},
   "outputs": [
    {
     "data": {
      "text/html": [
       "<div>\n",
       "<style scoped>\n",
       "    .dataframe tbody tr th:only-of-type {\n",
       "        vertical-align: middle;\n",
       "    }\n",
       "\n",
       "    .dataframe tbody tr th {\n",
       "        vertical-align: top;\n",
       "    }\n",
       "\n",
       "    .dataframe thead th {\n",
       "        text-align: right;\n",
       "    }\n",
       "</style>\n",
       "<table border=\"1\" class=\"dataframe\">\n",
       "  <thead>\n",
       "    <tr style=\"text-align: right;\">\n",
       "      <th></th>\n",
       "      <th>show_id</th>\n",
       "      <th>cast_id</th>\n",
       "    </tr>\n",
       "  </thead>\n",
       "  <tbody>\n",
       "    <tr>\n",
       "      <th>0</th>\n",
       "      <td>1.0</td>\n",
       "      <td>0.0</td>\n",
       "    </tr>\n",
       "    <tr>\n",
       "      <th>1</th>\n",
       "      <td>2.0</td>\n",
       "      <td>1.0</td>\n",
       "    </tr>\n",
       "    <tr>\n",
       "      <th>2</th>\n",
       "      <td>2.0</td>\n",
       "      <td>2.0</td>\n",
       "    </tr>\n",
       "    <tr>\n",
       "      <th>3</th>\n",
       "      <td>2.0</td>\n",
       "      <td>3.0</td>\n",
       "    </tr>\n",
       "    <tr>\n",
       "      <th>4</th>\n",
       "      <td>2.0</td>\n",
       "      <td>4.0</td>\n",
       "    </tr>\n",
       "    <tr>\n",
       "      <th>...</th>\n",
       "      <td>...</td>\n",
       "      <td>...</td>\n",
       "    </tr>\n",
       "    <tr>\n",
       "      <th>64960</th>\n",
       "      <td>733.0</td>\n",
       "      <td>8576.0</td>\n",
       "    </tr>\n",
       "    <tr>\n",
       "      <th>64961</th>\n",
       "      <td>733.0</td>\n",
       "      <td>8579.0</td>\n",
       "    </tr>\n",
       "    <tr>\n",
       "      <th>64962</th>\n",
       "      <td>733.0</td>\n",
       "      <td>8580.0</td>\n",
       "    </tr>\n",
       "    <tr>\n",
       "      <th>64963</th>\n",
       "      <td>733.0</td>\n",
       "      <td>36440.0</td>\n",
       "    </tr>\n",
       "    <tr>\n",
       "      <th>64964</th>\n",
       "      <td>733.0</td>\n",
       "      <td>8571.0</td>\n",
       "    </tr>\n",
       "  </tbody>\n",
       "</table>\n",
       "<p>64963 rows × 2 columns</p>\n",
       "</div>"
      ],
      "text/plain": [
       "       show_id  cast_id\n",
       "0          1.0      0.0\n",
       "1          2.0      1.0\n",
       "2          2.0      2.0\n",
       "3          2.0      3.0\n",
       "4          2.0      4.0\n",
       "...        ...      ...\n",
       "64960    733.0   8576.0\n",
       "64961    733.0   8579.0\n",
       "64962    733.0   8580.0\n",
       "64963    733.0  36440.0\n",
       "64964    733.0   8571.0\n",
       "\n",
       "[64963 rows x 2 columns]"
      ]
     },
     "execution_count": 56,
     "metadata": {},
     "output_type": "execute_result"
    }
   ],
   "source": [
    "casts_to_map = [\"Anna Cathcart\", \"Lana Condor\", \"John Corbett\", \"Henry Thomas\", \"Noah Centineo\", \"Sarayu Blue\", \"Madeleine Arthur\", \"Ross Butler\", \"Emilija Baranac\", \"Trezzo Mahoro\", \"Kelcey Mawema\", \"Sofia Black-D'Elia\", \"Jeon Ho-Young\", \"Janel Parrish\"]\n",
    "for cast in casts_to_map:\n",
    "    new_record_index = show_casts.index.max() + 1\n",
    "    show_casts.loc[new_record_index, \"show_id\"] = 733 # the show_id queried above\n",
    "    cast_id = casts.query(\"cast_name == @cast\")[\"cast_id\"].iloc[0]\n",
    "    show_casts.loc[new_record_index, \"cast_id\"] = cast_id\n",
    "show_casts"
   ]
  },
  {
   "cell_type": "code",
   "execution_count": 57,
   "id": "f963e8cd-e4c7-48e3-981a-346d0a5bc663",
   "metadata": {},
   "outputs": [
    {
     "name": "stdout",
     "output_type": "stream",
     "text": [
      "<class 'pandas.core.frame.DataFrame'>\n",
      "Index: 36439 entries, 0 to 36440\n",
      "Data columns (total 2 columns):\n",
      " #   Column     Non-Null Count  Dtype  \n",
      "---  ------     --------------  -----  \n",
      " 0   cast_id    36439 non-null  float64\n",
      " 1   cast_name  36439 non-null  object \n",
      "dtypes: float64(1), object(1)\n",
      "memory usage: 1.8+ MB\n",
      "None\n",
      "0.0\n",
      "36440.0\n",
      "\"Riley\" Lakdhar Dridi\n",
      "Ṣọpẹ́ Dìrísù\n",
      "84\n"
     ]
    }
   ],
   "source": [
    "print(casts.info())\n",
    "print(casts[\"cast_id\"].min())\n",
    "print(casts[\"cast_id\"].max())\n",
    "print(casts[\"cast_name\"].min())\n",
    "print(casts[\"cast_name\"].max())\n",
    "print(casts[\"cast_name\"].str.len().max())"
   ]
  },
  {
   "cell_type": "code",
   "execution_count": 58,
   "id": "e1baeafe-166e-4b74-af94-cbd433f9d0ff",
   "metadata": {},
   "outputs": [
    {
     "data": {
      "text/html": [
       "<div>\n",
       "<style scoped>\n",
       "    .dataframe tbody tr th:only-of-type {\n",
       "        vertical-align: middle;\n",
       "    }\n",
       "\n",
       "    .dataframe tbody tr th {\n",
       "        vertical-align: top;\n",
       "    }\n",
       "\n",
       "    .dataframe thead th {\n",
       "        text-align: right;\n",
       "    }\n",
       "</style>\n",
       "<table border=\"1\" class=\"dataframe\">\n",
       "  <thead>\n",
       "    <tr style=\"text-align: right;\">\n",
       "      <th></th>\n",
       "      <th>cast_id</th>\n",
       "      <th>cast_name</th>\n",
       "    </tr>\n",
       "  </thead>\n",
       "  <tbody>\n",
       "    <tr>\n",
       "      <th>28830</th>\n",
       "      <td>28830.0</td>\n",
       "      <td>this documentary follows the plight of 18 Belu...</td>\n",
       "    </tr>\n",
       "  </tbody>\n",
       "</table>\n",
       "</div>"
      ],
      "text/plain": [
       "       cast_id                                          cast_name\n",
       "28830  28830.0  this documentary follows the plight of 18 Belu..."
      ]
     },
     "execution_count": 58,
     "metadata": {},
     "output_type": "execute_result"
    }
   ],
   "source": [
    "casts.query(\"cast_name.str.len() == 84\")"
   ]
  },
  {
   "cell_type": "code",
   "execution_count": 59,
   "id": "9fb66870-95d3-459d-befa-c29b2484342d",
   "metadata": {},
   "outputs": [
    {
     "data": {
      "text/html": [
       "<div>\n",
       "<style scoped>\n",
       "    .dataframe tbody tr th:only-of-type {\n",
       "        vertical-align: middle;\n",
       "    }\n",
       "\n",
       "    .dataframe tbody tr th {\n",
       "        vertical-align: top;\n",
       "    }\n",
       "\n",
       "    .dataframe thead th {\n",
       "        text-align: right;\n",
       "    }\n",
       "</style>\n",
       "<table border=\"1\" class=\"dataframe\">\n",
       "  <thead>\n",
       "    <tr style=\"text-align: right;\">\n",
       "      <th></th>\n",
       "      <th>show_id</th>\n",
       "      <th>cast_id</th>\n",
       "    </tr>\n",
       "  </thead>\n",
       "  <tbody>\n",
       "    <tr>\n",
       "      <th>47249</th>\n",
       "      <td>6364.0</td>\n",
       "      <td>28830.0</td>\n",
       "    </tr>\n",
       "  </tbody>\n",
       "</table>\n",
       "</div>"
      ],
      "text/plain": [
       "       show_id  cast_id\n",
       "47249   6364.0  28830.0"
      ]
     },
     "execution_count": 59,
     "metadata": {},
     "output_type": "execute_result"
    }
   ],
   "source": [
    "show_casts.query(\"cast_id == 28830\")"
   ]
  },
  {
   "cell_type": "code",
   "execution_count": 60,
   "id": "d16db381-8146-4cb4-83d8-3d4eae52d4d9",
   "metadata": {},
   "outputs": [
    {
     "data": {
      "text/html": [
       "<div>\n",
       "<style scoped>\n",
       "    .dataframe tbody tr th:only-of-type {\n",
       "        vertical-align: middle;\n",
       "    }\n",
       "\n",
       "    .dataframe tbody tr th {\n",
       "        vertical-align: top;\n",
       "    }\n",
       "\n",
       "    .dataframe thead th {\n",
       "        text-align: right;\n",
       "    }\n",
       "</style>\n",
       "<table border=\"1\" class=\"dataframe\">\n",
       "  <thead>\n",
       "    <tr style=\"text-align: right;\">\n",
       "      <th></th>\n",
       "      <th>show_id</th>\n",
       "      <th>cast_id</th>\n",
       "    </tr>\n",
       "  </thead>\n",
       "  <tbody>\n",
       "    <tr>\n",
       "      <th>47248</th>\n",
       "      <td>6364.0</td>\n",
       "      <td>28829.0</td>\n",
       "    </tr>\n",
       "    <tr>\n",
       "      <th>47249</th>\n",
       "      <td>6364.0</td>\n",
       "      <td>28830.0</td>\n",
       "    </tr>\n",
       "  </tbody>\n",
       "</table>\n",
       "</div>"
      ],
      "text/plain": [
       "       show_id  cast_id\n",
       "47248   6364.0  28829.0\n",
       "47249   6364.0  28830.0"
      ]
     },
     "execution_count": 60,
     "metadata": {},
     "output_type": "execute_result"
    }
   ],
   "source": [
    "show_casts.query(\"show_id == 6364\")"
   ]
  },
  {
   "cell_type": "code",
   "execution_count": 61,
   "id": "91b3f927-0c87-4841-bddf-ff75eb3d146d",
   "metadata": {},
   "outputs": [
    {
     "data": {
      "text/html": [
       "<div>\n",
       "<style scoped>\n",
       "    .dataframe tbody tr th:only-of-type {\n",
       "        vertical-align: middle;\n",
       "    }\n",
       "\n",
       "    .dataframe tbody tr th {\n",
       "        vertical-align: top;\n",
       "    }\n",
       "\n",
       "    .dataframe thead th {\n",
       "        text-align: right;\n",
       "    }\n",
       "</style>\n",
       "<table border=\"1\" class=\"dataframe\">\n",
       "  <thead>\n",
       "    <tr style=\"text-align: right;\">\n",
       "      <th></th>\n",
       "      <th>show_id</th>\n",
       "      <th>type</th>\n",
       "      <th>title</th>\n",
       "      <th>date_added</th>\n",
       "      <th>release_year</th>\n",
       "      <th>rating_id</th>\n",
       "      <th>description</th>\n",
       "    </tr>\n",
       "  </thead>\n",
       "  <tbody>\n",
       "    <tr>\n",
       "      <th>6363</th>\n",
       "      <td>6364</td>\n",
       "      <td>Movie</td>\n",
       "      <td>Born to Be Free</td>\n",
       "      <td>2017-04-01</td>\n",
       "      <td>2016</td>\n",
       "      <td>3</td>\n",
       "      <td>Casting a light on the mistreatment of sea mam...</td>\n",
       "    </tr>\n",
       "  </tbody>\n",
       "</table>\n",
       "</div>"
      ],
      "text/plain": [
       "      show_id   type            title  date_added  release_year rating_id  \\\n",
       "6363     6364  Movie  Born to Be Free  2017-04-01          2016         3   \n",
       "\n",
       "                                            description  \n",
       "6363  Casting a light on the mistreatment of sea mam...  "
      ]
     },
     "execution_count": 61,
     "metadata": {},
     "output_type": "execute_result"
    }
   ],
   "source": [
    "show_list.query(\"show_id == 6364\")"
   ]
  },
  {
   "cell_type": "code",
   "execution_count": 62,
   "id": "c9e0b37a-457f-41fa-a703-3e2c4876b3b8",
   "metadata": {},
   "outputs": [],
   "source": [
    "show_casts = show_casts.query(\"show_id != 6364\")"
   ]
  },
  {
   "cell_type": "code",
   "execution_count": 63,
   "id": "6c6fa4db-b910-46cb-b561-9eba1ec199ad",
   "metadata": {},
   "outputs": [],
   "source": [
    "casts = casts.query(\"cast_id != 28829 and cast_id != 28830\")"
   ]
  },
  {
   "cell_type": "markdown",
   "id": "217db6e1-96c5-4e8b-ba01-8ece216dccf9",
   "metadata": {},
   "source": [
    "- info from online: Manos Krystalis, Kelly Bronzy"
   ]
  },
  {
   "cell_type": "code",
   "execution_count": 64,
   "id": "8c4dafe8-6562-4dce-b5e8-17be71f6a73c",
   "metadata": {},
   "outputs": [
    {
     "data": {
      "text/html": [
       "<div>\n",
       "<style scoped>\n",
       "    .dataframe tbody tr th:only-of-type {\n",
       "        vertical-align: middle;\n",
       "    }\n",
       "\n",
       "    .dataframe tbody tr th {\n",
       "        vertical-align: top;\n",
       "    }\n",
       "\n",
       "    .dataframe thead th {\n",
       "        text-align: right;\n",
       "    }\n",
       "</style>\n",
       "<table border=\"1\" class=\"dataframe\">\n",
       "  <thead>\n",
       "    <tr style=\"text-align: right;\">\n",
       "      <th></th>\n",
       "      <th>cast_id</th>\n",
       "      <th>cast_name</th>\n",
       "    </tr>\n",
       "  </thead>\n",
       "  <tbody>\n",
       "  </tbody>\n",
       "</table>\n",
       "</div>"
      ],
      "text/plain": [
       "Empty DataFrame\n",
       "Columns: [cast_id, cast_name]\n",
       "Index: []"
      ]
     },
     "execution_count": 64,
     "metadata": {},
     "output_type": "execute_result"
    }
   ],
   "source": [
    "casts.query(\"cast_name == 'Manos Krystalis' or cast_name == 'Kelly Bronzy'\")"
   ]
  },
  {
   "cell_type": "markdown",
   "id": "fa4909f0-fc34-4948-a359-ecfb8c26eb46",
   "metadata": {},
   "source": [
    "- they are not currently existing in casts"
   ]
  },
  {
   "cell_type": "code",
   "execution_count": 65,
   "id": "95efe320-f37e-4dbc-abf6-8154b7093499",
   "metadata": {},
   "outputs": [
    {
     "name": "stderr",
     "output_type": "stream",
     "text": [
      "C:\\Users\\Arcel Ozaeda Dizon\\AppData\\Local\\Temp\\ipykernel_13248\\4156394423.py:5: SettingWithCopyWarning: \n",
      "A value is trying to be set on a copy of a slice from a DataFrame\n",
      "\n",
      "See the caveats in the documentation: https://pandas.pydata.org/pandas-docs/stable/user_guide/indexing.html#returning-a-view-versus-a-copy\n",
      "  casts.loc[new_cast_index, \"cast_id\"] = new_cast_id\n"
     ]
    },
    {
     "data": {
      "text/html": [
       "<div>\n",
       "<style scoped>\n",
       "    .dataframe tbody tr th:only-of-type {\n",
       "        vertical-align: middle;\n",
       "    }\n",
       "\n",
       "    .dataframe tbody tr th {\n",
       "        vertical-align: top;\n",
       "    }\n",
       "\n",
       "    .dataframe thead th {\n",
       "        text-align: right;\n",
       "    }\n",
       "</style>\n",
       "<table border=\"1\" class=\"dataframe\">\n",
       "  <thead>\n",
       "    <tr style=\"text-align: right;\">\n",
       "      <th></th>\n",
       "      <th>cast_id</th>\n",
       "      <th>cast_name</th>\n",
       "    </tr>\n",
       "  </thead>\n",
       "  <tbody>\n",
       "    <tr>\n",
       "      <th>0</th>\n",
       "      <td>0.0</td>\n",
       "      <td>unknown</td>\n",
       "    </tr>\n",
       "    <tr>\n",
       "      <th>1</th>\n",
       "      <td>1.0</td>\n",
       "      <td>Ama Qamata</td>\n",
       "    </tr>\n",
       "    <tr>\n",
       "      <th>2</th>\n",
       "      <td>2.0</td>\n",
       "      <td>Khosi Ngema</td>\n",
       "    </tr>\n",
       "    <tr>\n",
       "      <th>3</th>\n",
       "      <td>3.0</td>\n",
       "      <td>Gail Mabalane</td>\n",
       "    </tr>\n",
       "    <tr>\n",
       "      <th>4</th>\n",
       "      <td>4.0</td>\n",
       "      <td>Thabang Molaba</td>\n",
       "    </tr>\n",
       "    <tr>\n",
       "      <th>...</th>\n",
       "      <td>...</td>\n",
       "      <td>...</td>\n",
       "    </tr>\n",
       "    <tr>\n",
       "      <th>36438</th>\n",
       "      <td>36438.0</td>\n",
       "      <td>Anita Shabdish</td>\n",
       "    </tr>\n",
       "    <tr>\n",
       "      <th>36439</th>\n",
       "      <td>36439.0</td>\n",
       "      <td>Chittaranjan Tripathy</td>\n",
       "    </tr>\n",
       "    <tr>\n",
       "      <th>36440</th>\n",
       "      <td>36440.0</td>\n",
       "      <td>Jeon Ho-Young</td>\n",
       "    </tr>\n",
       "    <tr>\n",
       "      <th>36441</th>\n",
       "      <td>36441.0</td>\n",
       "      <td>Manos Krystalis</td>\n",
       "    </tr>\n",
       "    <tr>\n",
       "      <th>36442</th>\n",
       "      <td>36442.0</td>\n",
       "      <td>Kelly Bronzy</td>\n",
       "    </tr>\n",
       "  </tbody>\n",
       "</table>\n",
       "<p>36439 rows × 2 columns</p>\n",
       "</div>"
      ],
      "text/plain": [
       "       cast_id              cast_name\n",
       "0          0.0                unknown\n",
       "1          1.0             Ama Qamata\n",
       "2          2.0            Khosi Ngema\n",
       "3          3.0          Gail Mabalane\n",
       "4          4.0         Thabang Molaba\n",
       "...        ...                    ...\n",
       "36438  36438.0         Anita Shabdish\n",
       "36439  36439.0  Chittaranjan Tripathy\n",
       "36440  36440.0          Jeon Ho-Young\n",
       "36441  36441.0        Manos Krystalis\n",
       "36442  36442.0           Kelly Bronzy\n",
       "\n",
       "[36439 rows x 2 columns]"
      ]
     },
     "execution_count": 65,
     "metadata": {},
     "output_type": "execute_result"
    }
   ],
   "source": [
    "cast_to_add = [\"Manos Krystalis\", \"Kelly Bronzy\"]\n",
    "for cast in cast_to_add:\n",
    "    new_cast_id = casts[\"cast_id\"].max() + 1\n",
    "    new_cast_index = casts.index.max() + 1\n",
    "    casts.loc[new_cast_index, \"cast_id\"] = new_cast_id\n",
    "    casts.loc[new_cast_index, \"cast_name\"] = cast\n",
    "casts"
   ]
  },
  {
   "cell_type": "code",
   "execution_count": 66,
   "id": "00c75d11-10c6-4f3b-a977-cab1312c91cc",
   "metadata": {},
   "outputs": [
    {
     "name": "stderr",
     "output_type": "stream",
     "text": [
      "C:\\Users\\Arcel Ozaeda Dizon\\AppData\\Local\\Temp\\ipykernel_13248\\1196832293.py:4: SettingWithCopyWarning: \n",
      "A value is trying to be set on a copy of a slice from a DataFrame\n",
      "\n",
      "See the caveats in the documentation: https://pandas.pydata.org/pandas-docs/stable/user_guide/indexing.html#returning-a-view-versus-a-copy\n",
      "  show_casts.loc[new_record_index, \"show_id\"] = 6364\n"
     ]
    },
    {
     "data": {
      "text/html": [
       "<div>\n",
       "<style scoped>\n",
       "    .dataframe tbody tr th:only-of-type {\n",
       "        vertical-align: middle;\n",
       "    }\n",
       "\n",
       "    .dataframe tbody tr th {\n",
       "        vertical-align: top;\n",
       "    }\n",
       "\n",
       "    .dataframe thead th {\n",
       "        text-align: right;\n",
       "    }\n",
       "</style>\n",
       "<table border=\"1\" class=\"dataframe\">\n",
       "  <thead>\n",
       "    <tr style=\"text-align: right;\">\n",
       "      <th></th>\n",
       "      <th>show_id</th>\n",
       "      <th>cast_id</th>\n",
       "    </tr>\n",
       "  </thead>\n",
       "  <tbody>\n",
       "    <tr>\n",
       "      <th>0</th>\n",
       "      <td>1.0</td>\n",
       "      <td>0.0</td>\n",
       "    </tr>\n",
       "    <tr>\n",
       "      <th>1</th>\n",
       "      <td>2.0</td>\n",
       "      <td>1.0</td>\n",
       "    </tr>\n",
       "    <tr>\n",
       "      <th>2</th>\n",
       "      <td>2.0</td>\n",
       "      <td>2.0</td>\n",
       "    </tr>\n",
       "    <tr>\n",
       "      <th>3</th>\n",
       "      <td>2.0</td>\n",
       "      <td>3.0</td>\n",
       "    </tr>\n",
       "    <tr>\n",
       "      <th>4</th>\n",
       "      <td>2.0</td>\n",
       "      <td>4.0</td>\n",
       "    </tr>\n",
       "    <tr>\n",
       "      <th>...</th>\n",
       "      <td>...</td>\n",
       "      <td>...</td>\n",
       "    </tr>\n",
       "    <tr>\n",
       "      <th>64962</th>\n",
       "      <td>733.0</td>\n",
       "      <td>8580.0</td>\n",
       "    </tr>\n",
       "    <tr>\n",
       "      <th>64963</th>\n",
       "      <td>733.0</td>\n",
       "      <td>36440.0</td>\n",
       "    </tr>\n",
       "    <tr>\n",
       "      <th>64964</th>\n",
       "      <td>733.0</td>\n",
       "      <td>8571.0</td>\n",
       "    </tr>\n",
       "    <tr>\n",
       "      <th>64965</th>\n",
       "      <td>6364.0</td>\n",
       "      <td>36441.0</td>\n",
       "    </tr>\n",
       "    <tr>\n",
       "      <th>64966</th>\n",
       "      <td>6364.0</td>\n",
       "      <td>36442.0</td>\n",
       "    </tr>\n",
       "  </tbody>\n",
       "</table>\n",
       "<p>64963 rows × 2 columns</p>\n",
       "</div>"
      ],
      "text/plain": [
       "       show_id  cast_id\n",
       "0          1.0      0.0\n",
       "1          2.0      1.0\n",
       "2          2.0      2.0\n",
       "3          2.0      3.0\n",
       "4          2.0      4.0\n",
       "...        ...      ...\n",
       "64962    733.0   8580.0\n",
       "64963    733.0  36440.0\n",
       "64964    733.0   8571.0\n",
       "64965   6364.0  36441.0\n",
       "64966   6364.0  36442.0\n",
       "\n",
       "[64963 rows x 2 columns]"
      ]
     },
     "execution_count": 66,
     "metadata": {},
     "output_type": "execute_result"
    }
   ],
   "source": [
    "for cast in cast_to_add:\n",
    "    new_record_index = show_casts.index.max() + 1\n",
    "    cast_id = casts.query(\"cast_name == @cast\")[\"cast_id\"].iloc[0]\n",
    "    show_casts.loc[new_record_index, \"show_id\"] = 6364\n",
    "    show_casts.loc[new_record_index, \"cast_id\"] = cast_id\n",
    "show_casts"
   ]
  },
  {
   "cell_type": "code",
   "execution_count": 67,
   "id": "6b1f1870-1c1f-43c3-8e90-3aa7b3633928",
   "metadata": {},
   "outputs": [
    {
     "data": {
      "text/html": [
       "<div>\n",
       "<style scoped>\n",
       "    .dataframe tbody tr th:only-of-type {\n",
       "        vertical-align: middle;\n",
       "    }\n",
       "\n",
       "    .dataframe tbody tr th {\n",
       "        vertical-align: top;\n",
       "    }\n",
       "\n",
       "    .dataframe thead th {\n",
       "        text-align: right;\n",
       "    }\n",
       "</style>\n",
       "<table border=\"1\" class=\"dataframe\">\n",
       "  <thead>\n",
       "    <tr style=\"text-align: right;\">\n",
       "      <th></th>\n",
       "      <th>cast_id</th>\n",
       "      <th>cast_name</th>\n",
       "    </tr>\n",
       "  </thead>\n",
       "  <tbody>\n",
       "    <tr>\n",
       "      <th>0</th>\n",
       "      <td>0.0</td>\n",
       "      <td>unknown</td>\n",
       "    </tr>\n",
       "    <tr>\n",
       "      <th>1</th>\n",
       "      <td>1.0</td>\n",
       "      <td>Ama Qamata</td>\n",
       "    </tr>\n",
       "    <tr>\n",
       "      <th>2</th>\n",
       "      <td>2.0</td>\n",
       "      <td>Khosi Ngema</td>\n",
       "    </tr>\n",
       "    <tr>\n",
       "      <th>3</th>\n",
       "      <td>3.0</td>\n",
       "      <td>Gail Mabalane</td>\n",
       "    </tr>\n",
       "    <tr>\n",
       "      <th>4</th>\n",
       "      <td>4.0</td>\n",
       "      <td>Thabang Molaba</td>\n",
       "    </tr>\n",
       "    <tr>\n",
       "      <th>...</th>\n",
       "      <td>...</td>\n",
       "      <td>...</td>\n",
       "    </tr>\n",
       "    <tr>\n",
       "      <th>36438</th>\n",
       "      <td>36438.0</td>\n",
       "      <td>Anita Shabdish</td>\n",
       "    </tr>\n",
       "    <tr>\n",
       "      <th>36439</th>\n",
       "      <td>36439.0</td>\n",
       "      <td>Chittaranjan Tripathy</td>\n",
       "    </tr>\n",
       "    <tr>\n",
       "      <th>36440</th>\n",
       "      <td>36440.0</td>\n",
       "      <td>Jeon Ho-Young</td>\n",
       "    </tr>\n",
       "    <tr>\n",
       "      <th>36441</th>\n",
       "      <td>36441.0</td>\n",
       "      <td>Manos Krystalis</td>\n",
       "    </tr>\n",
       "    <tr>\n",
       "      <th>36442</th>\n",
       "      <td>36442.0</td>\n",
       "      <td>Kelly Bronzy</td>\n",
       "    </tr>\n",
       "  </tbody>\n",
       "</table>\n",
       "<p>36439 rows × 2 columns</p>\n",
       "</div>"
      ],
      "text/plain": [
       "       cast_id              cast_name\n",
       "0          0.0                unknown\n",
       "1          1.0             Ama Qamata\n",
       "2          2.0            Khosi Ngema\n",
       "3          3.0          Gail Mabalane\n",
       "4          4.0         Thabang Molaba\n",
       "...        ...                    ...\n",
       "36438  36438.0         Anita Shabdish\n",
       "36439  36439.0  Chittaranjan Tripathy\n",
       "36440  36440.0          Jeon Ho-Young\n",
       "36441  36441.0        Manos Krystalis\n",
       "36442  36442.0           Kelly Bronzy\n",
       "\n",
       "[36439 rows x 2 columns]"
      ]
     },
     "execution_count": 67,
     "metadata": {},
     "output_type": "execute_result"
    }
   ],
   "source": [
    "casts"
   ]
  },
  {
   "cell_type": "code",
   "execution_count": 68,
   "id": "70b3230a-0f13-44ea-bd70-f8dae94eb745",
   "metadata": {},
   "outputs": [
    {
     "name": "stdout",
     "output_type": "stream",
     "text": [
      "<class 'pandas.core.frame.DataFrame'>\n",
      "Index: 36439 entries, 0 to 36442\n",
      "Data columns (total 2 columns):\n",
      " #   Column     Non-Null Count  Dtype  \n",
      "---  ------     --------------  -----  \n",
      " 0   cast_id    36439 non-null  float64\n",
      " 1   cast_name  36439 non-null  object \n",
      "dtypes: float64(1), object(1)\n",
      "memory usage: 1.8+ MB\n",
      "None\n",
      "0.0\n",
      "36442.0\n",
      "\"Riley\" Lakdhar Dridi\n",
      "Ṣọpẹ́ Dìrísù\n",
      "36\n"
     ]
    }
   ],
   "source": [
    "print(casts.info())\n",
    "print(casts[\"cast_id\"].min())\n",
    "print(casts[\"cast_id\"].max())\n",
    "print(casts[\"cast_name\"].min())\n",
    "print(casts[\"cast_name\"].max())\n",
    "print(casts[\"cast_name\"].str.len().max())"
   ]
  },
  {
   "cell_type": "code",
   "execution_count": 69,
   "id": "0971899b-8a3d-42db-8406-dc673e75bf67",
   "metadata": {},
   "outputs": [
    {
     "data": {
      "text/html": [
       "<div>\n",
       "<style scoped>\n",
       "    .dataframe tbody tr th:only-of-type {\n",
       "        vertical-align: middle;\n",
       "    }\n",
       "\n",
       "    .dataframe tbody tr th {\n",
       "        vertical-align: top;\n",
       "    }\n",
       "\n",
       "    .dataframe thead th {\n",
       "        text-align: right;\n",
       "    }\n",
       "</style>\n",
       "<table border=\"1\" class=\"dataframe\">\n",
       "  <thead>\n",
       "    <tr style=\"text-align: right;\">\n",
       "      <th></th>\n",
       "      <th>cast_id</th>\n",
       "      <th>cast_name</th>\n",
       "    </tr>\n",
       "  </thead>\n",
       "  <tbody>\n",
       "    <tr>\n",
       "      <th>24214</th>\n",
       "      <td>24214.0</td>\n",
       "      <td>Craig Robinson &amp; The Nasty Delicious</td>\n",
       "    </tr>\n",
       "  </tbody>\n",
       "</table>\n",
       "</div>"
      ],
      "text/plain": [
       "       cast_id                             cast_name\n",
       "24214  24214.0  Craig Robinson & The Nasty Delicious"
      ]
     },
     "execution_count": 69,
     "metadata": {},
     "output_type": "execute_result"
    }
   ],
   "source": [
    "casts.query(\"cast_name.str.len() == 36\")"
   ]
  },
  {
   "cell_type": "code",
   "execution_count": 70,
   "id": "c5c802ef-e9d1-43a0-b88e-58c77c83462a",
   "metadata": {},
   "outputs": [
    {
     "data": {
      "text/html": [
       "<div>\n",
       "<style scoped>\n",
       "    .dataframe tbody tr th:only-of-type {\n",
       "        vertical-align: middle;\n",
       "    }\n",
       "\n",
       "    .dataframe tbody tr th {\n",
       "        vertical-align: top;\n",
       "    }\n",
       "\n",
       "    .dataframe thead th {\n",
       "        text-align: right;\n",
       "    }\n",
       "</style>\n",
       "<table border=\"1\" class=\"dataframe\">\n",
       "  <thead>\n",
       "    <tr style=\"text-align: right;\">\n",
       "      <th></th>\n",
       "      <th>show_id</th>\n",
       "      <th>cast_id</th>\n",
       "    </tr>\n",
       "  </thead>\n",
       "  <tbody>\n",
       "    <tr>\n",
       "      <th>37474</th>\n",
       "      <td>4939.0</td>\n",
       "      <td>24214.0</td>\n",
       "    </tr>\n",
       "  </tbody>\n",
       "</table>\n",
       "</div>"
      ],
      "text/plain": [
       "       show_id  cast_id\n",
       "37474   4939.0  24214.0"
      ]
     },
     "execution_count": 70,
     "metadata": {},
     "output_type": "execute_result"
    }
   ],
   "source": [
    "show_casts.query(\"cast_id == 24214\")"
   ]
  },
  {
   "cell_type": "code",
   "execution_count": 71,
   "id": "95edca3e-a4c0-452f-96f4-9b0a48fa330c",
   "metadata": {},
   "outputs": [
    {
     "data": {
      "text/html": [
       "<div>\n",
       "<style scoped>\n",
       "    .dataframe tbody tr th:only-of-type {\n",
       "        vertical-align: middle;\n",
       "    }\n",
       "\n",
       "    .dataframe tbody tr th {\n",
       "        vertical-align: top;\n",
       "    }\n",
       "\n",
       "    .dataframe thead th {\n",
       "        text-align: right;\n",
       "    }\n",
       "</style>\n",
       "<table border=\"1\" class=\"dataframe\">\n",
       "  <thead>\n",
       "    <tr style=\"text-align: right;\">\n",
       "      <th></th>\n",
       "      <th>show_id</th>\n",
       "      <th>type</th>\n",
       "      <th>title</th>\n",
       "      <th>date_added</th>\n",
       "      <th>release_year</th>\n",
       "      <th>rating_id</th>\n",
       "      <th>description</th>\n",
       "    </tr>\n",
       "  </thead>\n",
       "  <tbody>\n",
       "    <tr>\n",
       "      <th>4938</th>\n",
       "      <td>4939</td>\n",
       "      <td>Movie</td>\n",
       "      <td>Seth Rogen's Hilarity for Charity</td>\n",
       "      <td>2018-04-06</td>\n",
       "      <td>2018</td>\n",
       "      <td>1</td>\n",
       "      <td>Seth Rogen and friends combine stand-up, sketc...</td>\n",
       "    </tr>\n",
       "  </tbody>\n",
       "</table>\n",
       "</div>"
      ],
      "text/plain": [
       "      show_id   type                              title  date_added  \\\n",
       "4938     4939  Movie  Seth Rogen's Hilarity for Charity  2018-04-06   \n",
       "\n",
       "      release_year rating_id  \\\n",
       "4938          2018         1   \n",
       "\n",
       "                                            description  \n",
       "4938  Seth Rogen and friends combine stand-up, sketc...  "
      ]
     },
     "execution_count": 71,
     "metadata": {},
     "output_type": "execute_result"
    }
   ],
   "source": [
    "show_list.query(\"show_id == 4939\")"
   ]
  },
  {
   "cell_type": "code",
   "execution_count": 72,
   "id": "a18e1e07-7e53-42a5-b309-182004c38d09",
   "metadata": {},
   "outputs": [
    {
     "data": {
      "text/html": [
       "<div>\n",
       "<style scoped>\n",
       "    .dataframe tbody tr th:only-of-type {\n",
       "        vertical-align: middle;\n",
       "    }\n",
       "\n",
       "    .dataframe tbody tr th {\n",
       "        vertical-align: top;\n",
       "    }\n",
       "\n",
       "    .dataframe thead th {\n",
       "        text-align: right;\n",
       "    }\n",
       "</style>\n",
       "<table border=\"1\" class=\"dataframe\">\n",
       "  <thead>\n",
       "    <tr style=\"text-align: right;\">\n",
       "      <th></th>\n",
       "      <th>show_id</th>\n",
       "      <th>cast_id</th>\n",
       "    </tr>\n",
       "  </thead>\n",
       "  <tbody>\n",
       "    <tr>\n",
       "      <th>37463</th>\n",
       "      <td>4939.0</td>\n",
       "      <td>1353.0</td>\n",
       "    </tr>\n",
       "    <tr>\n",
       "      <th>37464</th>\n",
       "      <td>4939.0</td>\n",
       "      <td>240.0</td>\n",
       "    </tr>\n",
       "    <tr>\n",
       "      <th>37465</th>\n",
       "      <td>4939.0</td>\n",
       "      <td>24211.0</td>\n",
       "    </tr>\n",
       "    <tr>\n",
       "      <th>37466</th>\n",
       "      <td>4939.0</td>\n",
       "      <td>4220.0</td>\n",
       "    </tr>\n",
       "    <tr>\n",
       "      <th>37467</th>\n",
       "      <td>4939.0</td>\n",
       "      <td>24212.0</td>\n",
       "    </tr>\n",
       "    <tr>\n",
       "      <th>37468</th>\n",
       "      <td>4939.0</td>\n",
       "      <td>7630.0</td>\n",
       "    </tr>\n",
       "    <tr>\n",
       "      <th>37469</th>\n",
       "      <td>4939.0</td>\n",
       "      <td>24213.0</td>\n",
       "    </tr>\n",
       "    <tr>\n",
       "      <th>37470</th>\n",
       "      <td>4939.0</td>\n",
       "      <td>8393.0</td>\n",
       "    </tr>\n",
       "    <tr>\n",
       "      <th>37471</th>\n",
       "      <td>4939.0</td>\n",
       "      <td>10130.0</td>\n",
       "    </tr>\n",
       "    <tr>\n",
       "      <th>37472</th>\n",
       "      <td>4939.0</td>\n",
       "      <td>9540.0</td>\n",
       "    </tr>\n",
       "    <tr>\n",
       "      <th>37473</th>\n",
       "      <td>4939.0</td>\n",
       "      <td>9070.0</td>\n",
       "    </tr>\n",
       "    <tr>\n",
       "      <th>37474</th>\n",
       "      <td>4939.0</td>\n",
       "      <td>24214.0</td>\n",
       "    </tr>\n",
       "    <tr>\n",
       "      <th>37475</th>\n",
       "      <td>4939.0</td>\n",
       "      <td>24215.0</td>\n",
       "    </tr>\n",
       "    <tr>\n",
       "      <th>37476</th>\n",
       "      <td>4939.0</td>\n",
       "      <td>24216.0</td>\n",
       "    </tr>\n",
       "    <tr>\n",
       "      <th>37477</th>\n",
       "      <td>4939.0</td>\n",
       "      <td>1302.0</td>\n",
       "    </tr>\n",
       "    <tr>\n",
       "      <th>37478</th>\n",
       "      <td>4939.0</td>\n",
       "      <td>17600.0</td>\n",
       "    </tr>\n",
       "  </tbody>\n",
       "</table>\n",
       "</div>"
      ],
      "text/plain": [
       "       show_id  cast_id\n",
       "37463   4939.0   1353.0\n",
       "37464   4939.0    240.0\n",
       "37465   4939.0  24211.0\n",
       "37466   4939.0   4220.0\n",
       "37467   4939.0  24212.0\n",
       "37468   4939.0   7630.0\n",
       "37469   4939.0  24213.0\n",
       "37470   4939.0   8393.0\n",
       "37471   4939.0  10130.0\n",
       "37472   4939.0   9540.0\n",
       "37473   4939.0   9070.0\n",
       "37474   4939.0  24214.0\n",
       "37475   4939.0  24215.0\n",
       "37476   4939.0  24216.0\n",
       "37477   4939.0   1302.0\n",
       "37478   4939.0  17600.0"
      ]
     },
     "execution_count": 72,
     "metadata": {},
     "output_type": "execute_result"
    }
   ],
   "source": [
    "show_casts.query(\"show_id == 4939\")"
   ]
  },
  {
   "cell_type": "code",
   "execution_count": 73,
   "id": "d8d4bc47-9a91-4523-b898-23f25623659d",
   "metadata": {},
   "outputs": [
    {
     "name": "stdout",
     "output_type": "stream",
     "text": [
      "1353    Seth Rogen\n",
      "Name: cast_name, dtype: object\n",
      "240    Ike Barinholtz\n",
      "Name: cast_name, dtype: object\n",
      "24211    Michael Che\n",
      "Name: cast_name, dtype: object\n",
      "4220    Sacha Baron Cohen\n",
      "Name: cast_name, dtype: object\n",
      "24212    Jeff Goldblum\n",
      "Name: cast_name, dtype: object\n",
      "7630    Tiffany Haddish\n",
      "Name: cast_name, dtype: object\n",
      "24213    Chris Hardwick\n",
      "Name: cast_name, dtype: object\n",
      "8393    Nick Kroll\n",
      "Name: cast_name, dtype: object\n",
      "10130    John Mulaney\n",
      "Name: cast_name, dtype: object\n",
      "9540    Kumail Nanjiani\n",
      "Name: cast_name, dtype: object\n",
      "9070    Chelsea Peretti\n",
      "Name: cast_name, dtype: object\n",
      "24214    Craig Robinson & The Nasty Delicious\n",
      "Name: cast_name, dtype: object\n",
      "24215    Lauren Miller Rogen\n",
      "Name: cast_name, dtype: object\n",
      "24216    Justin Roiland\n",
      "Name: cast_name, dtype: object\n",
      "1302    Sarah Silverman\n",
      "Name: cast_name, dtype: object\n",
      "17600    Michelle Wolf\n",
      "Name: cast_name, dtype: object\n"
     ]
    }
   ],
   "source": [
    "id_of_cast_names_to_check = show_casts.query(\"show_id == 4939\")[\"cast_id\"].values\n",
    "for id in id_of_cast_names_to_check:\n",
    "    print(casts.query(\"cast_id == @id\")[\"cast_name\"])"
   ]
  },
  {
   "cell_type": "markdown",
   "id": "c645dc5c-dc7d-4a17-906f-94b4b557f381",
   "metadata": {},
   "source": [
    "- researching online, \"Craig Robinson & The Nasty Delicious\" is actually in the cast list."
   ]
  },
  {
   "cell_type": "code",
   "execution_count": 74,
   "id": "412f275d-cc53-4912-9db8-82c9dc607c34",
   "metadata": {},
   "outputs": [
    {
     "name": "stdout",
     "output_type": "stream",
     "text": [
      "<class 'pandas.core.frame.DataFrame'>\n",
      "Index: 36439 entries, 0 to 36442\n",
      "Data columns (total 2 columns):\n",
      " #   Column     Non-Null Count  Dtype  \n",
      "---  ------     --------------  -----  \n",
      " 0   cast_id    36439 non-null  float64\n",
      " 1   cast_name  36439 non-null  object \n",
      "dtypes: float64(1), object(1)\n",
      "memory usage: 1.8+ MB\n",
      "None\n",
      "0.0\n",
      "36442.0\n",
      "\"Riley\" Lakdhar Dridi\n",
      "Ṣọpẹ́ Dìrísù\n",
      "36\n"
     ]
    }
   ],
   "source": [
    "print(casts.info())\n",
    "print(casts[\"cast_id\"].min())\n",
    "print(casts[\"cast_id\"].max())\n",
    "print(casts[\"cast_name\"].min())\n",
    "print(casts[\"cast_name\"].max())\n",
    "print(casts[\"cast_name\"].str.len().max())"
   ]
  },
  {
   "cell_type": "code",
   "execution_count": 75,
   "id": "25855e95-836f-4187-a747-845b2234e2f0",
   "metadata": {},
   "outputs": [
    {
     "data": {
      "text/plain": [
       "array([[90.0, 'Suthipongse Thatphithakkul'],\n",
       "       [516.0, 'Remilekun \"Reminisce\" Safaru'],\n",
       "       [517.0, 'Tobechukwu \"iLLbliss\" Ejiofor'],\n",
       "       [634.0, 'Alba Gaïa Kraghede Bellugi'],\n",
       "       [1487.0, 'Charles  \"Charly Boy\" Oputa'],\n",
       "       [1681.0, 'Kathrine Thorborg Johansen'],\n",
       "       [2053.0, 'Phanuroj Chalermkijporntavee'],\n",
       "       [2403.0, 'LaTanya Richardson Jackson'],\n",
       "       [2834.0, 'Dominique Provost-Chalkley'],\n",
       "       [3307.0, 'Sebastian Jakob Doppelbauer'],\n",
       "       [3477.0, 'Cecilia de los Santos Vargas'],\n",
       "       [4654.0, 'Nawarat Techarathanaprasert'],\n",
       "       [4657.0, \"Marvin 'Krondon' Jones III\"],\n",
       "       [4809.0, 'Lapassalal Jiravechsoontornkul'],\n",
       "       [5067.0, 'Annabelle Westenholz-Smith'],\n",
       "       [5219.0, 'José Alfredo González Dzul'],\n",
       "       [5220.0, 'Eliseo Mancilla De La Cruz'],\n",
       "       [5806.0, 'Nuttanicha Dungwattanawanich'],\n",
       "       [6203.0, 'Khali Daniya-Renee Spraggins'],\n",
       "       [6614.0, 'William Christopher Stephens'],\n",
       "       [7210.0, 'Nannaphas Loetnamchoetsakun'],\n",
       "       [7214.0, 'Natticha Chantaravareelekha'],\n",
       "       [8172.0, 'Floyd \"Red Crow\" Westerman'],\n",
       "       [8582.0, 'Pablo Gama Iturrarán “Mago Gamini”'],\n",
       "       [9189.0, 'Nancy \"Vincenza Careri\" Kulik'],\n",
       "       [9730.0, 'Gabrielle Susanne Solheim Leithaug'],\n",
       "       [11968.0, 'Michael Benjamin Washington'],\n",
       "       [12558.0, 'Sebastian Billingsley-Rodriguez'],\n",
       "       [12930.0, 'Nina Iphechukwude Anyianuka'],\n",
       "       [13364.0, 'Aude-Laurence Clermont Biver'],\n",
       "       [13406.0, 'Carolina del Carmen Peleritti'],\n",
       "       [13570.0, 'Phiravich Attachitsataporn'],\n",
       "       [14656.0, 'Salli Richardson-Whitfield'],\n",
       "       [14740.0, 'Kristen Griffith-Vanderyacht'],\n",
       "       [14820.0, 'Chidsanupong Sakulnuntipat'],\n",
       "       [15587.0, 'Terrence Little Gardenhigh'],\n",
       "       [15819.0, 'Chutimon Chuengcharoensukying'],\n",
       "       [16137.0, 'Kritsanapoom Pibulsonggram'],\n",
       "       [16889.0, 'Margarita Rosa de Francisco'],\n",
       "       [17812.0, 'Atchareeya Potipipittanakorn'],\n",
       "       [17900.0, 'Shawankorn Wanthanapisitkul'],\n",
       "       [18196.0, 'Papangkorn Lerkchaleampote'],\n",
       "       [18263.0, \"Dorian N'Goumou dit Dosseh\"],\n",
       "       [19579.0, 'Matthew Deane Chanthavanij'],\n",
       "       [19834.0, 'Akarin Akaranitimaytharatt'],\n",
       "       [20134.0, 'Reinout Scholten van Aschat'],\n",
       "       [20633.0, 'Sarah Viktoria Bjerregaard'],\n",
       "       [21216.0, 'Yingsak Chonglertjetsadawong'],\n",
       "       [21877.0, 'Kristín Thóra Haraldsdóttir'],\n",
       "       [22436.0, 'Richelle Georgette Skornicki'],\n",
       "       [22521.0, 'Lakshmi Priyaa Chandramouli'],\n",
       "       [22891.0, 'Pibunsonggram Kritsanapoom'],\n",
       "       [23009.0, 'Justin \"Alyssa Edwards\" Johnson'],\n",
       "       [23395.0, 'Zozeen Panyanut Jirarottanakasem'],\n",
       "       [23513.0, 'Jóhannes Haukur Jóhannesson'],\n",
       "       [24163.0, 'Maximilian Meyer-Bretschneider'],\n",
       "       [24214.0, 'Craig Robinson & The Nasty Delicious'],\n",
       "       [24434.0, 'Todd Bishop Monrad Vistven'],\n",
       "       [24438.0, 'Ana Gil de Melo Nascimento'],\n",
       "       [24552.0, 'Claudine Mboligikpelani Nako'],\n",
       "       [24612.0, 'Sebastián Marcelo Wainraich'],\n",
       "       [25203.0, 'Ole Johan Skjelbred-Knutsen'],\n",
       "       [25223.0, 'Miranda Scarlett Schneider'],\n",
       "       [25893.0, 'Laurids Skovgaard Andersen'],\n",
       "       [26050.0, 'Vincent Launay-Franceschini'],\n",
       "       [26720.0, 'Steinunn Ólína Þorsteinsdóttir'],\n",
       "       [26722.0, 'Jóhanna Vigdís Arnardóttir'],\n",
       "       [26724.0, 'Elma Stefania Agustsdottir'],\n",
       "       [26782.0, 'Pierre-François Martin-Laval'],\n",
       "       [27123.0, 'Emmanuel \"King Kong\" Nii Adom Quaye'],\n",
       "       [27360.0, 'Anna Gunndís Guðmundsdóttir'],\n",
       "       [28160.0, 'Chaleumpol Tikumpornteerawong'],\n",
       "       [28161.0, 'Sananthachat Thanapatpisal'],\n",
       "       [28311.0, 'Nutt Devahastin Na Ayudhya'],\n",
       "       [28313.0, 'Manatsanun Phanlerdwongsakul'],\n",
       "       [28322.0, 'Ungsumalynn Sirapatsakmetha'],\n",
       "       [28450.0, 'Nat Thephussadin Na Ayutthaya'],\n",
       "       [28452.0, 'Eye Warapairin Laphatsanitirot'],\n",
       "       [28454.0, 'Hongyok Pornphan Rerkatakarn'],\n",
       "       [28455.0, 'Rattanapond Klinkulabhiran'],\n",
       "       [28512.0, 'Ae Sasikarn Aphichartworasilp'],\n",
       "       [28513.0, 'Louis Pongphan Petchbuntoon'],\n",
       "       [28788.0, 'Berglind Rós Sigurðardóttir'],\n",
       "       [29100.0, 'K.G. Chandani Renuka Ratnayake'],\n",
       "       [29297.0, 'Toomtam Yuthana Puengklarng'],\n",
       "       [29298.0, 'Monchanok Saengchaipiangpen'],\n",
       "       [29308.0, 'Golf Pichaya Nitipaisankul'],\n",
       "       [29400.0, 'Mauricio Tarcinalli Barros'],\n",
       "       [29902.0, 'María Antonieta de las Nieves'],\n",
       "       [29908.0, 'Ramón Gómez Valdez de Castillo'],\n",
       "       [31233.0, 'Halalisani Bradley Cebekhulu'],\n",
       "       [31624.0, 'Anders Baasmo Christiansen'],\n",
       "       [31738.0, 'Athipich Chutiwatkajornchai'],\n",
       "       [32042.0, 'Arkanda Saezario Wicaksono'],\n",
       "       [33100.0, 'Kantapat Permpoonpatcharasuk'],\n",
       "       [33524.0, 'Rath Rattasin Nalintanapat'],\n",
       "       [33639.0, 'Tack Parunyu Rojanawuttitum'],\n",
       "       [33642.0, 'Plerng Pollapakk Vacharaponghiran'],\n",
       "       [35711.0, 'Thanapatpisal Sananthachat'],\n",
       "       [35714.0, 'Fame Chawin Likitjareonpong'],\n",
       "       [36343.0, 'Chansakorn Kittiwattanakorn'],\n",
       "       [36355.0, 'Jeannettsy Enriquez Borges']], dtype=object)"
      ]
     },
     "execution_count": 75,
     "metadata": {},
     "output_type": "execute_result"
    }
   ],
   "source": [
    "casts.query(\"cast_name.str.len() > 25\").values"
   ]
  },
  {
   "cell_type": "code",
   "execution_count": 76,
   "id": "4e05fc1a-f936-4384-93ce-2ffbf9a0121e",
   "metadata": {},
   "outputs": [
    {
     "name": "stdout",
     "output_type": "stream",
     "text": [
      "<class 'pandas.core.frame.DataFrame'>\n",
      "RangeIndex: 124 entries, 0 to 123\n",
      "Data columns (total 2 columns):\n",
      " #   Column        Non-Null Count  Dtype \n",
      "---  ------        --------------  ----- \n",
      " 0   country_id    124 non-null    int64 \n",
      " 1   country_name  124 non-null    object\n",
      "dtypes: int64(1), object(1)\n",
      "memory usage: 2.1+ KB\n",
      "None\n",
      "0\n",
      "123\n",
      "\n",
      "unknown\n",
      "20\n"
     ]
    }
   ],
   "source": [
    "print(countries.info())\n",
    "print(countries[\"country_id\"].min())\n",
    "print(countries[\"country_id\"].max())\n",
    "print(countries[\"country_name\"].min())\n",
    "print(countries[\"country_name\"].max())\n",
    "print(countries[\"country_name\"].str.len().max())"
   ]
  },
  {
   "cell_type": "code",
   "execution_count": 77,
   "id": "3b159349-fc7f-41a2-ae84-54e1e1de8a92",
   "metadata": {},
   "outputs": [
    {
     "data": {
      "text/plain": [
       "array([[0, 'United States'],\n",
       "       [1, 'South Africa'],\n",
       "       [2, 'unknown'],\n",
       "       [3, 'India'],\n",
       "       [4, 'Ghana'],\n",
       "       [5, 'Burkina Faso'],\n",
       "       [6, 'United Kingdom'],\n",
       "       [7, 'Germany'],\n",
       "       [8, 'Ethiopia'],\n",
       "       [9, 'Czech Republic'],\n",
       "       [10, 'Mexico'],\n",
       "       [11, 'Turkey'],\n",
       "       [12, 'Australia'],\n",
       "       [13, 'France'],\n",
       "       [14, 'Finland'],\n",
       "       [15, 'China'],\n",
       "       [16, 'Canada'],\n",
       "       [17, 'Japan'],\n",
       "       [18, 'Nigeria'],\n",
       "       [19, 'Spain'],\n",
       "       [20, 'Belgium'],\n",
       "       [21, 'South Korea'],\n",
       "       [22, 'Singapore'],\n",
       "       [23, 'Italy'],\n",
       "       [24, 'Romania'],\n",
       "       [25, 'Argentina'],\n",
       "       [26, 'Venezuela'],\n",
       "       [27, 'Hong Kong'],\n",
       "       [28, 'Russia'],\n",
       "       [29, ''],\n",
       "       [30, 'Ireland'],\n",
       "       [31, 'Nepal'],\n",
       "       [32, 'New Zealand'],\n",
       "       [33, 'Brazil'],\n",
       "       [34, 'Greece'],\n",
       "       [35, 'Jordan'],\n",
       "       [36, 'Colombia'],\n",
       "       [37, 'Switzerland'],\n",
       "       [38, 'Israel'],\n",
       "       [39, 'Taiwan'],\n",
       "       [40, 'Bulgaria'],\n",
       "       [41, 'Algeria'],\n",
       "       [42, 'Poland'],\n",
       "       [43, 'Saudi Arabia'],\n",
       "       [44, 'Thailand'],\n",
       "       [45, 'Indonesia'],\n",
       "       [46, 'Egypt'],\n",
       "       [47, 'Denmark'],\n",
       "       [48, 'Kuwait'],\n",
       "       [49, 'Netherlands'],\n",
       "       [50, 'Malaysia'],\n",
       "       [51, 'Vietnam'],\n",
       "       [52, 'Hungary'],\n",
       "       [53, 'Sweden'],\n",
       "       [54, 'Lebanon'],\n",
       "       [55, 'Syria'],\n",
       "       [56, 'Philippines'],\n",
       "       [57, 'Iceland'],\n",
       "       [58, 'United Arab Emirates'],\n",
       "       [59, 'Norway'],\n",
       "       [60, 'Qatar'],\n",
       "       [61, 'Mauritius'],\n",
       "       [62, 'Austria'],\n",
       "       [63, 'Cameroon'],\n",
       "       [64, 'Palestine'],\n",
       "       [65, 'Uruguay'],\n",
       "       [66, 'Kenya'],\n",
       "       [67, 'Chile'],\n",
       "       [68, 'Luxembourg'],\n",
       "       [69, 'Cambodia'],\n",
       "       [70, 'Bangladesh'],\n",
       "       [71, 'Portugal'],\n",
       "       [72, 'Cayman Islands'],\n",
       "       [73, 'Senegal'],\n",
       "       [74, 'Serbia'],\n",
       "       [75, 'Malta'],\n",
       "       [76, 'Namibia'],\n",
       "       [77, 'Angola'],\n",
       "       [78, 'Peru'],\n",
       "       [79, 'Mozambique'],\n",
       "       [80, 'Belarus'],\n",
       "       [81, 'Zimbabwe'],\n",
       "       [82, 'Puerto Rico'],\n",
       "       [83, 'Pakistan'],\n",
       "       [84, 'Cyprus'],\n",
       "       [85, 'Guatemala'],\n",
       "       [86, 'Iraq'],\n",
       "       [87, 'Malawi'],\n",
       "       [88, 'Paraguay'],\n",
       "       [89, 'Croatia'],\n",
       "       [90, 'Iran'],\n",
       "       [91, 'West Germany'],\n",
       "       [92, 'Albania'],\n",
       "       [93, 'Georgia'],\n",
       "       [94, 'Soviet Union'],\n",
       "       [95, 'Morocco'],\n",
       "       [96, 'Slovakia'],\n",
       "       [97, 'Ukraine'],\n",
       "       [98, 'Bermuda'],\n",
       "       [99, 'Ecuador'],\n",
       "       [100, 'Armenia'],\n",
       "       [101, 'Mongolia'],\n",
       "       [102, 'Bahamas'],\n",
       "       [103, 'Sri Lanka'],\n",
       "       [104, 'Latvia'],\n",
       "       [105, 'Liechtenstein'],\n",
       "       [106, 'Cuba'],\n",
       "       [107, 'Nicaragua'],\n",
       "       [108, 'Slovenia'],\n",
       "       [109, 'Dominican Republic'],\n",
       "       [110, 'Samoa'],\n",
       "       [111, 'Azerbaijan'],\n",
       "       [112, 'Botswana'],\n",
       "       [113, 'Vatican City'],\n",
       "       [114, 'Jamaica'],\n",
       "       [115, 'Kazakhstan'],\n",
       "       [116, 'Lithuania'],\n",
       "       [117, 'Afghanistan'],\n",
       "       [118, 'Somalia'],\n",
       "       [119, 'Sudan'],\n",
       "       [120, 'Panama'],\n",
       "       [121, 'Uganda'],\n",
       "       [122, 'East Germany'],\n",
       "       [123, 'Montenegro']], dtype=object)"
      ]
     },
     "execution_count": 77,
     "metadata": {},
     "output_type": "execute_result"
    }
   ],
   "source": [
    "countries.values"
   ]
  },
  {
   "cell_type": "markdown",
   "id": "f40cfc49-5404-4170-bbb8-4b43bdd8659d",
   "metadata": {},
   "source": [
    "- there is an entry in countries with empty string '' as its country name.\n",
    "- remove entry and replace record that are mapped to it to the \"unknown\" country_id (2) in show_countries mapping table"
   ]
  },
  {
   "cell_type": "code",
   "execution_count": 78,
   "id": "286a1a0c-2317-478c-8416-788636d5ed26",
   "metadata": {},
   "outputs": [],
   "source": [
    "countries = countries.query(\"country_id != 29\")"
   ]
  },
  {
   "cell_type": "code",
   "execution_count": 79,
   "id": "f72323b5-d8c4-409d-9182-80afb9579e71",
   "metadata": {},
   "outputs": [
    {
     "data": {
      "text/html": [
       "<div>\n",
       "<style scoped>\n",
       "    .dataframe tbody tr th:only-of-type {\n",
       "        vertical-align: middle;\n",
       "    }\n",
       "\n",
       "    .dataframe tbody tr th {\n",
       "        vertical-align: top;\n",
       "    }\n",
       "\n",
       "    .dataframe thead th {\n",
       "        text-align: right;\n",
       "    }\n",
       "</style>\n",
       "<table border=\"1\" class=\"dataframe\">\n",
       "  <thead>\n",
       "    <tr style=\"text-align: right;\">\n",
       "      <th></th>\n",
       "      <th>show_id</th>\n",
       "      <th>country_id</th>\n",
       "    </tr>\n",
       "  </thead>\n",
       "  <tbody>\n",
       "    <tr>\n",
       "      <th>241</th>\n",
       "      <td>194.0</td>\n",
       "      <td>29.0</td>\n",
       "    </tr>\n",
       "    <tr>\n",
       "      <th>447</th>\n",
       "      <td>366.0</td>\n",
       "      <td>29.0</td>\n",
       "    </tr>\n",
       "    <tr>\n",
       "      <th>1458</th>\n",
       "      <td>1193.0</td>\n",
       "      <td>29.0</td>\n",
       "    </tr>\n",
       "    <tr>\n",
       "      <th>2714</th>\n",
       "      <td>2225.0</td>\n",
       "      <td>29.0</td>\n",
       "    </tr>\n",
       "    <tr>\n",
       "      <th>5556</th>\n",
       "      <td>4654.0</td>\n",
       "      <td>29.0</td>\n",
       "    </tr>\n",
       "    <tr>\n",
       "      <th>7068</th>\n",
       "      <td>5926.0</td>\n",
       "      <td>29.0</td>\n",
       "    </tr>\n",
       "    <tr>\n",
       "      <th>8470</th>\n",
       "      <td>7008.0</td>\n",
       "      <td>29.0</td>\n",
       "    </tr>\n",
       "  </tbody>\n",
       "</table>\n",
       "</div>"
      ],
      "text/plain": [
       "      show_id  country_id\n",
       "241     194.0        29.0\n",
       "447     366.0        29.0\n",
       "1458   1193.0        29.0\n",
       "2714   2225.0        29.0\n",
       "5556   4654.0        29.0\n",
       "7068   5926.0        29.0\n",
       "8470   7008.0        29.0"
      ]
     },
     "execution_count": 79,
     "metadata": {},
     "output_type": "execute_result"
    }
   ],
   "source": [
    "show_countries.query(\"country_id == 29\")"
   ]
  },
  {
   "cell_type": "code",
   "execution_count": 80,
   "id": "1dedecd0-e15a-4243-8dae-3e9d208e3c47",
   "metadata": {},
   "outputs": [],
   "source": [
    "empty_strings_indices = show_countries.query(\"country_id == 29\").index\n",
    "for index in empty_strings_indices:\n",
    "    show_countries.loc[index, \"country_id\"] = 2"
   ]
  },
  {
   "cell_type": "code",
   "execution_count": 81,
   "id": "07d8c03b-b13b-4077-9b19-98449a6e7913",
   "metadata": {},
   "outputs": [
    {
     "data": {
      "text/html": [
       "<div>\n",
       "<style scoped>\n",
       "    .dataframe tbody tr th:only-of-type {\n",
       "        vertical-align: middle;\n",
       "    }\n",
       "\n",
       "    .dataframe tbody tr th {\n",
       "        vertical-align: top;\n",
       "    }\n",
       "\n",
       "    .dataframe thead th {\n",
       "        text-align: right;\n",
       "    }\n",
       "</style>\n",
       "<table border=\"1\" class=\"dataframe\">\n",
       "  <thead>\n",
       "    <tr style=\"text-align: right;\">\n",
       "      <th></th>\n",
       "      <th>show_id</th>\n",
       "      <th>country_id</th>\n",
       "    </tr>\n",
       "  </thead>\n",
       "  <tbody>\n",
       "  </tbody>\n",
       "</table>\n",
       "</div>"
      ],
      "text/plain": [
       "Empty DataFrame\n",
       "Columns: [show_id, country_id]\n",
       "Index: []"
      ]
     },
     "execution_count": 81,
     "metadata": {},
     "output_type": "execute_result"
    }
   ],
   "source": [
    "show_countries.query(\"country_id == 29\")"
   ]
  },
  {
   "cell_type": "code",
   "execution_count": 82,
   "id": "7b19b758-871c-475e-8958-c30396b4fc7d",
   "metadata": {},
   "outputs": [
    {
     "name": "stdout",
     "output_type": "stream",
     "text": [
      "<class 'pandas.core.frame.DataFrame'>\n",
      "RangeIndex: 42 entries, 0 to 41\n",
      "Data columns (total 2 columns):\n",
      " #   Column         Non-Null Count  Dtype \n",
      "---  ------         --------------  ----- \n",
      " 0   category_id    42 non-null     int64 \n",
      " 1   category_name  42 non-null     object\n",
      "dtypes: int64(1), object(1)\n",
      "memory usage: 800.0+ bytes\n",
      "None\n",
      "0\n",
      "41\n",
      "Action & Adventure\n",
      "Thrillers\n",
      "28\n"
     ]
    }
   ],
   "source": [
    "print(categories.info())\n",
    "print(categories[\"category_id\"].min())\n",
    "print(categories[\"category_id\"].max())\n",
    "print(categories[\"category_name\"].min())\n",
    "print(categories[\"category_name\"].max())\n",
    "print(categories[\"category_name\"].str.len().max())"
   ]
  },
  {
   "cell_type": "code",
   "execution_count": 83,
   "id": "aedfd35a-8997-466f-b73b-7124dd2c9b19",
   "metadata": {},
   "outputs": [
    {
     "name": "stdout",
     "output_type": "stream",
     "text": [
      "<class 'pandas.core.frame.DataFrame'>\n",
      "RangeIndex: 8807 entries, 0 to 8806\n",
      "Data columns (total 7 columns):\n",
      " #   Column        Non-Null Count  Dtype \n",
      "---  ------        --------------  ----- \n",
      " 0   show_id       8807 non-null   int64 \n",
      " 1   type          8807 non-null   object\n",
      " 2   title         8807 non-null   object\n",
      " 3   date_added    8807 non-null   object\n",
      " 4   release_year  8807 non-null   int64 \n",
      " 5   rating_id     8807 non-null   object\n",
      " 6   description   8807 non-null   object\n",
      "dtypes: int64(2), object(5)\n",
      "memory usage: 481.8+ KB\n",
      "None\n",
      "1\n",
      "8807\n",
      "#Alive\n",
      "최강전사 미니특공대 : 영웅의 탄생\n",
      "104\n",
      "248\n"
     ]
    }
   ],
   "source": [
    "print(show_list.info())\n",
    "print(show_list[\"show_id\"].min())\n",
    "print(show_list[\"show_id\"].max())\n",
    "print(show_list[\"title\"].min())\n",
    "print(show_list[\"title\"].max())\n",
    "print(show_list[\"title\"].str.len().max())\n",
    "print(show_list[\"description\"].str.len().max())"
   ]
  },
  {
   "cell_type": "code",
   "execution_count": 84,
   "id": "9c7c0c7f-304a-4b60-b1c1-b2cc1ef03ab1",
   "metadata": {},
   "outputs": [
    {
     "data": {
      "text/plain": [
       "104"
      ]
     },
     "execution_count": 84,
     "metadata": {},
     "output_type": "execute_result"
    }
   ],
   "source": [
    "show_list[\"title\"].str.len().max()"
   ]
  },
  {
   "cell_type": "code",
   "execution_count": 85,
   "id": "73c5ee88-615d-40b5-947a-3cc8ec57abcd",
   "metadata": {},
   "outputs": [
    {
     "data": {
      "text/html": [
       "<div>\n",
       "<style scoped>\n",
       "    .dataframe tbody tr th:only-of-type {\n",
       "        vertical-align: middle;\n",
       "    }\n",
       "\n",
       "    .dataframe tbody tr th {\n",
       "        vertical-align: top;\n",
       "    }\n",
       "\n",
       "    .dataframe thead th {\n",
       "        text-align: right;\n",
       "    }\n",
       "</style>\n",
       "<table border=\"1\" class=\"dataframe\">\n",
       "  <thead>\n",
       "    <tr style=\"text-align: right;\">\n",
       "      <th></th>\n",
       "      <th>show_id</th>\n",
       "      <th>type</th>\n",
       "      <th>title</th>\n",
       "      <th>date_added</th>\n",
       "      <th>release_year</th>\n",
       "      <th>rating_id</th>\n",
       "      <th>description</th>\n",
       "    </tr>\n",
       "  </thead>\n",
       "  <tbody>\n",
       "    <tr>\n",
       "      <th>5164</th>\n",
       "      <td>5165</td>\n",
       "      <td>Movie</td>\n",
       "      <td>Jim &amp; Andy: The Great Beyond - Featuring a Ver...</td>\n",
       "      <td>2017-11-17</td>\n",
       "      <td>2017</td>\n",
       "      <td>1</td>\n",
       "      <td>Through the lens of his stunningly immersive p...</td>\n",
       "    </tr>\n",
       "  </tbody>\n",
       "</table>\n",
       "</div>"
      ],
      "text/plain": [
       "      show_id   type                                              title  \\\n",
       "5164     5165  Movie  Jim & Andy: The Great Beyond - Featuring a Ver...   \n",
       "\n",
       "      date_added  release_year rating_id  \\\n",
       "5164  2017-11-17          2017         1   \n",
       "\n",
       "                                            description  \n",
       "5164  Through the lens of his stunningly immersive p...  "
      ]
     },
     "execution_count": 85,
     "metadata": {},
     "output_type": "execute_result"
    }
   ],
   "source": [
    "show_list.query(\"title.str.len() == 104\")"
   ]
  },
  {
   "cell_type": "code",
   "execution_count": 86,
   "id": "7059d282-9d85-42ea-b33e-8869e271adba",
   "metadata": {},
   "outputs": [
    {
     "data": {
      "text/plain": [
       "'Jim & Andy: The Great Beyond - Featuring a Very Special, Contractually Obligated Mention of Tony Clifton'"
      ]
     },
     "execution_count": 86,
     "metadata": {},
     "output_type": "execute_result"
    }
   ],
   "source": [
    "show_list.loc[5164, \"title\"]"
   ]
  },
  {
   "cell_type": "code",
   "execution_count": 87,
   "id": "8a4bbcf3-6794-475a-9320-f21db7e01992",
   "metadata": {},
   "outputs": [
    {
     "data": {
      "text/html": [
       "<div>\n",
       "<style scoped>\n",
       "    .dataframe tbody tr th:only-of-type {\n",
       "        vertical-align: middle;\n",
       "    }\n",
       "\n",
       "    .dataframe tbody tr th {\n",
       "        vertical-align: top;\n",
       "    }\n",
       "\n",
       "    .dataframe thead th {\n",
       "        text-align: right;\n",
       "    }\n",
       "</style>\n",
       "<table border=\"1\" class=\"dataframe\">\n",
       "  <thead>\n",
       "    <tr style=\"text-align: right;\">\n",
       "      <th></th>\n",
       "      <th>show_id</th>\n",
       "      <th>type</th>\n",
       "      <th>title</th>\n",
       "      <th>date_added</th>\n",
       "      <th>release_year</th>\n",
       "      <th>rating_id</th>\n",
       "      <th>description</th>\n",
       "    </tr>\n",
       "  </thead>\n",
       "  <tbody>\n",
       "    <tr>\n",
       "      <th>215</th>\n",
       "      <td>216</td>\n",
       "      <td>Movie</td>\n",
       "      <td>Shootout at Lokhandwala</td>\n",
       "      <td>2021-08-27</td>\n",
       "      <td>2007</td>\n",
       "      <td>1</td>\n",
       "      <td>Based on a true story, this action film follow...</td>\n",
       "    </tr>\n",
       "    <tr>\n",
       "      <th>593</th>\n",
       "      <td>594</td>\n",
       "      <td>Movie</td>\n",
       "      <td>Snow Day</td>\n",
       "      <td>2021-07-01</td>\n",
       "      <td>2000</td>\n",
       "      <td>2</td>\n",
       "      <td>When a snow day shuts down the whole town, the...</td>\n",
       "    </tr>\n",
       "    <tr>\n",
       "      <th>1519</th>\n",
       "      <td>1520</td>\n",
       "      <td>Movie</td>\n",
       "      <td>Mukhsin</td>\n",
       "      <td>2020-12-18</td>\n",
       "      <td>2006</td>\n",
       "      <td>4</td>\n",
       "      <td>When young Mukhsin arrives in a new town, 10-y...</td>\n",
       "    </tr>\n",
       "    <tr>\n",
       "      <th>2845</th>\n",
       "      <td>2846</td>\n",
       "      <td>Movie</td>\n",
       "      <td>The Death of Mr. Lazarescu</td>\n",
       "      <td>2020-03-04</td>\n",
       "      <td>2005</td>\n",
       "      <td>7</td>\n",
       "      <td>The plot of Romanian director Cristi Puiu's re...</td>\n",
       "    </tr>\n",
       "    <tr>\n",
       "      <th>3700</th>\n",
       "      <td>3701</td>\n",
       "      <td>TV Show</td>\n",
       "      <td>Scare Tactics</td>\n",
       "      <td>2019-06-30</td>\n",
       "      <td>2011</td>\n",
       "      <td>1</td>\n",
       "      <td>This ghoulish but hilarious hidden-camera show...</td>\n",
       "    </tr>\n",
       "    <tr>\n",
       "      <th>4792</th>\n",
       "      <td>4793</td>\n",
       "      <td>Movie</td>\n",
       "      <td>Chalte Chalte</td>\n",
       "      <td>2018-07-01</td>\n",
       "      <td>2003</td>\n",
       "      <td>3</td>\n",
       "      <td>Priya and Raj are polar opposites. Raj is bras...</td>\n",
       "    </tr>\n",
       "    <tr>\n",
       "      <th>4797</th>\n",
       "      <td>4798</td>\n",
       "      <td>Movie</td>\n",
       "      <td>Namastey London</td>\n",
       "      <td>2018-07-01</td>\n",
       "      <td>2007</td>\n",
       "      <td>3</td>\n",
       "      <td>To her Indian parents' dismay, London-born Jas...</td>\n",
       "    </tr>\n",
       "    <tr>\n",
       "      <th>4948</th>\n",
       "      <td>4949</td>\n",
       "      <td>Movie</td>\n",
       "      <td>Billu</td>\n",
       "      <td>2018-04-01</td>\n",
       "      <td>2009</td>\n",
       "      <td>4</td>\n",
       "      <td>An Indian village is abuzz with news that a ma...</td>\n",
       "    </tr>\n",
       "    <tr>\n",
       "      <th>4952</th>\n",
       "      <td>4953</td>\n",
       "      <td>Movie</td>\n",
       "      <td>Main Hoon Na</td>\n",
       "      <td>2018-04-01</td>\n",
       "      <td>2004</td>\n",
       "      <td>3</td>\n",
       "      <td>Major Ram Prasad Sharma yearns to see project ...</td>\n",
       "    </tr>\n",
       "    <tr>\n",
       "      <th>5292</th>\n",
       "      <td>5293</td>\n",
       "      <td>Movie</td>\n",
       "      <td>Berserk: The Golden Age Arc II - The Battle fo...</td>\n",
       "      <td>2017-09-01</td>\n",
       "      <td>2012</td>\n",
       "      <td>1</td>\n",
       "      <td>For three years, Guts believed his mission was...</td>\n",
       "    </tr>\n",
       "    <tr>\n",
       "      <th>5749</th>\n",
       "      <td>5750</td>\n",
       "      <td>Movie</td>\n",
       "      <td>Bleach the Movie: Hell Verse</td>\n",
       "      <td>2016-10-15</td>\n",
       "      <td>2010</td>\n",
       "      <td>3</td>\n",
       "      <td>When a group of vicious Sinners plots to escap...</td>\n",
       "    </tr>\n",
       "    <tr>\n",
       "      <th>5960</th>\n",
       "      <td>5961</td>\n",
       "      <td>Movie</td>\n",
       "      <td>187</td>\n",
       "      <td>2019-11-01</td>\n",
       "      <td>1997</td>\n",
       "      <td>7</td>\n",
       "      <td>After one of his high school students attacks ...</td>\n",
       "    </tr>\n",
       "    <tr>\n",
       "      <th>5990</th>\n",
       "      <td>5991</td>\n",
       "      <td>Movie</td>\n",
       "      <td>14 Blades</td>\n",
       "      <td>2019-04-03</td>\n",
       "      <td>2010</td>\n",
       "      <td>7</td>\n",
       "      <td>In the age of the Ming Dynasty, Quinglong is t...</td>\n",
       "    </tr>\n",
       "    <tr>\n",
       "      <th>6032</th>\n",
       "      <td>6033</td>\n",
       "      <td>Movie</td>\n",
       "      <td>A Dangerous Woman</td>\n",
       "      <td>2018-04-01</td>\n",
       "      <td>1993</td>\n",
       "      <td>7</td>\n",
       "      <td>At the center of this engrossing melodrama is ...</td>\n",
       "    </tr>\n",
       "    <tr>\n",
       "      <th>6130</th>\n",
       "      <td>6131</td>\n",
       "      <td>Movie</td>\n",
       "      <td>Amar Akbar Anthony</td>\n",
       "      <td>2019-12-31</td>\n",
       "      <td>1977</td>\n",
       "      <td>3</td>\n",
       "      <td>Abandoned in a park by their father, Amar, Akb...</td>\n",
       "    </tr>\n",
       "    <tr>\n",
       "      <th>6221</th>\n",
       "      <td>6222</td>\n",
       "      <td>Movie</td>\n",
       "      <td>Balto 2: Wolf Quest</td>\n",
       "      <td>2018-04-01</td>\n",
       "      <td>2001</td>\n",
       "      <td>9</td>\n",
       "      <td>Half-dog, half-wolf Balto (voiced by Maurice L...</td>\n",
       "    </tr>\n",
       "    <tr>\n",
       "      <th>6966</th>\n",
       "      <td>6967</td>\n",
       "      <td>Movie</td>\n",
       "      <td>Hide &amp; Seek</td>\n",
       "      <td>2018-03-01</td>\n",
       "      <td>2010</td>\n",
       "      <td>3</td>\n",
       "      <td>Years after an accident at a wild Christmas pa...</td>\n",
       "    </tr>\n",
       "    <tr>\n",
       "      <th>7208</th>\n",
       "      <td>7209</td>\n",
       "      <td>Movie</td>\n",
       "      <td>King's Ransom</td>\n",
       "      <td>2019-11-01</td>\n",
       "      <td>2005</td>\n",
       "      <td>0</td>\n",
       "      <td>A wealthy, despicable businessman comes to the...</td>\n",
       "    </tr>\n",
       "    <tr>\n",
       "      <th>7275</th>\n",
       "      <td>7276</td>\n",
       "      <td>Movie</td>\n",
       "      <td>LeapFrog: Letter Factory</td>\n",
       "      <td>2020-04-15</td>\n",
       "      <td>2003</td>\n",
       "      <td>5</td>\n",
       "      <td>In this entertaining installment of the wildly...</td>\n",
       "    </tr>\n",
       "    <tr>\n",
       "      <th>7310</th>\n",
       "      <td>7311</td>\n",
       "      <td>Movie</td>\n",
       "      <td>Listen Up! The Lives of Quincy Jones</td>\n",
       "      <td>2019-11-01</td>\n",
       "      <td>1990</td>\n",
       "      <td>3</td>\n",
       "      <td>Steering clear of convention, this affecting d...</td>\n",
       "    </tr>\n",
       "    <tr>\n",
       "      <th>7345</th>\n",
       "      <td>7346</td>\n",
       "      <td>Movie</td>\n",
       "      <td>Love In A Puff</td>\n",
       "      <td>2018-08-01</td>\n",
       "      <td>2010</td>\n",
       "      <td>1</td>\n",
       "      <td>When the Hong Kong government enacts a ban on ...</td>\n",
       "    </tr>\n",
       "    <tr>\n",
       "      <th>7562</th>\n",
       "      <td>7563</td>\n",
       "      <td>Movie</td>\n",
       "      <td>National Lampoon's Loaded Weapon 1</td>\n",
       "      <td>2019-11-01</td>\n",
       "      <td>1993</td>\n",
       "      <td>0</td>\n",
       "      <td>In this parody of the Lethal Weapon franchise,...</td>\n",
       "    </tr>\n",
       "    <tr>\n",
       "      <th>7678</th>\n",
       "      <td>7679</td>\n",
       "      <td>Movie</td>\n",
       "      <td>Opium and the Kung Fu Master</td>\n",
       "      <td>2018-08-16</td>\n",
       "      <td>1984</td>\n",
       "      <td>1</td>\n",
       "      <td>Leader of the Ten Kwangtung Tigers, Tieh Chiao...</td>\n",
       "    </tr>\n",
       "    <tr>\n",
       "      <th>7931</th>\n",
       "      <td>7932</td>\n",
       "      <td>Movie</td>\n",
       "      <td>Sanai Choughade</td>\n",
       "      <td>2018-01-01</td>\n",
       "      <td>2008</td>\n",
       "      <td>3</td>\n",
       "      <td>In an effort to honor the family matriarch's d...</td>\n",
       "    </tr>\n",
       "    <tr>\n",
       "      <th>7938</th>\n",
       "      <td>7939</td>\n",
       "      <td>Movie</td>\n",
       "      <td>Sarivar Sari</td>\n",
       "      <td>2018-02-15</td>\n",
       "      <td>2005</td>\n",
       "      <td>3</td>\n",
       "      <td>Raised in working-class Mumbai, Manisha has an...</td>\n",
       "    </tr>\n",
       "    <tr>\n",
       "      <th>8142</th>\n",
       "      <td>8143</td>\n",
       "      <td>Movie</td>\n",
       "      <td>Sword Masters: Two Champions of Shaolin</td>\n",
       "      <td>2018-08-16</td>\n",
       "      <td>1980</td>\n",
       "      <td>7</td>\n",
       "      <td>Shaolin warrior Tung Chien-chen is injured in ...</td>\n",
       "    </tr>\n",
       "    <tr>\n",
       "      <th>8156</th>\n",
       "      <td>8157</td>\n",
       "      <td>Movie</td>\n",
       "      <td>Teen Patti</td>\n",
       "      <td>2018-03-01</td>\n",
       "      <td>2010</td>\n",
       "      <td>4</td>\n",
       "      <td>Luck brings together math expert Perci Trachte...</td>\n",
       "    </tr>\n",
       "    <tr>\n",
       "      <th>8185</th>\n",
       "      <td>8186</td>\n",
       "      <td>Movie</td>\n",
       "      <td>The Aerial</td>\n",
       "      <td>2018-04-01</td>\n",
       "      <td>2007</td>\n",
       "      <td>1</td>\n",
       "      <td>In the City Without a Voice, only faceless sin...</td>\n",
       "    </tr>\n",
       "    <tr>\n",
       "      <th>8249</th>\n",
       "      <td>8250</td>\n",
       "      <td>Movie</td>\n",
       "      <td>The Cincinnati Kid</td>\n",
       "      <td>2019-11-01</td>\n",
       "      <td>1965</td>\n",
       "      <td>3</td>\n",
       "      <td>In Depression-era New Orleans, cocksure stud p...</td>\n",
       "    </tr>\n",
       "    <tr>\n",
       "      <th>8729</th>\n",
       "      <td>8730</td>\n",
       "      <td>Movie</td>\n",
       "      <td>Where the Money Is</td>\n",
       "      <td>2020-01-15</td>\n",
       "      <td>2000</td>\n",
       "      <td>0</td>\n",
       "      <td>Paul Newman proves he's still got prodigious a...</td>\n",
       "    </tr>\n",
       "    <tr>\n",
       "      <th>8769</th>\n",
       "      <td>8770</td>\n",
       "      <td>Movie</td>\n",
       "      <td>Y.M.I.: Yeh Mera India</td>\n",
       "      <td>2018-03-01</td>\n",
       "      <td>2008</td>\n",
       "      <td>1</td>\n",
       "      <td>The lives of a middle-aged soap opera addict, ...</td>\n",
       "    </tr>\n",
       "    <tr>\n",
       "      <th>8773</th>\n",
       "      <td>8774</td>\n",
       "      <td>Movie</td>\n",
       "      <td>Yanda Kartavya Aahe</td>\n",
       "      <td>2018-01-01</td>\n",
       "      <td>2006</td>\n",
       "      <td>4</td>\n",
       "      <td>Thanks to an arranged marriage that was design...</td>\n",
       "    </tr>\n",
       "  </tbody>\n",
       "</table>\n",
       "</div>"
      ],
      "text/plain": [
       "      show_id     type                                              title  \\\n",
       "215       216    Movie                            Shootout at Lokhandwala   \n",
       "593       594    Movie                                           Snow Day   \n",
       "1519     1520    Movie                                            Mukhsin   \n",
       "2845     2846    Movie                         The Death of Mr. Lazarescu   \n",
       "3700     3701  TV Show                                      Scare Tactics   \n",
       "4792     4793    Movie                                      Chalte Chalte   \n",
       "4797     4798    Movie                                    Namastey London   \n",
       "4948     4949    Movie                                              Billu   \n",
       "4952     4953    Movie                                       Main Hoon Na   \n",
       "5292     5293    Movie  Berserk: The Golden Age Arc II - The Battle fo...   \n",
       "5749     5750    Movie                       Bleach the Movie: Hell Verse   \n",
       "5960     5961    Movie                                                187   \n",
       "5990     5991    Movie                                          14 Blades   \n",
       "6032     6033    Movie                                  A Dangerous Woman   \n",
       "6130     6131    Movie                                 Amar Akbar Anthony   \n",
       "6221     6222    Movie                                Balto 2: Wolf Quest   \n",
       "6966     6967    Movie                                        Hide & Seek   \n",
       "7208     7209    Movie                                      King's Ransom   \n",
       "7275     7276    Movie                           LeapFrog: Letter Factory   \n",
       "7310     7311    Movie               Listen Up! The Lives of Quincy Jones   \n",
       "7345     7346    Movie                                     Love In A Puff   \n",
       "7562     7563    Movie                 National Lampoon's Loaded Weapon 1   \n",
       "7678     7679    Movie                       Opium and the Kung Fu Master   \n",
       "7931     7932    Movie                                    Sanai Choughade   \n",
       "7938     7939    Movie                                       Sarivar Sari   \n",
       "8142     8143    Movie            Sword Masters: Two Champions of Shaolin   \n",
       "8156     8157    Movie                                         Teen Patti   \n",
       "8185     8186    Movie                                         The Aerial   \n",
       "8249     8250    Movie                                 The Cincinnati Kid   \n",
       "8729     8730    Movie                                 Where the Money Is   \n",
       "8769     8770    Movie                             Y.M.I.: Yeh Mera India   \n",
       "8773     8774    Movie                                Yanda Kartavya Aahe   \n",
       "\n",
       "      date_added  release_year rating_id  \\\n",
       "215   2021-08-27          2007         1   \n",
       "593   2021-07-01          2000         2   \n",
       "1519  2020-12-18          2006         4   \n",
       "2845  2020-03-04          2005         7   \n",
       "3700  2019-06-30          2011         1   \n",
       "4792  2018-07-01          2003         3   \n",
       "4797  2018-07-01          2007         3   \n",
       "4948  2018-04-01          2009         4   \n",
       "4952  2018-04-01          2004         3   \n",
       "5292  2017-09-01          2012         1   \n",
       "5749  2016-10-15          2010         3   \n",
       "5960  2019-11-01          1997         7   \n",
       "5990  2019-04-03          2010         7   \n",
       "6032  2018-04-01          1993         7   \n",
       "6130  2019-12-31          1977         3   \n",
       "6221  2018-04-01          2001         9   \n",
       "6966  2018-03-01          2010         3   \n",
       "7208  2019-11-01          2005         0   \n",
       "7275  2020-04-15          2003         5   \n",
       "7310  2019-11-01          1990         3   \n",
       "7345  2018-08-01          2010         1   \n",
       "7562  2019-11-01          1993         0   \n",
       "7678  2018-08-16          1984         1   \n",
       "7931  2018-01-01          2008         3   \n",
       "7938  2018-02-15          2005         3   \n",
       "8142  2018-08-16          1980         7   \n",
       "8156  2018-03-01          2010         4   \n",
       "8185  2018-04-01          2007         1   \n",
       "8249  2019-11-01          1965         3   \n",
       "8729  2020-01-15          2000         0   \n",
       "8769  2018-03-01          2008         1   \n",
       "8773  2018-01-01          2006         4   \n",
       "\n",
       "                                            description  \n",
       "215   Based on a true story, this action film follow...  \n",
       "593   When a snow day shuts down the whole town, the...  \n",
       "1519  When young Mukhsin arrives in a new town, 10-y...  \n",
       "2845  The plot of Romanian director Cristi Puiu's re...  \n",
       "3700  This ghoulish but hilarious hidden-camera show...  \n",
       "4792  Priya and Raj are polar opposites. Raj is bras...  \n",
       "4797  To her Indian parents' dismay, London-born Jas...  \n",
       "4948  An Indian village is abuzz with news that a ma...  \n",
       "4952  Major Ram Prasad Sharma yearns to see project ...  \n",
       "5292  For three years, Guts believed his mission was...  \n",
       "5749  When a group of vicious Sinners plots to escap...  \n",
       "5960  After one of his high school students attacks ...  \n",
       "5990  In the age of the Ming Dynasty, Quinglong is t...  \n",
       "6032  At the center of this engrossing melodrama is ...  \n",
       "6130  Abandoned in a park by their father, Amar, Akb...  \n",
       "6221  Half-dog, half-wolf Balto (voiced by Maurice L...  \n",
       "6966  Years after an accident at a wild Christmas pa...  \n",
       "7208  A wealthy, despicable businessman comes to the...  \n",
       "7275  In this entertaining installment of the wildly...  \n",
       "7310  Steering clear of convention, this affecting d...  \n",
       "7345  When the Hong Kong government enacts a ban on ...  \n",
       "7562  In this parody of the Lethal Weapon franchise,...  \n",
       "7678  Leader of the Ten Kwangtung Tigers, Tieh Chiao...  \n",
       "7931  In an effort to honor the family matriarch's d...  \n",
       "7938  Raised in working-class Mumbai, Manisha has an...  \n",
       "8142  Shaolin warrior Tung Chien-chen is injured in ...  \n",
       "8156  Luck brings together math expert Perci Trachte...  \n",
       "8185  In the City Without a Voice, only faceless sin...  \n",
       "8249  In Depression-era New Orleans, cocksure stud p...  \n",
       "8729  Paul Newman proves he's still got prodigious a...  \n",
       "8769  The lives of a middle-aged soap opera addict, ...  \n",
       "8773  Thanks to an arranged marriage that was design...  "
      ]
     },
     "execution_count": 87,
     "metadata": {},
     "output_type": "execute_result"
    }
   ],
   "source": [
    "show_list.query(\"description.str.len() > 200\")"
   ]
  },
  {
   "cell_type": "code",
   "execution_count": 89,
   "id": "381631d7-cccf-47a7-9152-1cc09fd995aa",
   "metadata": {},
   "outputs": [
    {
     "name": "stdout",
     "output_type": "stream",
     "text": [
      "      director_id            director_name\n",
      "0               0          Kirsten Johnson\n",
      "1               1                  unknown\n",
      "2               2          Julien Leclercq\n",
      "3               3            Mike Flanagan\n",
      "4               4            Robert Cullen\n",
      "...           ...                      ...\n",
      "4989         4989                   Mu Chu\n",
      "4990         4990  Chandra Prakash Dwivedi\n",
      "4991         4991          Majid Al Ansari\n",
      "4992         4992             Peter Hewitt\n",
      "4993         4993              Mozez Singh\n",
      "\n",
      "[4994 rows x 2 columns]        cast_id              cast_name\n",
      "0          0.0                unknown\n",
      "1          1.0             Ama Qamata\n",
      "2          2.0            Khosi Ngema\n",
      "3          3.0          Gail Mabalane\n",
      "4          4.0         Thabang Molaba\n",
      "...        ...                    ...\n",
      "36438  36438.0         Anita Shabdish\n",
      "36439  36439.0  Chittaranjan Tripathy\n",
      "36440  36440.0          Jeon Ho-Young\n",
      "36441  36441.0        Manos Krystalis\n",
      "36442  36442.0           Kelly Bronzy\n",
      "\n",
      "[36439 rows x 2 columns]     category_id                 category_name\n",
      "0             0                 Documentaries\n",
      "1             1        International TV Shows\n",
      "2             2                     TV Dramas\n",
      "3             3                  TV Mysteries\n",
      "4             4                Crime TV Shows\n",
      "5             5         TV Action & Adventure\n",
      "6             6                    Docuseries\n",
      "7             7                    Reality TV\n",
      "8             8             Romantic TV Shows\n",
      "9             9                   TV Comedies\n",
      "10           10                     TV Horror\n",
      "11           11      Children & Family Movies\n",
      "12           12                        Dramas\n",
      "13           13            Independent Movies\n",
      "14           14          International Movies\n",
      "15           15              British TV Shows\n",
      "16           16                      Comedies\n",
      "17           17     Spanish-Language TV Shows\n",
      "18           18                     Thrillers\n",
      "19           19               Romantic Movies\n",
      "20           20              Music & Musicals\n",
      "21           21                 Horror Movies\n",
      "22           22              Sci-Fi & Fantasy\n",
      "23           23                  TV Thrillers\n",
      "24           24                      Kids' TV\n",
      "25           25            Action & Adventure\n",
      "26           26           TV Sci-Fi & Fantasy\n",
      "27           27                Classic Movies\n",
      "28           28                Anime Features\n",
      "29           29                 Sports Movies\n",
      "30           30                  Anime Series\n",
      "31           31               Korean TV Shows\n",
      "32           32           Science & Nature TV\n",
      "33           33                 Teen TV Shows\n",
      "34           34                   Cult Movies\n",
      "35           35                      TV Shows\n",
      "36           36          Faith & Spirituality\n",
      "37           37                  LGBTQ Movies\n",
      "38           38               Stand-Up Comedy\n",
      "39           39                        Movies\n",
      "40           40  Stand-Up Comedy & Talk Shows\n",
      "41           41             Classic & Cult TV      country_id   country_name\n",
      "0             0  United States\n",
      "1             1   South Africa\n",
      "2             2        unknown\n",
      "3             3          India\n",
      "4             4          Ghana\n",
      "..          ...            ...\n",
      "119         119          Sudan\n",
      "120         120         Panama\n",
      "121         121         Uganda\n",
      "122         122   East Germany\n",
      "123         123     Montenegro\n",
      "\n",
      "[123 rows x 2 columns]     rating_id rating_name\n",
      "0           0       PG-13\n",
      "1           1       TV-MA\n",
      "2           2          PG\n",
      "3           3       TV-14\n",
      "4           4       TV-PG\n",
      "5           5        TV-Y\n",
      "6           6       TV-Y7\n",
      "7           7           R\n",
      "8           8        TV-G\n",
      "9           9           G\n",
      "10         10       NC-17\n",
      "11         11          NR\n",
      "12         12    TV-Y7-FV\n",
      "13         13          UR       show_id     type                  title  date_added  release_year  \\\n",
      "0           1    Movie   Dick Johnson Is Dead  2021-09-25          2020   \n",
      "1           2  TV Show          Blood & Water  2021-09-24          2021   \n",
      "2           3  TV Show              Ganglands  2021-09-24          2021   \n",
      "3           4  TV Show  Jailbirds New Orleans  2021-09-24          2021   \n",
      "4           5  TV Show           Kota Factory  2021-09-24          2021   \n",
      "...       ...      ...                    ...         ...           ...   \n",
      "8802     8803    Movie                 Zodiac  2019-11-20          2007   \n",
      "8803     8804  TV Show            Zombie Dumb  2019-07-01          2018   \n",
      "8804     8805    Movie             Zombieland  2019-11-01          2009   \n",
      "8805     8806    Movie                   Zoom  2020-01-11          2006   \n",
      "8806     8807    Movie                 Zubaan  2019-03-02          2015   \n",
      "\n",
      "     rating_id                                        description  \n",
      "0            0  As her father nears the end of his life, filmm...  \n",
      "1            1  After crossing paths at a party, a Cape Town t...  \n",
      "2            1  To protect his family from a powerful drug lor...  \n",
      "3            1  Feuds, flirtations and toilet talk go down amo...  \n",
      "4            1  In a city of coaching centers known to train I...  \n",
      "...        ...                                                ...  \n",
      "8802         7  A political cartoonist, a crime reporter and a...  \n",
      "8803         6  While living alone in a spooky town, a young g...  \n",
      "8804         7  Looking to survive in a world taken over by zo...  \n",
      "8805         2  Dragged from civilian life, a former superhero...  \n",
      "8806         3  A scrappy but poor boy worms his way into a ty...  \n",
      "\n",
      "[8807 rows x 7 columns]       movie_duration_id  show_id minutes\n",
      "0                     0        1      90\n",
      "6                     1        7      91\n",
      "7                     2        8     125\n",
      "9                     3       10     104\n",
      "12                    4       13     127\n",
      "...                 ...      ...     ...\n",
      "8801               6126     8802      96\n",
      "8802               6127     8803     158\n",
      "8804               6128     8805      88\n",
      "8805               6129     8806      88\n",
      "8806               6130     8807     111\n",
      "\n",
      "[6131 rows x 3 columns]       tv_show_duration_id  show_id seasons\n",
      "1                       0        2       2\n",
      "2                       1        3       1\n",
      "3                       2        4       1\n",
      "4                       3        5       2\n",
      "5                       4        6       1\n",
      "...                   ...      ...     ...\n",
      "8795                 2671     8796       2\n",
      "8796                 2672     8797       2\n",
      "8797                 2673     8798       3\n",
      "8800                 2674     8801       1\n",
      "8803                 2675     8804       2\n",
      "\n",
      "[2676 rows x 3 columns]       show_id  director_id\n",
      "0         1.0          0.0\n",
      "1         2.0          1.0\n",
      "2         3.0          2.0\n",
      "3         4.0          1.0\n",
      "4         5.0          1.0\n",
      "...       ...          ...\n",
      "9607   8803.0        409.0\n",
      "9608   8804.0          1.0\n",
      "9609   8805.0       3319.0\n",
      "9610   8806.0       4992.0\n",
      "9611   8807.0       4993.0\n",
      "\n",
      "[9612 rows x 2 columns]        show_id  cast_id\n",
      "0          1.0      0.0\n",
      "1          2.0      1.0\n",
      "2          2.0      2.0\n",
      "3          2.0      3.0\n",
      "4          2.0      4.0\n",
      "...        ...      ...\n",
      "64962    733.0   8580.0\n",
      "64963    733.0  36440.0\n",
      "64964    733.0   8571.0\n",
      "64965   6364.0  36441.0\n",
      "64966   6364.0  36442.0\n",
      "\n",
      "[64963 rows x 2 columns]        show_id  category_id\n",
      "0          1.0          0.0\n",
      "1          2.0          1.0\n",
      "2          2.0          2.0\n",
      "3          2.0          3.0\n",
      "4          3.0          4.0\n",
      "...        ...          ...\n",
      "19318   8806.0         11.0\n",
      "19319   8806.0         16.0\n",
      "19320   8807.0         12.0\n",
      "19321   8807.0         14.0\n",
      "19322   8807.0         20.0\n",
      "\n",
      "[19323 rows x 2 columns]        show_id  country_id\n",
      "0          1.0         0.0\n",
      "1          2.0         1.0\n",
      "2          3.0         2.0\n",
      "3          4.0         2.0\n",
      "4          5.0         3.0\n",
      "...        ...         ...\n",
      "10845   8803.0         0.0\n",
      "10846   8804.0         2.0\n",
      "10847   8805.0         0.0\n",
      "10848   8806.0         0.0\n",
      "10849   8807.0         3.0\n",
      "\n",
      "[10850 rows x 2 columns]\n"
     ]
    }
   ],
   "source": [
    "print(\n",
    "    directors,\n",
    "    casts,\n",
    "    categories,\n",
    "    countries,\n",
    "    ratings,\n",
    "    show_list,\n",
    "    movie_duration,\n",
    "    tv_show_duration,\n",
    "    show_directors,\n",
    "    show_casts,\n",
    "    show_categories,\n",
    "    show_countries\n",
    ")"
   ]
  },
  {
   "cell_type": "code",
   "execution_count": 92,
   "id": "ba74efff-2aca-4b47-a7d1-f7762bca6071",
   "metadata": {},
   "outputs": [],
   "source": [
    "directors.to_csv(\"tables/directors.csv\", index=False)\n",
    "casts.to_csv(\"tables/casts.csv\", index=False)\n",
    "categories.to_csv(\"tables/categories.csv\", index=False)\n",
    "countries.to_csv(\"tables/countries.csv\", index=False)\n",
    "ratings.to_csv(\"tables/ratings.csv\", index=False)\n",
    "show_list.to_csv(\"tables/show_list.csv\", index=False)\n",
    "movie_duration.to_csv(\"tables/movie_duration.csv\", index=False)\n",
    "tv_show_duration.to_csv(\"tables/tv_show_duration.csv\", index=False)\n",
    "show_directors.to_csv(\"tables/show_directors.csv\", index=False)\n",
    "show_casts.to_csv(\"tables/show_casts.csv\", index=False)\n",
    "show_categories.to_csv(\"tables/show_categories.csv\", index=False)\n",
    "show_countries.to_csv(\"tables/show_countries.csv\", index=False)"
   ]
  },
  {
   "cell_type": "markdown",
   "id": "5caafe64-9ca9-47a2-842b-10e114112926",
   "metadata": {},
   "source": [
    "- saved into csv files so that i wont need to rerun the entire program when i close the notebook. the normalizations take long"
   ]
  },
  {
   "cell_type": "markdown",
   "id": "aeedef0b-df2f-4f3c-8351-8d6fdd10fb42",
   "metadata": {
    "jp-MarkdownHeadingCollapsed": true
   },
   "source": [
    "## database loading"
   ]
  },
  {
   "cell_type": "markdown",
   "id": "d40c8743-14be-4943-91dd-7fca6363a32d",
   "metadata": {
    "jp-MarkdownHeadingCollapsed": true
   },
   "source": [
    "### database connection"
   ]
  },
  {
   "cell_type": "code",
   "execution_count": 3,
   "id": "84285b80-b815-49df-b298-89748cabc999",
   "metadata": {},
   "outputs": [],
   "source": [
    "directors = pd.read_csv(\"tables/directors.csv\")\n",
    "casts = pd.read_csv(\"tables/casts.csv\")\n",
    "categories = pd.read_csv(\"tables/categories.csv\")\n",
    "countries = pd.read_csv(\"tables/countries.csv\")\n",
    "ratings = pd.read_csv(\"tables/ratings.csv\")\n",
    "show_list = pd.read_csv(\"tables/show_list.csv\")\n",
    "movie_duration = pd.read_csv(\"tables/movie_duration.csv\")\n",
    "tv_show_duration = pd.read_csv(\"tables/tv_show_duration.csv\")\n",
    "show_directors = pd.read_csv(\"tables/show_directors.csv\")\n",
    "show_casts = pd.read_csv(\"tables/show_casts.csv\")\n",
    "show_categories = pd.read_csv(\"tables/show_categories.csv\")\n",
    "show_countries = pd.read_csv(\"tables/show_countries.csv\")"
   ]
  },
  {
   "cell_type": "code",
   "execution_count": 2,
   "id": "9fbdb559-cf16-4802-b50d-d92c05baf8ac",
   "metadata": {},
   "outputs": [],
   "source": [
    "db = mysql.connector.connect(\n",
    "    host=\"localhost\",\n",
    "    user=\"root\",\n",
    "    password=\"3280\"\n",
    ")\n",
    "cursor = db.cursor()"
   ]
  },
  {
   "cell_type": "code",
   "execution_count": 3,
   "id": "081d535b-2f72-43d5-a90d-3f5a6b500807",
   "metadata": {},
   "outputs": [
    {
     "data": {
      "text/plain": [
       "[('airbnb',),\n",
       " ('bodyfat',),\n",
       " ('fitness_tracker',),\n",
       " ('information_schema',),\n",
       " ('mysql',),\n",
       " ('netflix',),\n",
       " ('netflix2',),\n",
       " ('northwind',),\n",
       " ('performance_schema',),\n",
       " ('sys',),\n",
       " ('w3schools',)]"
      ]
     },
     "execution_count": 3,
     "metadata": {},
     "output_type": "execute_result"
    }
   ],
   "source": [
    "query = \"SHOW DATABASES;\"\n",
    "cursor.execute(query)\n",
    "cursor.fetchall()"
   ]
  },
  {
   "cell_type": "code",
   "execution_count": 7,
   "id": "ed07a7d9-25a0-4349-a47c-ed779f4df44e",
   "metadata": {},
   "outputs": [
    {
     "data": {
      "text/plain": [
       "[]"
      ]
     },
     "execution_count": 7,
     "metadata": {},
     "output_type": "execute_result"
    }
   ],
   "source": [
    "query = \"CREATE DATABASE IF NOT EXISTS netflix2\"\n",
    "cursor.execute(query)\n",
    "cursor.fetchall()"
   ]
  },
  {
   "cell_type": "code",
   "execution_count": 4,
   "id": "42eedde5-e459-4d82-94a1-7f48f5868305",
   "metadata": {},
   "outputs": [
    {
     "data": {
      "text/plain": [
       "[]"
      ]
     },
     "execution_count": 4,
     "metadata": {},
     "output_type": "execute_result"
    }
   ],
   "source": [
    "query = \"USE netflix2\"\n",
    "cursor.execute(query)\n",
    "cursor.fetchall()"
   ]
  },
  {
   "cell_type": "markdown",
   "id": "13851b88-73ee-4d56-a3d4-aa05e2dadb89",
   "metadata": {
    "jp-MarkdownHeadingCollapsed": true
   },
   "source": [
    "### table creations"
   ]
  },
  {
   "cell_type": "code",
   "execution_count": 13,
   "id": "cb621622-d153-41a5-8992-d60747856c83",
   "metadata": {},
   "outputs": [
    {
     "data": {
      "text/plain": [
       "[]"
      ]
     },
     "execution_count": 13,
     "metadata": {},
     "output_type": "execute_result"
    }
   ],
   "source": [
    "query = (\n",
    "    \"CREATE TABLE IF NOT EXISTS directors (\" +\n",
    "    \"director_id INTEGER NOT NULL, \" +\n",
    "    \"director_name VARCHAR(64) NOT NULL, \" +\n",
    "    \"PRIMARY KEY(director_id)\" +\n",
    "    \")\"\n",
    ")\n",
    "cursor.execute(query)\n",
    "cursor.fetchall()"
   ]
  },
  {
   "cell_type": "code",
   "execution_count": 14,
   "id": "76b56966-abe5-4f4c-a244-8251a3bc2b62",
   "metadata": {},
   "outputs": [
    {
     "data": {
      "text/plain": [
       "[]"
      ]
     },
     "execution_count": 14,
     "metadata": {},
     "output_type": "execute_result"
    }
   ],
   "source": [
    "query = (\n",
    "    \"CREATE TABLE IF NOT EXISTS casts (\" +\n",
    "    \"cast_id INTEGER NOT NULL, \" +\n",
    "    \"cast_name VARCHAR(64) NOT NULL, \" +\n",
    "    \"PRIMARY KEY(cast_id)\" +\n",
    "    \")\"\n",
    ")\n",
    "cursor.execute(query)\n",
    "cursor.fetchall()"
   ]
  },
  {
   "cell_type": "code",
   "execution_count": 15,
   "id": "c7aca020-ce0c-4d63-baed-70c7a0524db6",
   "metadata": {},
   "outputs": [
    {
     "data": {
      "text/plain": [
       "[]"
      ]
     },
     "execution_count": 15,
     "metadata": {},
     "output_type": "execute_result"
    }
   ],
   "source": [
    "query = (\n",
    "    \"CREATE TABLE IF NOT EXISTS ratings (\" +\n",
    "    \"rating_id INTEGER NOT NULL, \" +\n",
    "    \"rating_name VARCHAR(64) NOT NULL, \" +\n",
    "    \"PRIMARY KEY(rating_id)\" +\n",
    "    \")\"\n",
    ")\n",
    "cursor.execute(query)\n",
    "cursor.fetchall()"
   ]
  },
  {
   "cell_type": "code",
   "execution_count": 16,
   "id": "1d12c984-2c24-4831-a090-ecf7a348efdb",
   "metadata": {},
   "outputs": [
    {
     "data": {
      "text/plain": [
       "[]"
      ]
     },
     "execution_count": 16,
     "metadata": {},
     "output_type": "execute_result"
    }
   ],
   "source": [
    "query = (\n",
    "    \"CREATE TABLE IF NOT EXISTS categories (\" +\n",
    "    \"category_id INTEGER NOT NULL, \" +\n",
    "    \"category_name VARCHAR(64) NOT NULL, \" +\n",
    "    \"PRIMARY KEY(category_id)\" +\n",
    "    \")\"\n",
    ")\n",
    "cursor.execute(query)\n",
    "cursor.fetchall()"
   ]
  },
  {
   "cell_type": "code",
   "execution_count": 17,
   "id": "64ee20a5-9b62-4280-9928-9fbdb4549e3f",
   "metadata": {},
   "outputs": [
    {
     "data": {
      "text/plain": [
       "[]"
      ]
     },
     "execution_count": 17,
     "metadata": {},
     "output_type": "execute_result"
    }
   ],
   "source": [
    "query = (\n",
    "    \"CREATE TABLE IF NOT EXISTS countries (\" +\n",
    "    \"country_id INTEGER NOT NULL, \" +\n",
    "    \"country_name VARCHAR(64) NOT NULL, \" +\n",
    "    \"PRIMARY KEY(country_id)\" +\n",
    "    \")\"\n",
    ")\n",
    "cursor.execute(query)\n",
    "cursor.fetchall()"
   ]
  },
  {
   "cell_type": "code",
   "execution_count": 19,
   "id": "cee102cf-ce6b-4fe4-b3a3-1fd3b7fc10cf",
   "metadata": {},
   "outputs": [
    {
     "data": {
      "text/plain": [
       "[]"
      ]
     },
     "execution_count": 19,
     "metadata": {},
     "output_type": "execute_result"
    }
   ],
   "source": [
    "query = (\n",
    "    \"CREATE TABLE IF NOT EXISTS shows (\" +\n",
    "    \"show_id INTEGER NOT NULL, \" +\n",
    "    \"type ENUM('Movie', 'TV Show') NOT NULL, \" +\n",
    "    \"title VARCHAR(512) NOT NULL, \" +\n",
    "    \"date_added DATE NOT NULL, \" +\n",
    "    \"release_year YEAR NOT NULL, \" + \n",
    "    \"rating_id INTEGER NOT NULL, \" +\n",
    "    \"description VARCHAR(1024) NOT NULL, \" +\n",
    "    \"PRIMARY KEY(show_id), \" +\n",
    "    \"FOREIGN KEY(rating_id) REFERENCES ratings(rating_id)\" +\n",
    "    \")\"\n",
    ")\n",
    "cursor.execute(query)\n",
    "cursor.fetchall()"
   ]
  },
  {
   "cell_type": "code",
   "execution_count": 20,
   "id": "768f5569-3179-4e2b-90a1-992bdc0f2bde",
   "metadata": {},
   "outputs": [
    {
     "data": {
      "text/plain": [
       "[]"
      ]
     },
     "execution_count": 20,
     "metadata": {},
     "output_type": "execute_result"
    }
   ],
   "source": [
    "query = (\n",
    "    \"CREATE TABLE IF NOT EXISTS movie_duration (\" +\n",
    "    \"movie_duration_id INTEGER NOT NULL, \" +\n",
    "    \"show_id INTEGER NOT NULL, \" +\n",
    "    \"minutes FLOAT NOT NULL, \" +\n",
    "    \"PRIMARY KEY(movie_duration_id, show_id), \" +\n",
    "    \"FOREIGN KEY(show_id) REFERENCES shows(show_id)\" +\n",
    "    \")\"\n",
    ")\n",
    "cursor.execute(query)\n",
    "cursor.fetchall()"
   ]
  },
  {
   "cell_type": "code",
   "execution_count": 21,
   "id": "935fe137-5304-43fc-b037-ae6a20e41b23",
   "metadata": {},
   "outputs": [
    {
     "data": {
      "text/plain": [
       "[]"
      ]
     },
     "execution_count": 21,
     "metadata": {},
     "output_type": "execute_result"
    }
   ],
   "source": [
    "query = (\n",
    "    \"CREATE TABLE IF NOT EXISTS tv_show_duration (\" +\n",
    "    \"tv_show_duration_id INTEGER NOT NULL, \" +\n",
    "    \"show_id INTEGER NOT NULL, \" +\n",
    "    \"seasons INTEGER NOT NULL, \" +\n",
    "    \"PRIMARY KEY(tv_show_duration_id, show_id), \" +\n",
    "    \"FOREIGN KEY(show_id) REFERENCES shows(show_id)\" +\n",
    "    \")\"\n",
    ")\n",
    "cursor.execute(query)\n",
    "cursor.fetchall()"
   ]
  },
  {
   "cell_type": "code",
   "execution_count": 23,
   "id": "9dcb87bc-e476-4286-9c12-a31335c436e4",
   "metadata": {},
   "outputs": [
    {
     "data": {
      "text/plain": [
       "[]"
      ]
     },
     "execution_count": 23,
     "metadata": {},
     "output_type": "execute_result"
    }
   ],
   "source": [
    "query = (\n",
    "    \"CREATE TABLE IF NOT EXISTS show_directors (\" +\n",
    "    \"show_id INTEGER NOT NULL, \" +\n",
    "    \"director_id INTEGER NOT NULL, \" +\n",
    "    \"PRIMARY KEY(show_id, director_id), \" +\n",
    "    \"FOREIGN KEY(show_id) REFERENCES shows(show_id), \" +\n",
    "    \"FOREIGN KEY(director_id) REFERENCES directors(director_id)\" +\n",
    "    \")\"\n",
    ")\n",
    "cursor.execute(query)\n",
    "cursor.fetchall()"
   ]
  },
  {
   "cell_type": "code",
   "execution_count": 24,
   "id": "f6c6e8f7-8628-4658-8bc3-f334e91675c9",
   "metadata": {},
   "outputs": [
    {
     "data": {
      "text/plain": [
       "[]"
      ]
     },
     "execution_count": 24,
     "metadata": {},
     "output_type": "execute_result"
    }
   ],
   "source": [
    "query = (\n",
    "    \"CREATE TABLE IF NOT EXISTS show_casts (\" +\n",
    "    \"show_id INTEGER NOT NULL, \" +\n",
    "    \"cast_id INTEGER NOT NULL, \" +\n",
    "    \"PRIMARY KEY(show_id, cast_id), \" +\n",
    "    \"FOREIGN KEY(show_id) REFERENCES shows(show_id), \" +\n",
    "    \"FOREIGN KEY(cast_id) REFERENCES casts(cast_id)\" +\n",
    "    \")\"\n",
    ")\n",
    "cursor.execute(query)\n",
    "cursor.fetchall()"
   ]
  },
  {
   "cell_type": "code",
   "execution_count": 25,
   "id": "e63eebaa-2749-4c64-b555-ff0f0c6afb72",
   "metadata": {},
   "outputs": [
    {
     "data": {
      "text/plain": [
       "[]"
      ]
     },
     "execution_count": 25,
     "metadata": {},
     "output_type": "execute_result"
    }
   ],
   "source": [
    "query = (\n",
    "    \"CREATE TABLE IF NOT EXISTS show_countries (\" +\n",
    "    \"show_id INTEGER NOT NULL, \" +\n",
    "    \"country_id INTEGER NOT NULL, \" +\n",
    "    \"PRIMARY KEY(show_id, country_id), \" +\n",
    "    \"FOREIGN KEY(show_id) REFERENCES shows(show_id), \" +\n",
    "    \"FOREIGN KEY(country_id) REFERENCES countries(country_id)\" +\n",
    "    \")\"\n",
    ")\n",
    "cursor.execute(query)\n",
    "cursor.fetchall()"
   ]
  },
  {
   "cell_type": "code",
   "execution_count": 26,
   "id": "d21e8241-7b9f-4f34-81d1-199eee141eff",
   "metadata": {},
   "outputs": [
    {
     "data": {
      "text/plain": [
       "[]"
      ]
     },
     "execution_count": 26,
     "metadata": {},
     "output_type": "execute_result"
    }
   ],
   "source": [
    "query = (\n",
    "    \"CREATE TABLE IF NOT EXISTS show_categories (\" +\n",
    "    \"show_id INTEGER NOT NULL, \" +\n",
    "    \"category_id INTEGER NOT NULL, \" +\n",
    "    \"PRIMARY KEY(show_id, category_id), \" +\n",
    "    \"FOREIGN KEY(show_id) REFERENCES shows(show_id), \" +\n",
    "    \"FOREIGN KEY(category_id) REFERENCES categories(category_id)\" +\n",
    "    \")\"\n",
    ")\n",
    "cursor.execute(query)\n",
    "cursor.fetchall()"
   ]
  },
  {
   "cell_type": "code",
   "execution_count": 27,
   "id": "5a94ea4f-eeed-4be2-81b2-27c818301054",
   "metadata": {},
   "outputs": [
    {
     "data": {
      "text/plain": [
       "[('casts',),\n",
       " ('categories',),\n",
       " ('countries',),\n",
       " ('directors',),\n",
       " ('movie_duration',),\n",
       " ('ratings',),\n",
       " ('show_casts',),\n",
       " ('show_categories',),\n",
       " ('show_countries',),\n",
       " ('show_directors',),\n",
       " ('shows',),\n",
       " ('tv_show_duration',)]"
      ]
     },
     "execution_count": 27,
     "metadata": {},
     "output_type": "execute_result"
    }
   ],
   "source": [
    "query = \"SHOW TABLES\"\n",
    "cursor.execute(query)\n",
    "cursor.fetchall()"
   ]
  },
  {
   "cell_type": "markdown",
   "id": "cef4ba5a-b22b-401f-a601-c8a4013e8bdf",
   "metadata": {
    "jp-MarkdownHeadingCollapsed": true
   },
   "source": [
    "### data loading"
   ]
  },
  {
   "cell_type": "code",
   "execution_count": 23,
   "id": "13b66a9d-9f93-4738-82ef-5d251be31253",
   "metadata": {},
   "outputs": [
    {
     "name": "stdout",
     "output_type": "stream",
     "text": [
      "Index(['director_id', 'director_name'], dtype='object')\n"
     ]
    },
    {
     "data": {
      "text/plain": [
       "[('director_id', 'int', 'NO', 'PRI', None, ''),\n",
       " ('director_name', 'varchar(64)', 'NO', '', None, '')]"
      ]
     },
     "execution_count": 23,
     "metadata": {},
     "output_type": "execute_result"
    }
   ],
   "source": [
    "print(directors.columns)\n",
    "query = \"DESCRIBE directors\"\n",
    "cursor.execute(query)\n",
    "cursor.fetchall()"
   ]
  },
  {
   "cell_type": "code",
   "execution_count": 24,
   "id": "ff696038-e6dc-4611-aa00-860ab2cb30a3",
   "metadata": {},
   "outputs": [
    {
     "data": {
      "text/plain": [
       "[]"
      ]
     },
     "execution_count": 24,
     "metadata": {},
     "output_type": "execute_result"
    }
   ],
   "source": [
    "query = \"INSERT INTO directors VALUES (%s, %s)\"\n",
    "values = directors.values.tolist()\n",
    "cursor.executemany(query, values)\n",
    "cursor.fetchall()"
   ]
  },
  {
   "cell_type": "code",
   "execution_count": 25,
   "id": "2ece0b41-ac69-4444-aaa0-7924a9699233",
   "metadata": {},
   "outputs": [
    {
     "name": "stdout",
     "output_type": "stream",
     "text": [
      "Index(['cast_id', 'cast_name'], dtype='object')\n"
     ]
    },
    {
     "data": {
      "text/plain": [
       "[('cast_id', 'int', 'NO', 'PRI', None, ''),\n",
       " ('cast_name', 'varchar(64)', 'NO', '', None, '')]"
      ]
     },
     "execution_count": 25,
     "metadata": {},
     "output_type": "execute_result"
    }
   ],
   "source": [
    "print(casts.columns)\n",
    "query = \"DESCRIBE casts\"\n",
    "cursor.execute(query)\n",
    "cursor.fetchall()"
   ]
  },
  {
   "cell_type": "code",
   "execution_count": 27,
   "id": "507b7a65-ef61-4cf7-b1fb-fc29fd713c1e",
   "metadata": {},
   "outputs": [
    {
     "data": {
      "text/plain": [
       "[]"
      ]
     },
     "execution_count": 27,
     "metadata": {},
     "output_type": "execute_result"
    }
   ],
   "source": [
    "query = \"INSERT INTO casts VALUES (%s, %s)\"\n",
    "values = casts.values.tolist()\n",
    "cursor.executemany(query, values)\n",
    "cursor.fetchall()"
   ]
  },
  {
   "cell_type": "code",
   "execution_count": 28,
   "id": "dc127aa3-be01-48d5-9912-0a29192679dc",
   "metadata": {},
   "outputs": [
    {
     "name": "stdout",
     "output_type": "stream",
     "text": [
      "Index(['category_id', 'category_name'], dtype='object')\n"
     ]
    },
    {
     "data": {
      "text/plain": [
       "[('category_id', 'int', 'NO', 'PRI', None, ''),\n",
       " ('category_name', 'varchar(64)', 'NO', '', None, '')]"
      ]
     },
     "execution_count": 28,
     "metadata": {},
     "output_type": "execute_result"
    }
   ],
   "source": [
    "print(categories.columns)\n",
    "query = \"DESCRIBE categories\"\n",
    "cursor.execute(query)\n",
    "cursor.fetchall()"
   ]
  },
  {
   "cell_type": "code",
   "execution_count": 29,
   "id": "4390bcaf-8cb9-4412-a500-c37f4587ebd2",
   "metadata": {},
   "outputs": [
    {
     "data": {
      "text/plain": [
       "[]"
      ]
     },
     "execution_count": 29,
     "metadata": {},
     "output_type": "execute_result"
    }
   ],
   "source": [
    "query = \"INSERT INTO categories VALUES (%s, %s)\"\n",
    "values = categories.values.tolist()\n",
    "cursor.executemany(query, values)\n",
    "cursor.fetchall()"
   ]
  },
  {
   "cell_type": "code",
   "execution_count": 30,
   "id": "7fc98d12-4d68-4946-9737-3edf14adebec",
   "metadata": {},
   "outputs": [
    {
     "name": "stdout",
     "output_type": "stream",
     "text": [
      "Index(['country_id', 'country_name'], dtype='object')\n"
     ]
    },
    {
     "data": {
      "text/plain": [
       "[('country_id', 'int', 'NO', 'PRI', None, ''),\n",
       " ('country_name', 'varchar(64)', 'NO', '', None, '')]"
      ]
     },
     "execution_count": 30,
     "metadata": {},
     "output_type": "execute_result"
    }
   ],
   "source": [
    "print(countries.columns)\n",
    "query = \"DESCRIBE countries\"\n",
    "cursor.execute(query)\n",
    "cursor.fetchall()"
   ]
  },
  {
   "cell_type": "code",
   "execution_count": 31,
   "id": "c0fbce8a-b39d-4f8c-a795-23eed9a87bf9",
   "metadata": {},
   "outputs": [
    {
     "data": {
      "text/plain": [
       "[]"
      ]
     },
     "execution_count": 31,
     "metadata": {},
     "output_type": "execute_result"
    }
   ],
   "source": [
    "query = \"INSERT INTO countries VALUES (%s, %s)\"\n",
    "values = countries.values.tolist()\n",
    "cursor.executemany(query, values)\n",
    "cursor.fetchall()"
   ]
  },
  {
   "cell_type": "code",
   "execution_count": 32,
   "id": "033cd1ed-8836-4577-bceb-b071fda47fd3",
   "metadata": {},
   "outputs": [
    {
     "name": "stdout",
     "output_type": "stream",
     "text": [
      "Index(['rating_id', 'rating_name'], dtype='object')\n"
     ]
    },
    {
     "data": {
      "text/plain": [
       "[('rating_id', 'int', 'NO', 'PRI', None, ''),\n",
       " ('rating_name', 'varchar(64)', 'NO', '', None, '')]"
      ]
     },
     "execution_count": 32,
     "metadata": {},
     "output_type": "execute_result"
    }
   ],
   "source": [
    "print(ratings.columns)\n",
    "query = \"DESCRIBE ratings\"\n",
    "cursor.execute(query)\n",
    "cursor.fetchall()"
   ]
  },
  {
   "cell_type": "code",
   "execution_count": 33,
   "id": "2f3da930-7fbf-4d50-9daf-b470ec21754b",
   "metadata": {},
   "outputs": [
    {
     "data": {
      "text/plain": [
       "[]"
      ]
     },
     "execution_count": 33,
     "metadata": {},
     "output_type": "execute_result"
    }
   ],
   "source": [
    "query = \"INSERT INTO ratings VALUES (%s, %s)\"\n",
    "values = ratings.values.tolist()\n",
    "cursor.executemany(query, values)\n",
    "cursor.fetchall()"
   ]
  },
  {
   "cell_type": "code",
   "execution_count": 35,
   "id": "288ca3fa-6df3-4b93-9707-8fcb7f9858a4",
   "metadata": {},
   "outputs": [
    {
     "name": "stdout",
     "output_type": "stream",
     "text": [
      "Index(['show_id', 'type', 'title', 'date_added', 'release_year', 'rating_id',\n",
      "       'description'],\n",
      "      dtype='object')\n"
     ]
    },
    {
     "data": {
      "text/plain": [
       "[('show_id', 'int', 'NO', 'PRI', None, ''),\n",
       " ('type', \"enum('Movie','TV Show')\", 'NO', '', None, ''),\n",
       " ('title', 'varchar(512)', 'NO', '', None, ''),\n",
       " ('date_added', 'date', 'NO', '', None, ''),\n",
       " ('release_year', 'year', 'NO', '', None, ''),\n",
       " ('rating_id', 'int', 'NO', 'MUL', None, ''),\n",
       " ('description', 'varchar(1024)', 'NO', '', None, '')]"
      ]
     },
     "execution_count": 35,
     "metadata": {},
     "output_type": "execute_result"
    }
   ],
   "source": [
    "print(show_list.columns)\n",
    "query = \"DESCRIBE shows\"\n",
    "cursor.execute(query)\n",
    "cursor.fetchall()"
   ]
  },
  {
   "cell_type": "code",
   "execution_count": 36,
   "id": "1162de42-97ab-4d60-83fd-5e300d32b387",
   "metadata": {},
   "outputs": [
    {
     "data": {
      "text/plain": [
       "[]"
      ]
     },
     "execution_count": 36,
     "metadata": {},
     "output_type": "execute_result"
    }
   ],
   "source": [
    "query = \"INSERT INTO shows VALUES (%s, %s, %s, %s, %s, %s, %s)\"\n",
    "values = show_list.values.tolist()\n",
    "cursor.executemany(query, values)\n",
    "cursor.fetchall()"
   ]
  },
  {
   "cell_type": "code",
   "execution_count": 37,
   "id": "b61ab194-fd5a-4037-9b11-0eadb0fd6603",
   "metadata": {},
   "outputs": [
    {
     "name": "stdout",
     "output_type": "stream",
     "text": [
      "Index(['movie_duration_id', 'show_id', 'minutes'], dtype='object')\n"
     ]
    },
    {
     "data": {
      "text/plain": [
       "[('movie_duration_id', 'int', 'NO', 'PRI', None, ''),\n",
       " ('show_id', 'int', 'NO', 'PRI', None, ''),\n",
       " ('minutes', 'float', 'NO', '', None, '')]"
      ]
     },
     "execution_count": 37,
     "metadata": {},
     "output_type": "execute_result"
    }
   ],
   "source": [
    "print(movie_duration.columns)\n",
    "query = \"DESCRIBE movie_duration\"\n",
    "cursor.execute(query)\n",
    "cursor.fetchall()"
   ]
  },
  {
   "cell_type": "code",
   "execution_count": 38,
   "id": "2536b6ed-7c8d-492a-98c8-2ec4316f53fa",
   "metadata": {},
   "outputs": [
    {
     "data": {
      "text/plain": [
       "[]"
      ]
     },
     "execution_count": 38,
     "metadata": {},
     "output_type": "execute_result"
    }
   ],
   "source": [
    "query = \"INSERT INTO movie_duration VALUES (%s, %s, %s)\"\n",
    "values = movie_duration.values.tolist()\n",
    "cursor.executemany(query, values)\n",
    "cursor.fetchall()"
   ]
  },
  {
   "cell_type": "code",
   "execution_count": 39,
   "id": "3877b646-f16e-4345-8eb3-4f789b6cbc49",
   "metadata": {},
   "outputs": [
    {
     "name": "stdout",
     "output_type": "stream",
     "text": [
      "Index(['tv_show_duration_id', 'show_id', 'seasons'], dtype='object')\n"
     ]
    },
    {
     "data": {
      "text/plain": [
       "[('tv_show_duration_id', 'int', 'NO', 'PRI', None, ''),\n",
       " ('show_id', 'int', 'NO', 'PRI', None, ''),\n",
       " ('seasons', 'int', 'NO', '', None, '')]"
      ]
     },
     "execution_count": 39,
     "metadata": {},
     "output_type": "execute_result"
    }
   ],
   "source": [
    "print(tv_show_duration.columns)\n",
    "query = \"DESCRIBE tv_show_duration\"\n",
    "cursor.execute(query)\n",
    "cursor.fetchall()"
   ]
  },
  {
   "cell_type": "code",
   "execution_count": 40,
   "id": "c96e6e72-e087-452b-9616-013f6adbb7ae",
   "metadata": {},
   "outputs": [
    {
     "data": {
      "text/plain": [
       "[]"
      ]
     },
     "execution_count": 40,
     "metadata": {},
     "output_type": "execute_result"
    }
   ],
   "source": [
    "query = \"INSERT INTO tv_show_duration VALUES (%s, %s, %s)\"\n",
    "values = tv_show_duration.values.tolist()\n",
    "cursor.executemany(query, values)\n",
    "cursor.fetchall()"
   ]
  },
  {
   "cell_type": "code",
   "execution_count": 41,
   "id": "a179bff4-6ce4-465c-8318-5b881cfad516",
   "metadata": {},
   "outputs": [
    {
     "name": "stdout",
     "output_type": "stream",
     "text": [
      "Index(['show_id', 'director_id'], dtype='object')\n"
     ]
    },
    {
     "data": {
      "text/plain": [
       "[('show_id', 'int', 'NO', 'PRI', None, ''),\n",
       " ('director_id', 'int', 'NO', 'PRI', None, '')]"
      ]
     },
     "execution_count": 41,
     "metadata": {},
     "output_type": "execute_result"
    }
   ],
   "source": [
    "print(show_directors.columns)\n",
    "query = \"DESCRIBE show_directors\"\n",
    "cursor.execute(query)\n",
    "cursor.fetchall()"
   ]
  },
  {
   "cell_type": "code",
   "execution_count": 43,
   "id": "cb2b757f-1f7d-4625-80a2-7a6f9a429b92",
   "metadata": {},
   "outputs": [],
   "source": [
    "# query = \"INSERT INTO show_directors VALUES (%s, %s)\"\n",
    "# values = show_directors.values.tolist()\n",
    "# cursor.executemany(query, values)\n",
    "# cursor.fetchall()\n",
    "# returned IntegrityError: 1062 (23000): Duplicate entry '3719-2207' for key 'show_directors.PRIMARY'"
   ]
  },
  {
   "cell_type": "code",
   "execution_count": 49,
   "id": "fce8fca7-392d-47ae-b304-1e49c38ffd90",
   "metadata": {},
   "outputs": [
    {
     "data": {
      "text/html": [
       "<div>\n",
       "<style scoped>\n",
       "    .dataframe tbody tr th:only-of-type {\n",
       "        vertical-align: middle;\n",
       "    }\n",
       "\n",
       "    .dataframe tbody tr th {\n",
       "        vertical-align: top;\n",
       "    }\n",
       "\n",
       "    .dataframe thead th {\n",
       "        text-align: right;\n",
       "    }\n",
       "</style>\n",
       "<table border=\"1\" class=\"dataframe\">\n",
       "  <thead>\n",
       "    <tr style=\"text-align: right;\">\n",
       "      <th></th>\n",
       "      <th>show_id</th>\n",
       "      <th>director_id</th>\n",
       "    </tr>\n",
       "  </thead>\n",
       "  <tbody>\n",
       "    <tr>\n",
       "      <th>4023</th>\n",
       "      <td>3719.0</td>\n",
       "      <td>2207.0</td>\n",
       "    </tr>\n",
       "    <tr>\n",
       "      <th>4024</th>\n",
       "      <td>3719.0</td>\n",
       "      <td>2207.0</td>\n",
       "    </tr>\n",
       "  </tbody>\n",
       "</table>\n",
       "</div>"
      ],
      "text/plain": [
       "      show_id  director_id\n",
       "4023   3719.0       2207.0\n",
       "4024   3719.0       2207.0"
      ]
     },
     "execution_count": 49,
     "metadata": {},
     "output_type": "execute_result"
    }
   ],
   "source": [
    "show_directors.query(\"show_id == 3719\")"
   ]
  },
  {
   "cell_type": "code",
   "execution_count": 52,
   "id": "d01225f6-dcc9-47f7-b26a-3d3294f4ff71",
   "metadata": {},
   "outputs": [
    {
     "name": "stdout",
     "output_type": "stream",
     "text": [
      "(9612, 2)\n"
     ]
    },
    {
     "data": {
      "text/plain": [
       "(9611, 2)"
      ]
     },
     "execution_count": 52,
     "metadata": {},
     "output_type": "execute_result"
    }
   ],
   "source": [
    "print(show_directors.shape)\n",
    "show_directors.drop_duplicates().shape"
   ]
  },
  {
   "cell_type": "code",
   "execution_count": 53,
   "id": "d18cee2a-046b-4210-8632-23f5d250b45b",
   "metadata": {},
   "outputs": [],
   "source": [
    "show_directors = show_directors.drop_duplicates()"
   ]
  },
  {
   "cell_type": "code",
   "execution_count": 54,
   "id": "c17e9525-6cb2-483b-9fb5-1a0d38a013b5",
   "metadata": {},
   "outputs": [
    {
     "data": {
      "text/plain": [
       "[]"
      ]
     },
     "execution_count": 54,
     "metadata": {},
     "output_type": "execute_result"
    }
   ],
   "source": [
    "query = \"INSERT INTO show_directors VALUES (%s, %s)\"\n",
    "values = show_directors.values.tolist()\n",
    "cursor.executemany(query, values)\n",
    "cursor.fetchall()"
   ]
  },
  {
   "cell_type": "code",
   "execution_count": 55,
   "id": "9903a5e8-b2f2-4538-bd47-00a20be9944c",
   "metadata": {},
   "outputs": [
    {
     "name": "stdout",
     "output_type": "stream",
     "text": [
      "Index(['show_id', 'cast_id'], dtype='object')\n"
     ]
    },
    {
     "data": {
      "text/plain": [
       "[('show_id', 'int', 'NO', 'PRI', None, ''),\n",
       " ('cast_id', 'int', 'NO', 'PRI', None, '')]"
      ]
     },
     "execution_count": 55,
     "metadata": {},
     "output_type": "execute_result"
    }
   ],
   "source": [
    "print(show_casts.columns)\n",
    "query = \"DESCRIBE show_casts\"\n",
    "cursor.execute(query)\n",
    "cursor.fetchall()"
   ]
  },
  {
   "cell_type": "code",
   "execution_count": 57,
   "id": "5b74c87c-1dd3-4d56-9eec-69a680692505",
   "metadata": {},
   "outputs": [],
   "source": [
    "# query = \"INSERT INTO show_casts VALUES (%s, %s)\"\n",
    "# values = show_casts.values.tolist()\n",
    "# cursor.executemany(query, values)\n",
    "# cursor.fetchall()\n",
    "# IntegrityError: 1062 (23000): Duplicate entry '1632-8113' for key 'show_casts.PRIMARY'"
   ]
  },
  {
   "cell_type": "code",
   "execution_count": 59,
   "id": "a04effad-ab34-4420-9645-281f4f50283f",
   "metadata": {},
   "outputs": [
    {
     "data": {
      "text/html": [
       "<div>\n",
       "<style scoped>\n",
       "    .dataframe tbody tr th:only-of-type {\n",
       "        vertical-align: middle;\n",
       "    }\n",
       "\n",
       "    .dataframe tbody tr th {\n",
       "        vertical-align: top;\n",
       "    }\n",
       "\n",
       "    .dataframe thead th {\n",
       "        text-align: right;\n",
       "    }\n",
       "</style>\n",
       "<table border=\"1\" class=\"dataframe\">\n",
       "  <thead>\n",
       "    <tr style=\"text-align: right;\">\n",
       "      <th></th>\n",
       "      <th>show_id</th>\n",
       "      <th>cast_id</th>\n",
       "    </tr>\n",
       "  </thead>\n",
       "  <tbody>\n",
       "    <tr>\n",
       "      <th>13213</th>\n",
       "      <td>1632.0</td>\n",
       "      <td>8113.0</td>\n",
       "    </tr>\n",
       "    <tr>\n",
       "      <th>13214</th>\n",
       "      <td>1632.0</td>\n",
       "      <td>8113.0</td>\n",
       "    </tr>\n",
       "  </tbody>\n",
       "</table>\n",
       "</div>"
      ],
      "text/plain": [
       "       show_id  cast_id\n",
       "13213   1632.0   8113.0\n",
       "13214   1632.0   8113.0"
      ]
     },
     "execution_count": 59,
     "metadata": {},
     "output_type": "execute_result"
    }
   ],
   "source": [
    "show_casts.query(\"show_id == 1632 and cast_id == 8113\")"
   ]
  },
  {
   "cell_type": "code",
   "execution_count": 64,
   "id": "b3d33752-3a0f-4b60-854c-31bbbb465731",
   "metadata": {},
   "outputs": [
    {
     "name": "stdout",
     "output_type": "stream",
     "text": [
      "(64963, 2)\n",
      "(64961, 2)\n"
     ]
    }
   ],
   "source": [
    "print(show_casts.shape)\n",
    "print(show_casts.drop_duplicates().shape)"
   ]
  },
  {
   "cell_type": "markdown",
   "id": "8d3937d6-a046-4420-9c58-5c367b91c7be",
   "metadata": {},
   "source": [
    "- there are more duplicates. investigate."
   ]
  },
  {
   "cell_type": "code",
   "execution_count": 69,
   "id": "2ef3658f-7892-44b5-8dfd-1ee67e913090",
   "metadata": {},
   "outputs": [
    {
     "data": {
      "text/html": [
       "<div>\n",
       "<style scoped>\n",
       "    .dataframe tbody tr th:only-of-type {\n",
       "        vertical-align: middle;\n",
       "    }\n",
       "\n",
       "    .dataframe tbody tr th {\n",
       "        vertical-align: top;\n",
       "    }\n",
       "\n",
       "    .dataframe thead th {\n",
       "        text-align: right;\n",
       "    }\n",
       "</style>\n",
       "<table border=\"1\" class=\"dataframe\">\n",
       "  <thead>\n",
       "    <tr style=\"text-align: right;\">\n",
       "      <th></th>\n",
       "      <th>show_id</th>\n",
       "      <th>cast_id</th>\n",
       "    </tr>\n",
       "  </thead>\n",
       "  <tbody>\n",
       "    <tr>\n",
       "      <th>13214</th>\n",
       "      <td>1632.0</td>\n",
       "      <td>8113.0</td>\n",
       "    </tr>\n",
       "    <tr>\n",
       "      <th>44571</th>\n",
       "      <td>6014.0</td>\n",
       "      <td>27532.0</td>\n",
       "    </tr>\n",
       "  </tbody>\n",
       "</table>\n",
       "</div>"
      ],
      "text/plain": [
       "       show_id  cast_id\n",
       "13214   1632.0   8113.0\n",
       "44571   6014.0  27532.0"
      ]
     },
     "execution_count": 69,
     "metadata": {},
     "output_type": "execute_result"
    }
   ],
   "source": [
    "show_casts.query(\"@show_casts.duplicated() == True\")"
   ]
  },
  {
   "cell_type": "code",
   "execution_count": 72,
   "id": "e9d30a0d-5ea3-4907-ac60-b4dd090fc352",
   "metadata": {},
   "outputs": [
    {
     "data": {
      "text/html": [
       "<div>\n",
       "<style scoped>\n",
       "    .dataframe tbody tr th:only-of-type {\n",
       "        vertical-align: middle;\n",
       "    }\n",
       "\n",
       "    .dataframe tbody tr th {\n",
       "        vertical-align: top;\n",
       "    }\n",
       "\n",
       "    .dataframe thead th {\n",
       "        text-align: right;\n",
       "    }\n",
       "</style>\n",
       "<table border=\"1\" class=\"dataframe\">\n",
       "  <thead>\n",
       "    <tr style=\"text-align: right;\">\n",
       "      <th></th>\n",
       "      <th>show_id</th>\n",
       "      <th>cast_id</th>\n",
       "    </tr>\n",
       "  </thead>\n",
       "  <tbody>\n",
       "    <tr>\n",
       "      <th>13213</th>\n",
       "      <td>1632.0</td>\n",
       "      <td>8113.0</td>\n",
       "    </tr>\n",
       "    <tr>\n",
       "      <th>13214</th>\n",
       "      <td>1632.0</td>\n",
       "      <td>8113.0</td>\n",
       "    </tr>\n",
       "    <tr>\n",
       "      <th>44570</th>\n",
       "      <td>6014.0</td>\n",
       "      <td>27532.0</td>\n",
       "    </tr>\n",
       "    <tr>\n",
       "      <th>44571</th>\n",
       "      <td>6014.0</td>\n",
       "      <td>27532.0</td>\n",
       "    </tr>\n",
       "  </tbody>\n",
       "</table>\n",
       "</div>"
      ],
      "text/plain": [
       "       show_id  cast_id\n",
       "13213   1632.0   8113.0\n",
       "13214   1632.0   8113.0\n",
       "44570   6014.0  27532.0\n",
       "44571   6014.0  27532.0"
      ]
     },
     "execution_count": 72,
     "metadata": {},
     "output_type": "execute_result"
    }
   ],
   "source": [
    "show_casts.query(\"(show_id == 1632 and cast_id == 8113) or (show_id == 6014 and cast_id == 27532)\")"
   ]
  },
  {
   "cell_type": "code",
   "execution_count": 73,
   "id": "efa00551-36e6-48d5-a851-4f4d423e0233",
   "metadata": {},
   "outputs": [],
   "source": [
    "show_casts = show_casts.drop_duplicates()"
   ]
  },
  {
   "cell_type": "code",
   "execution_count": 74,
   "id": "f66a8283-3f09-438d-a073-9736f8e53b8e",
   "metadata": {},
   "outputs": [
    {
     "data": {
      "text/plain": [
       "[]"
      ]
     },
     "execution_count": 74,
     "metadata": {},
     "output_type": "execute_result"
    }
   ],
   "source": [
    "query = \"INSERT INTO show_casts VALUES (%s, %s)\"\n",
    "values = show_casts.values.tolist()\n",
    "cursor.executemany(query, values)\n",
    "cursor.fetchall()"
   ]
  },
  {
   "cell_type": "code",
   "execution_count": 75,
   "id": "c917ab81-42ce-4bec-bec8-2cf1399ddb66",
   "metadata": {},
   "outputs": [
    {
     "name": "stdout",
     "output_type": "stream",
     "text": [
      "Index(['show_id', 'category_id'], dtype='object')\n"
     ]
    },
    {
     "data": {
      "text/plain": [
       "[('show_id', 'int', 'NO', 'PRI', None, ''),\n",
       " ('category_id', 'int', 'NO', 'PRI', None, '')]"
      ]
     },
     "execution_count": 75,
     "metadata": {},
     "output_type": "execute_result"
    }
   ],
   "source": [
    "print(show_categories.columns)\n",
    "query = \"DESCRIBE show_categories\"\n",
    "cursor.execute(query)\n",
    "cursor.fetchall()"
   ]
  },
  {
   "cell_type": "code",
   "execution_count": 76,
   "id": "c70c0957-10a5-4f0c-8270-7ab162a0d61b",
   "metadata": {},
   "outputs": [
    {
     "data": {
      "text/plain": [
       "[]"
      ]
     },
     "execution_count": 76,
     "metadata": {},
     "output_type": "execute_result"
    }
   ],
   "source": [
    "query = \"INSERT INTO show_categories VALUES (%s, %s)\"\n",
    "values = show_categories.values.tolist()\n",
    "cursor.executemany(query, values)\n",
    "cursor.fetchall()"
   ]
  },
  {
   "cell_type": "code",
   "execution_count": 77,
   "id": "246a37ce-6ff0-4221-a260-3807343901ec",
   "metadata": {},
   "outputs": [
    {
     "name": "stdout",
     "output_type": "stream",
     "text": [
      "Index(['show_id', 'country_id'], dtype='object')\n"
     ]
    },
    {
     "data": {
      "text/plain": [
       "[('show_id', 'int', 'NO', 'PRI', None, ''),\n",
       " ('country_id', 'int', 'NO', 'PRI', None, '')]"
      ]
     },
     "execution_count": 77,
     "metadata": {},
     "output_type": "execute_result"
    }
   ],
   "source": [
    "print(show_countries.columns)\n",
    "query = \"DESCRIBE show_countries\"\n",
    "cursor.execute(query)\n",
    "cursor.fetchall()"
   ]
  },
  {
   "cell_type": "code",
   "execution_count": 78,
   "id": "92d51e9e-5fd5-48d8-9dc9-7681cd2fc88c",
   "metadata": {},
   "outputs": [
    {
     "data": {
      "text/plain": [
       "[]"
      ]
     },
     "execution_count": 78,
     "metadata": {},
     "output_type": "execute_result"
    }
   ],
   "source": [
    "query = \"INSERT INTO show_countries VALUES (%s, %s)\"\n",
    "values = show_countries.values.tolist()\n",
    "cursor.executemany(query, values)\n",
    "cursor.fetchall()"
   ]
  },
  {
   "cell_type": "code",
   "execution_count": 79,
   "id": "45a7ed3d-43be-4281-807e-3c471fd49729",
   "metadata": {},
   "outputs": [],
   "source": [
    "db.commit()"
   ]
  },
  {
   "cell_type": "code",
   "execution_count": null,
   "id": "d097be20-1684-4b50-b0d8-3d09a2a8737a",
   "metadata": {},
   "outputs": [],
   "source": []
  }
 ],
 "metadata": {
  "kernelspec": {
   "display_name": "Python 3 (ipykernel)",
   "language": "python",
   "name": "python3"
  },
  "language_info": {
   "codemirror_mode": {
    "name": "ipython",
    "version": 3
   },
   "file_extension": ".py",
   "mimetype": "text/x-python",
   "name": "python",
   "nbconvert_exporter": "python",
   "pygments_lexer": "ipython3",
   "version": "3.10.7"
  }
 },
 "nbformat": 4,
 "nbformat_minor": 5
}
